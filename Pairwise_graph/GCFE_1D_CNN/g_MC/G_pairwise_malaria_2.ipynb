{
 "cells": [
  {
   "cell_type": "code",
   "execution_count": 1,
   "id": "20d67456",
   "metadata": {},
   "outputs": [
    {
     "name": "stderr",
     "output_type": "stream",
     "text": [
      "2023-07-25 12:53:46.669633: W tensorflow/stream_executor/platform/default/dso_loader.cc:64] Could not load dynamic library 'libcudart.so.11.0'; dlerror: libcudart.so.11.0: cannot open shared object file: No such file or directory; LD_LIBRARY_PATH: /cm/shared/apps/slurm/18.08.9/lib64/slurm:/cm/shared/apps/slurm/18.08.9/lib64\n",
      "2023-07-25 12:53:46.669678: I tensorflow/stream_executor/cuda/cudart_stub.cc:29] Ignore above cudart dlerror if you do not have a GPU set up on your machine.\n"
     ]
    }
   ],
   "source": [
    "import numpy as np\n",
    "import matplotlib.pyplot as plt\n",
    "from image_graph_util import img_conversion_v7\n",
    "from sklearn.preprocessing import MinMaxScaler\n",
    "import os\n",
    "import glob\n",
    "import tensorflow as tf\n",
    "import tensorflow_datasets as tfds\n",
    "from sklearn.model_selection import train_test_split\n",
    "from emnist import extract_training_samples,extract_test_samples\n",
    "from emnist import list_datasets\n",
    "from sklearn.utils import shuffle\n",
    "import cv2\n",
    "import glob"
   ]
  },
  {
   "cell_type": "code",
   "execution_count": 2,
   "id": "d34e611c",
   "metadata": {},
   "outputs": [],
   "source": [
    "img=img_conversion_v7.image_convert()\n",
    "\n",
    "\n",
    "patch=2"
   ]
  },
  {
   "cell_type": "code",
   "execution_count": 3,
   "id": "e9fe027b",
   "metadata": {
    "scrolled": true
   },
   "outputs": [
    {
     "name": "stderr",
     "output_type": "stream",
     "text": [
      "2023-07-25 12:54:18.437841: W tensorflow/stream_executor/platform/default/dso_loader.cc:64] Could not load dynamic library 'libcuda.so.1'; dlerror: libcuda.so.1: cannot open shared object file: No such file or directory; LD_LIBRARY_PATH: /data/user/home/sahaj432/.local/lib/python3.9/site-packages/cv2/../../lib64:/cm/shared/apps/slurm/18.08.9/lib64/slurm:/cm/shared/apps/slurm/18.08.9/lib64\n",
      "2023-07-25 12:54:18.457436: W tensorflow/stream_executor/cuda/cuda_driver.cc:269] failed call to cuInit: UNKNOWN ERROR (303)\n",
      "2023-07-25 12:54:18.457526: I tensorflow/stream_executor/cuda/cuda_diagnostics.cc:156] kernel driver does not appear to be running on this host (c0188): /proc/driver/nvidia/version does not exist\n",
      "2023-07-25 12:54:18.458437: I tensorflow/core/platform/cpu_feature_guard.cc:151] This TensorFlow binary is optimized with oneAPI Deep Neural Network Library (oneDNN) to use the following CPU instructions in performance-critical operations:  AVX2 AVX512F FMA\n",
      "To enable them in other operations, rebuild TensorFlow with the appropriate compiler flags.\n"
     ]
    }
   ],
   "source": [
    "ds, info = tfds.load('malaria', split='train', shuffle_files=True, with_info=True)"
   ]
  },
  {
   "cell_type": "code",
   "execution_count": 4,
   "id": "f376e8ae",
   "metadata": {},
   "outputs": [],
   "source": [
    "train_images = []\n",
    "train_labels = []\n",
    "\n",
    "for example in ds:\n",
    "    train_images.append(example['image'].numpy())\n",
    "    train_labels.append(example['label'].numpy())"
   ]
  },
  {
   "cell_type": "code",
   "execution_count": 5,
   "id": "3b95fbb6",
   "metadata": {
    "scrolled": true
   },
   "outputs": [
    {
     "name": "stdout",
     "output_type": "stream",
     "text": [
      "27558\n",
      "27558\n"
     ]
    }
   ],
   "source": [
    "print(len(train_images))\n",
    "print(len(train_labels))"
   ]
  },
  {
   "cell_type": "code",
   "execution_count": 6,
   "id": "8cd3e4ec",
   "metadata": {},
   "outputs": [],
   "source": [
    "images=np.array([cv2.resize(i,(100,100), interpolation= cv2.INTER_CUBIC) for i in train_images])\n"
   ]
  },
  {
   "cell_type": "code",
   "execution_count": 7,
   "id": "918a0925",
   "metadata": {
    "scrolled": true
   },
   "outputs": [],
   "source": [
    "images = [i/255 for i in images]\n",
    "labels = np.array(train_labels)"
   ]
  },
  {
   "cell_type": "code",
   "execution_count": 8,
   "id": "79930fa1",
   "metadata": {},
   "outputs": [],
   "source": [
    "images=np.array(images,dtype=\"float16\")"
   ]
  },
  {
   "cell_type": "code",
   "execution_count": 9,
   "id": "46338490",
   "metadata": {},
   "outputs": [
    {
     "data": {
      "text/plain": [
       "(27558, 100, 100, 3)"
      ]
     },
     "execution_count": 9,
     "metadata": {},
     "output_type": "execute_result"
    }
   ],
   "source": [
    "images.shape"
   ]
  },
  {
   "cell_type": "code",
   "execution_count": 10,
   "id": "db7b05aa",
   "metadata": {},
   "outputs": [],
   "source": [
    "train,test,train_lab,test_lab=train_test_split(images,labels,test_size=0.30,random_state=42)\n"
   ]
  },
  {
   "cell_type": "code",
   "execution_count": 11,
   "id": "f1001252",
   "metadata": {},
   "outputs": [
    {
     "name": "stdout",
     "output_type": "stream",
     "text": [
      "(19290, 100, 100, 3)\n",
      "(8268, 100, 100, 3)\n",
      "(19290,)\n",
      "(8268,)\n"
     ]
    }
   ],
   "source": [
    "print(train.shape)\n",
    "print(test.shape)\n",
    "print(train_lab.shape)\n",
    "print(test_lab.shape)"
   ]
  },
  {
   "cell_type": "code",
   "execution_count": 12,
   "id": "375aa7c0",
   "metadata": {},
   "outputs": [],
   "source": [
    "regular_train=train\n",
    "reg_train_label=train_lab"
   ]
  },
  {
   "cell_type": "code",
   "execution_count": 13,
   "id": "dd49a4b2",
   "metadata": {},
   "outputs": [],
   "source": [
    "regular_val,regular_test,reg_val_label,reg_test_label=train_test_split(test,test_lab,test_size=0.50,random_state=42)\n"
   ]
  },
  {
   "cell_type": "code",
   "execution_count": 14,
   "id": "b2010414",
   "metadata": {
    "scrolled": true
   },
   "outputs": [
    {
     "name": "stdout",
     "output_type": "stream",
     "text": [
      "(19290, 100, 100, 3)\n",
      "(4134, 100, 100, 3)\n",
      "(4134, 100, 100, 3)\n"
     ]
    }
   ],
   "source": [
    "print(regular_train.shape)\n",
    "print(regular_val.shape)\n",
    "print(regular_test.shape)\n",
    "\n"
   ]
  },
  {
   "cell_type": "code",
   "execution_count": 15,
   "id": "23a5b835",
   "metadata": {
    "scrolled": true
   },
   "outputs": [
    {
     "name": "stdout",
     "output_type": "stream",
     "text": [
      "Converting ==> 4134  \r"
     ]
    }
   ],
   "source": [
    "reg_train_patch=img.to_patcharray(regular_train[:],patch_size=(patch,patch))\n",
    "reg_val_patch=img.to_patcharray(regular_val[:],patch_size=(patch,patch))\n",
    "reg_test_patch=img.to_patcharray(regular_test[:],patch_size=(patch,patch))\n",
    "\n"
   ]
  },
  {
   "cell_type": "code",
   "execution_count": 16,
   "id": "576f8299",
   "metadata": {},
   "outputs": [
    {
     "name": "stdout",
     "output_type": "stream",
     "text": [
      "(19290, 3, 2500, 2, 2)\n",
      "(4134, 3, 2500, 2, 2)\n",
      "(4134, 3, 2500, 2, 2)\n"
     ]
    }
   ],
   "source": [
    "print(reg_train_patch.shape)\n",
    "print(reg_val_patch.shape)\n",
    "print(reg_test_patch.shape)"
   ]
  },
  {
   "cell_type": "code",
   "execution_count": 17,
   "id": "60839dd8",
   "metadata": {},
   "outputs": [
    {
     "name": "stdout",
     "output_type": "stream",
     "text": [
      "[0 1]\n"
     ]
    }
   ],
   "source": [
    "from collections import Counter\n",
    "#print((Counter(y_val)))\n",
    "print(np.sort(list(Counter(reg_train_label).keys())))\n",
    "classes=len(np.sort(list(Counter(reg_train_label).keys())))"
   ]
  },
  {
   "cell_type": "markdown",
   "id": "3f6b0cea",
   "metadata": {},
   "source": [
    "# Gershgorien image analysis"
   ]
  },
  {
   "cell_type": "code",
   "execution_count": 18,
   "id": "5734680d",
   "metadata": {},
   "outputs": [],
   "source": [
    "import networkx as nx\n",
    "\n",
    "\n",
    "\n",
    "def compute_lap_to_gersh(df_in): #compute_lap_to_gersh\n",
    "    adj_ary=np.ones(reg_train_patch.shape[-2]*reg_train_patch.shape[-1])-np.eye(reg_train_patch.shape[-2]*reg_train_patch.shape[-1])\n",
    "\n",
    "    gersh_c=np.tile(np.sum(adj_ary,axis=0),(reg_train_patch.shape[1],reg_train_patch.shape[2]))\n",
    "\n",
    "    edge=np.array(np.where(adj_ary==1))\n",
    "    ed0=edge[0]\n",
    "    ed1=edge[1]\n",
    "    no_img,no_ch, no_patch,patch_x,patch_y=df_in.shape\n",
    "    temp=[]\n",
    "    for i in range(no_img):\n",
    "        i_ary = np.eye(patch_x*patch_y)\n",
    "        i_ary4d=i_ary[np.newaxis,np.newaxis,:,:]\n",
    "        weighted_adj=np.zeros((no_ch, no_patch,patch_x*patch_y,patch_x*patch_y))\n",
    "        df=df_in[i].reshape(no_ch,no_patch,-1)\n",
    "        pixel1=df[:,:,ed0]\n",
    "        pixel2=df[:,:,ed1]  \n",
    "        edu_distance=np.sqrt((pixel1-pixel2)**2)+ 10**(-8)\n",
    "        weighted_adj[:,:,ed0,ed1]=edu_distance\n",
    "        sum_r=np.sum(weighted_adj,axis=2)\n",
    "        gersh_r=sum_r.reshape(no_ch,-1)\n",
    "        gersh_total=np.vstack((gersh_r[0],gersh_c[0],gersh_r[1],gersh_c[1],gersh_r[2],gersh_c[2]))\n",
    "        gersh_total=gersh_total.reshape(no_ch,2,gersh_c.shape[-1])\n",
    "        temp.append(gersh_total)\n",
    "    return temp\n",
    "\n"
   ]
  },
  {
   "cell_type": "code",
   "execution_count": 19,
   "id": "dd21355d",
   "metadata": {},
   "outputs": [
    {
     "name": "stdout",
     "output_type": "stream",
     "text": [
      "Number of CPU cores: 48\n"
     ]
    }
   ],
   "source": [
    "from multiprocessing import Pool\n",
    "import multiprocessing\n",
    "\n",
    "\n",
    "\n",
    "num_cores = multiprocessing.cpu_count()\n",
    "print(\"Number of CPU cores:\", num_cores)\n"
   ]
  },
  {
   "cell_type": "code",
   "execution_count": 20,
   "id": "d889e571",
   "metadata": {},
   "outputs": [],
   "source": [
    "train_patch1=np.array_split(reg_train_patch[:], num_cores)\n",
    "val_patch1=np.array_split(reg_val_patch[:], num_cores)\n",
    "test_patch1=np.array_split(reg_test_patch[:], num_cores)"
   ]
  },
  {
   "cell_type": "code",
   "execution_count": 21,
   "id": "2cd53696",
   "metadata": {},
   "outputs": [
    {
     "name": "stdout",
     "output_type": "stream",
     "text": [
      "48\n",
      "48\n",
      "48\n"
     ]
    }
   ],
   "source": [
    "print(len(train_patch1))\n",
    "print(len(val_patch1))\n",
    "print(len(test_patch1))"
   ]
  },
  {
   "cell_type": "code",
   "execution_count": 22,
   "id": "595daae4",
   "metadata": {},
   "outputs": [],
   "source": [
    "num_matrices, num_channels, num_patches, height, width = train_patch1[0].shape"
   ]
  },
  {
   "cell_type": "code",
   "execution_count": 23,
   "id": "fcebb481",
   "metadata": {
    "scrolled": true
   },
   "outputs": [],
   "source": [
    "with Pool(processes=num_cores) as pool:\n",
    "        # Define a list of numbers\n",
    "    train_p = train_patch1\n",
    "    \n",
    "        # Apply the square function to each number using the pool\n",
    "    g_train=pool.map(compute_lap_to_gersh,train_p)\n",
    "pool.close()\n",
    "\n",
    "\n",
    "    \n",
    "        #results = pool.map(calculate_visibility, numbers)\n"
   ]
  },
  {
   "cell_type": "code",
   "execution_count": 24,
   "id": "ca244dae",
   "metadata": {},
   "outputs": [],
   "source": [
    "temp1=[]\n",
    "for submatrix in g_train:\n",
    "    temp1.extend(submatrix)\n"
   ]
  },
  {
   "cell_type": "code",
   "execution_count": 25,
   "id": "d087f2ba",
   "metadata": {},
   "outputs": [],
   "source": [
    "gersh_train= np.array([np.asarray(submatrix) for submatrix in temp1])\n"
   ]
  },
  {
   "cell_type": "code",
   "execution_count": 26,
   "id": "a03ea51b",
   "metadata": {},
   "outputs": [
    {
     "name": "stdout",
     "output_type": "stream",
     "text": [
      "d\n"
     ]
    }
   ],
   "source": [
    "print(\"d\")"
   ]
  },
  {
   "cell_type": "code",
   "execution_count": 27,
   "id": "c43ee537",
   "metadata": {
    "scrolled": true
   },
   "outputs": [],
   "source": [
    "with Pool(processes=num_cores) as pool1:\n",
    "        # Define a list of numbers\n",
    "    val_p = val_patch1\n",
    "    \n",
    "        # Apply the square function to each number using the pool\n",
    "    g_val=pool1.map(compute_lap_to_gersh,val_patch1)    \n",
    "pool1.close()\n",
    "\n"
   ]
  },
  {
   "cell_type": "code",
   "execution_count": 28,
   "id": "d66c6523",
   "metadata": {},
   "outputs": [],
   "source": [
    "temp2=[]\n",
    "for submatrix in g_val:\n",
    "    temp2.extend(submatrix)\n"
   ]
  },
  {
   "cell_type": "code",
   "execution_count": 29,
   "id": "8950a8d8",
   "metadata": {},
   "outputs": [],
   "source": [
    "gersh_val= np.array([np.asarray(submatrix) for submatrix in temp2])\n"
   ]
  },
  {
   "cell_type": "code",
   "execution_count": 30,
   "id": "915893f5",
   "metadata": {},
   "outputs": [
    {
     "name": "stdout",
     "output_type": "stream",
     "text": [
      "d\n"
     ]
    }
   ],
   "source": [
    "print(\"d\")"
   ]
  },
  {
   "cell_type": "code",
   "execution_count": 31,
   "id": "5e65520e",
   "metadata": {
    "scrolled": true
   },
   "outputs": [],
   "source": [
    "with Pool(processes=num_cores) as pool2:\n",
    "        # Define a list of numbers\n",
    "    test_p = test_patch1\n",
    "    \n",
    "        # Apply the square function to each number using the pool\n",
    "    g_test=pool2.map(compute_lap_to_gersh,test_patch1) \n",
    "pool2.close()\n"
   ]
  },
  {
   "cell_type": "code",
   "execution_count": 32,
   "id": "f4128788",
   "metadata": {},
   "outputs": [],
   "source": [
    "temp3=[]\n",
    "for submatrix in g_test:\n",
    "    temp3.extend(submatrix)\n"
   ]
  },
  {
   "cell_type": "code",
   "execution_count": 33,
   "id": "e8083ae4",
   "metadata": {},
   "outputs": [],
   "source": [
    "gersh_test= np.array([np.asarray(submatrix) for submatrix in temp3])\n"
   ]
  },
  {
   "cell_type": "markdown",
   "id": "5b348698",
   "metadata": {
    "scrolled": true
   },
   "source": [
    "gersh_train=np.array(img1.to_gridlaparray(train_patch))\n",
    "gersh_val=np.array(img1.to_gridlaparray(val_patch))\n",
    "gersh_test=np.array(img1.to_gridlaparray(test_patch))"
   ]
  },
  {
   "cell_type": "code",
   "execution_count": 34,
   "id": "089c2923",
   "metadata": {},
   "outputs": [
    {
     "name": "stdout",
     "output_type": "stream",
     "text": [
      "(19290, 3, 2, 10000)\n",
      "(4134, 3, 2, 10000)\n",
      "(4134, 3, 2, 10000)\n"
     ]
    }
   ],
   "source": [
    "print(gersh_train.shape)\n",
    "print(gersh_val.shape)\n",
    "print(gersh_test.shape)"
   ]
  },
  {
   "cell_type": "code",
   "execution_count": 35,
   "id": "d171d0cc",
   "metadata": {},
   "outputs": [],
   "source": [
    "rgersh_train=np.moveaxis(gersh_train,1,-1)\n",
    "rgersh_val=np.moveaxis(gersh_val,1,-1)\n",
    "rgersh_test=np.moveaxis(gersh_test,1,-1)"
   ]
  },
  {
   "cell_type": "code",
   "execution_count": 36,
   "id": "a28b6ab9",
   "metadata": {},
   "outputs": [
    {
     "name": "stdout",
     "output_type": "stream",
     "text": [
      "(19290, 2, 10000, 3)\n",
      "(4134, 2, 10000, 3)\n",
      "(4134, 2, 10000, 3)\n"
     ]
    }
   ],
   "source": [
    "print(rgersh_train.shape)\n",
    "print(rgersh_val.shape)\n",
    "print(rgersh_test.shape)"
   ]
  },
  {
   "cell_type": "code",
   "execution_count": 37,
   "id": "9900ffef",
   "metadata": {},
   "outputs": [],
   "source": [
    "x_train=rgersh_train.reshape(rgersh_train.shape[0],-1)\n",
    "x_val=rgersh_val.reshape(rgersh_val.shape[0],-1)\n",
    "x_test=rgersh_test.reshape(rgersh_test.shape[0],-1)"
   ]
  },
  {
   "cell_type": "code",
   "execution_count": 38,
   "id": "bf677553",
   "metadata": {},
   "outputs": [
    {
     "name": "stdout",
     "output_type": "stream",
     "text": [
      "(19290, 60000)\n",
      "(4134, 60000)\n",
      "(4134, 60000)\n"
     ]
    }
   ],
   "source": [
    "print(x_train.shape)\n",
    "print(x_val.shape)\n",
    "print(x_test.shape)"
   ]
  },
  {
   "cell_type": "code",
   "execution_count": 39,
   "id": "5a79b3e2",
   "metadata": {},
   "outputs": [],
   "source": [
    "input_shape = (x_train.shape[1],1)\n",
    "num_classes = classes\n",
    "model2 = tf.keras.models.Sequential()\n",
    "model2.add(tf.keras.layers.Conv1D(filters= 32, kernel_size=3, activation='relu',padding='same',input_shape= input_shape))\n",
    "model2.add(tf.keras.layers.AveragePooling1D())\n",
    "model2.add(tf.keras.layers.Conv1D(filters=32, kernel_size=3,padding='same',activation='relu'))\n",
    "model2.add(tf.keras.layers.AveragePooling1D())\n",
    "model2.add(tf.keras.layers.Conv1D(filters=32, kernel_size=3,padding='same',activation='relu'))\n",
    "model2.add(tf.keras.layers.AveragePooling1D())\n",
    "model2.add(tf.keras.layers.Flatten())\n",
    "model2.add(tf.keras.layers.Dense(512, activation='relu'))\n",
    "model2.add(tf.keras.layers.Dropout(0.1))\n",
    "model2.add(tf.keras.layers.Dense(512, activation='relu'))\n",
    "model2.add(tf.keras.layers.Dense(num_classes, activation='softmax'))\n",
    "\n",
    "model2.compile(loss='SparseCategoricalCrossentropy', optimizer='Adam', metrics=['acc'])\n"
   ]
  },
  {
   "cell_type": "code",
   "execution_count": 40,
   "id": "61f741d2",
   "metadata": {
    "scrolled": true
   },
   "outputs": [
    {
     "name": "stdout",
     "output_type": "stream",
     "text": [
      "Model: \"sequential\"\n",
      "_________________________________________________________________\n",
      " Layer (type)                Output Shape              Param #   \n",
      "=================================================================\n",
      " conv1d (Conv1D)             (None, 60000, 32)         128       \n",
      "                                                                 \n",
      " average_pooling1d (AverageP  (None, 30000, 32)        0         \n",
      " ooling1D)                                                       \n",
      "                                                                 \n",
      " conv1d_1 (Conv1D)           (None, 30000, 32)         3104      \n",
      "                                                                 \n",
      " average_pooling1d_1 (Averag  (None, 15000, 32)        0         \n",
      " ePooling1D)                                                     \n",
      "                                                                 \n",
      " conv1d_2 (Conv1D)           (None, 15000, 32)         3104      \n",
      "                                                                 \n",
      " average_pooling1d_2 (Averag  (None, 7500, 32)         0         \n",
      " ePooling1D)                                                     \n",
      "                                                                 \n",
      " flatten (Flatten)           (None, 240000)            0         \n",
      "                                                                 \n",
      " dense (Dense)               (None, 512)               122880512 \n",
      "                                                                 \n",
      " dropout (Dropout)           (None, 512)               0         \n",
      "                                                                 \n",
      " dense_1 (Dense)             (None, 512)               262656    \n",
      "                                                                 \n",
      " dense_2 (Dense)             (None, 2)                 1026      \n",
      "                                                                 \n",
      "=================================================================\n",
      "Total params: 123,150,530\n",
      "Trainable params: 123,150,530\n",
      "Non-trainable params: 0\n",
      "_________________________________________________________________\n"
     ]
    }
   ],
   "source": [
    "model2.summary()"
   ]
  },
  {
   "cell_type": "code",
   "execution_count": 41,
   "id": "2c42b2b9",
   "metadata": {},
   "outputs": [
    {
     "name": "stdout",
     "output_type": "stream",
     "text": [
      "Epoch 1/10\n",
      "603/603 [==============================] - 289s 478ms/step - loss: 0.6568 - acc: 0.6976 - val_loss: 0.2280 - val_acc: 0.9231\n",
      "Epoch 2/10\n",
      "603/603 [==============================] - 291s 482ms/step - loss: 0.1895 - acc: 0.9348 - val_loss: 0.2397 - val_acc: 0.9190\n",
      "Epoch 3/10\n",
      "603/603 [==============================] - 290s 481ms/step - loss: 0.1139 - acc: 0.9614 - val_loss: 0.2006 - val_acc: 0.9357\n",
      "Epoch 4/10\n",
      "603/603 [==============================] - 288s 478ms/step - loss: 0.0456 - acc: 0.9850 - val_loss: 0.3166 - val_acc: 0.9238\n",
      "Epoch 5/10\n",
      "603/603 [==============================] - 292s 485ms/step - loss: 0.0198 - acc: 0.9937 - val_loss: 0.4054 - val_acc: 0.9330\n",
      "Epoch 6/10\n",
      "603/603 [==============================] - 301s 499ms/step - loss: 0.0109 - acc: 0.9968 - val_loss: 0.3989 - val_acc: 0.9325\n",
      "Epoch 7/10\n",
      "603/603 [==============================] - 297s 493ms/step - loss: 0.0112 - acc: 0.9967 - val_loss: 0.4421 - val_acc: 0.9299\n",
      "Epoch 8/10\n",
      "603/603 [==============================] - 297s 492ms/step - loss: 0.0132 - acc: 0.9954 - val_loss: 0.5528 - val_acc: 0.9311\n",
      "Epoch 9/10\n",
      "603/603 [==============================] - 297s 493ms/step - loss: 0.0032 - acc: 0.9992 - val_loss: 0.5583 - val_acc: 0.9376\n",
      "Epoch 10/10\n",
      "603/603 [==============================] - 289s 480ms/step - loss: 0.0192 - acc: 0.9947 - val_loss: 0.5280 - val_acc: 0.9313\n"
     ]
    }
   ],
   "source": [
    "history_log=model2.fit(x_train, reg_train_label, epochs=10,verbose=1,validation_data=(x_val, reg_val_label))\n"
   ]
  },
  {
   "cell_type": "code",
   "execution_count": 42,
   "id": "f91e3ce2",
   "metadata": {
    "scrolled": false
   },
   "outputs": [
    {
     "name": "stdout",
     "output_type": "stream",
     "text": [
      "130/130 [==============================] - 9s 70ms/step - loss: 0.6124 - acc: 0.9267\n",
      " Model loss on the test set: 0.6123838424682617\n",
      " Model accuracy on the test set: 92.67053604125977\n"
     ]
    }
   ],
   "source": [
    "loss, accuracy = model2.evaluate(x_test, reg_test_label)\n",
    "print(f' Model loss on the test set: {loss}')\n",
    "print(f' Model accuracy on the test set: {100*accuracy}')"
   ]
  },
  {
   "cell_type": "code",
   "execution_count": 43,
   "id": "c5ceb4b6",
   "metadata": {},
   "outputs": [],
   "source": [
    "predictions = model2.predict(x_test)\n",
    "pred_arg = np.argmax(predictions, axis=1)"
   ]
  },
  {
   "cell_type": "code",
   "execution_count": 44,
   "id": "fe4b2358",
   "metadata": {},
   "outputs": [
    {
     "name": "stdout",
     "output_type": "stream",
     "text": [
      "cnf_matrix_2.0_70\n",
      "\n",
      "[[1924  110]\n",
      " [ 193 1907]]\n"
     ]
    }
   ],
   "source": [
    "from sklearn.metrics import confusion_matrix\n",
    "cnf_matrix=confusion_matrix(reg_test_label,pred_arg)\n",
    "print(\"cnf_matrix_2.0_70\")\n",
    "print(\"\")\n",
    "print(cnf_matrix)"
   ]
  },
  {
   "cell_type": "code",
   "execution_count": 45,
   "id": "da91a9dc",
   "metadata": {},
   "outputs": [],
   "source": [
    "from sklearn.metrics import accuracy_score, recall_score,precision_score,roc_auc_score,roc_curve,f1_score\n"
   ]
  },
  {
   "cell_type": "code",
   "execution_count": 46,
   "id": "faa0fdd1",
   "metadata": {},
   "outputs": [
    {
     "name": "stdout",
     "output_type": "stream",
     "text": [
      "0.9267053701015965\n",
      "0.926704130630515\n",
      "0.9267053701015965\n",
      "0.9274408116415915\n"
     ]
    }
   ],
   "source": [
    "print(accuracy_score(reg_test_label, pred_arg))\n",
    "print(f1_score(reg_test_label,pred_arg,average='macro'))\n",
    "print(recall_score(reg_test_label, pred_arg, average=\"weighted\"))\n",
    "print(precision_score(reg_test_label, pred_arg, average=\"weighted\"))"
   ]
  },
  {
   "cell_type": "code",
   "execution_count": null,
   "id": "7e15935d",
   "metadata": {},
   "outputs": [],
   "source": []
  },
  {
   "cell_type": "code",
   "execution_count": null,
   "id": "843037a1",
   "metadata": {},
   "outputs": [],
   "source": []
  },
  {
   "cell_type": "code",
   "execution_count": null,
   "id": "cdf79825",
   "metadata": {},
   "outputs": [],
   "source": []
  },
  {
   "cell_type": "code",
   "execution_count": null,
   "id": "45cd120a",
   "metadata": {},
   "outputs": [],
   "source": []
  }
 ],
 "metadata": {
  "anaconda-cloud": {},
  "kernelspec": {
   "display_name": "Python [conda env:root] *",
   "language": "python",
   "name": "conda-root-py"
  },
  "language_info": {
   "codemirror_mode": {
    "name": "ipython",
    "version": 3
   },
   "file_extension": ".py",
   "mimetype": "text/x-python",
   "name": "python",
   "nbconvert_exporter": "python",
   "pygments_lexer": "ipython3",
   "version": "3.9.12"
  }
 },
 "nbformat": 4,
 "nbformat_minor": 5
}
