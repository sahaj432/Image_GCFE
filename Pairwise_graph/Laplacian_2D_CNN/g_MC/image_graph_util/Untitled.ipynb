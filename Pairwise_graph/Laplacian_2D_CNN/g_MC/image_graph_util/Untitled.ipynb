{
 "cells": [
  {
   "cell_type": "code",
   "execution_count": 9,
   "id": "9e084a2f",
   "metadata": {},
   "outputs": [
    {
     "name": "stdout",
     "output_type": "stream",
     "text": [
      "Generated images shape: (10, 101, 500)\n"
     ]
    }
   ],
   "source": [
    "import numpy as np\n",
    "from bresenham import bresenham\n",
    "import matplotlib.pyplot as plt\n",
    "\n",
    "class SignalToImageConverter:\n",
    "    def __init__(self, signal, resolution, dummy):\n",
    "        self.resolution = resolution\n",
    "        self.dummy = dummy\n",
    "        self.signal = signal\n",
    "        self.signal_length = len(signal[0])\n",
    "    \n",
    "    def signal_to_pair(self):\n",
    "        transform_data = []\n",
    "        for sample in self.signal:\n",
    "            y1 = np.searchsorted(np.arange(0, 1 + self.resolution, self.resolution), sample[:-1]) - 1\n",
    "            y2 = np.searchsorted(np.arange(0, 1 + self.resolution, self.resolution), sample[1:]) - 1\n",
    "            temp_x = list(zip(np.arange(0, self.signal_length * self.dummy, self.dummy)[:-1], y1,\n",
    "                              np.arange(self.dummy, self.signal_length * self.dummy + 1, self.dummy)[:-1], y2))\n",
    "            transform_data.append(temp_x)\n",
    "        return transform_data\n",
    "    \n",
    "    def bresenham_pair_to_image(self, convert):\n",
    "        img_x_ax = np.arange(0, self.signal_length * self.dummy)\n",
    "        img_y_ax = np.arange(0, 1 + self.resolution, self.resolution)\n",
    "        zeros = np.zeros((len(img_y_ax), len(img_x_ax)))\n",
    "        final_images = []\n",
    "        for sample in convert:\n",
    "            zeros.fill(0)  # Reset the values for each sample\n",
    "            for pair in sample:\n",
    "                x0, y0, x1, y1 = pair\n",
    "                bresenham_output = list(bresenham(x0, y0, x1, y1))\n",
    "                img_x, img_y = zip(*bresenham_output)\n",
    "                zeros[img_y, img_x] = 255\n",
    "            final_images.append(np.flipud(zeros))\n",
    "        return np.array(final_images)\n",
    "\n",
    "\n",
    "# Example usage:\n",
    "signal = np.random.rand(10, 100)  # Replace with your signal data\n",
    "resolution = 0.01  # Replace with the desired resolution\n",
    "dummy = 5  # Replace with the desired dummy value\n",
    "\n",
    "converter = SignalToImageConverter(signal, resolution, dummy)\n",
    "paired_data = converter.signal_to_pair()\n",
    "images = converter.bresenham_pair_to_image(paired_data)\n",
    "\n",
    "print('Generated images shape:', images.shape)\n"
   ]
  },
  {
   "cell_type": "code",
   "execution_count": 10,
   "id": "6a67fce9",
   "metadata": {},
   "outputs": [
    {
     "data": {
      "text/plain": [
       "<matplotlib.image.AxesImage at 0x2aab144433d0>"
      ]
     },
     "execution_count": 10,
     "metadata": {},
     "output_type": "execute_result"
    },
    {
     "data": {
      "image/png": "[encoded data removed]",
      "text/plain": [
       "<Figure size 432x288 with 1 Axes>"
      ]
     },
     "metadata": {
      "needs_background": "light"
     },
     "output_type": "display_data"
    }
   ],
   "source": [
    "plt.imshow(images[1])"
   ]
  },
  {
   "cell_type": "code",
   "execution_count": null,
   "id": "30f17f67",
   "metadata": {},
   "outputs": [],
   "source": []
  }
 ],
 "metadata": {
  "anaconda-cloud": {},
  "kernelspec": {
   "display_name": "Python [conda env:root] *",
   "language": "python",
   "name": "conda-root-py"
  },
  "language_info": {
   "codemirror_mode": {
    "name": "ipython",
    "version": 3
   },
   "file_extension": ".py",
   "mimetype": "text/x-python",
   "name": "python",
   "nbconvert_exporter": "python",
   "pygments_lexer": "ipython3",
   "version": "3.9.12"
  }
 },
 "nbformat": 4,
 "nbformat_minor": 5
}
