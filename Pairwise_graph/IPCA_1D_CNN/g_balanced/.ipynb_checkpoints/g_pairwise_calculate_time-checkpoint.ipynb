{
 "cells": [
  {
   "cell_type": "code",
   "execution_count": 1,
   "id": "20d67456",
   "metadata": {},
   "outputs": [
    {
     "name": "stderr",
     "output_type": "stream",
     "text": [
      "2023-07-24 13:30:50.969493: I tensorflow/core/platform/cpu_feature_guard.cc:193] This TensorFlow binary is optimized with oneAPI Deep Neural Network Library (oneDNN) to use the following CPU instructions in performance-critical operations:  AVX2 AVX512F AVX512_VNNI FMA\n",
      "To enable them in other operations, rebuild TensorFlow with the appropriate compiler flags.\n",
      "2023-07-24 13:30:53.849271: I tensorflow/core/util/port.cc:104] oneDNN custom operations are on. You may see slightly different numerical results due to floating-point round-off errors from different computation orders. To turn them off, set the environment variable `TF_ENABLE_ONEDNN_OPTS=0`.\n",
      "2023-07-24 13:30:55.596332: W tensorflow/compiler/xla/stream_executor/platform/default/dso_loader.cc:64] Could not load dynamic library 'libcudart.so.11.0'; dlerror: libcudart.so.11.0: cannot open shared object file: No such file or directory; LD_LIBRARY_PATH: /cm/shared/apps/slurm/18.08.9/lib64/slurm:/cm/shared/apps/slurm/18.08.9/lib64\n",
      "2023-07-24 13:30:55.596367: I tensorflow/compiler/xla/stream_executor/cuda/cudart_stub.cc:29] Ignore above cudart dlerror if you do not have a GPU set up on your machine.\n",
      "2023-07-24 13:31:10.702144: W tensorflow/compiler/xla/stream_executor/platform/default/dso_loader.cc:64] Could not load dynamic library 'libnvinfer.so.7'; dlerror: libnvinfer.so.7: cannot open shared object file: No such file or directory; LD_LIBRARY_PATH: /cm/shared/apps/slurm/18.08.9/lib64/slurm:/cm/shared/apps/slurm/18.08.9/lib64\n",
      "2023-07-24 13:31:10.702241: W tensorflow/compiler/xla/stream_executor/platform/default/dso_loader.cc:64] Could not load dynamic library 'libnvinfer_plugin.so.7'; dlerror: libnvinfer_plugin.so.7: cannot open shared object file: No such file or directory; LD_LIBRARY_PATH: /cm/shared/apps/slurm/18.08.9/lib64/slurm:/cm/shared/apps/slurm/18.08.9/lib64\n",
      "2023-07-24 13:31:10.702250: W tensorflow/compiler/tf2tensorrt/utils/py_utils.cc:38] TF-TRT Warning: Cannot dlopen some TensorRT libraries. If you would like to use Nvidia GPU with TensorRT, please make sure the missing libraries mentioned above are installed properly.\n"
     ]
    }
   ],
   "source": [
    "import numpy as np\n",
    "import matplotlib.pyplot as plt\n",
    "from image_graph_util import img_conversion_v7\n",
    "from sklearn.preprocessing import MinMaxScaler\n",
    "import os\n",
    "import glob\n",
    "import tensorflow as tf\n",
    "import tensorflow_datasets as tfds\n",
    "from sklearn.model_selection import train_test_split\n",
    "from emnist import extract_training_samples,extract_test_samples\n",
    "from emnist import list_datasets\n",
    "from sklearn.utils import shuffle"
   ]
  },
  {
   "cell_type": "code",
   "execution_count": 2,
   "id": "d34e611c",
   "metadata": {},
   "outputs": [],
   "source": [
    "img=img_conversion_v7.image_convert()\n",
    "\n",
    "patch=2\n"
   ]
  },
  {
   "cell_type": "code",
   "execution_count": 3,
   "id": "e6f1f33d",
   "metadata": {},
   "outputs": [
    {
     "name": "stdout",
     "output_type": "stream",
     "text": [
      "['balanced', 'byclass', 'bymerge', 'digits', 'letters', 'mnist']\n"
     ]
    }
   ],
   "source": [
    "print(list_datasets())"
   ]
  },
  {
   "cell_type": "code",
   "execution_count": 4,
   "id": "9547fee3",
   "metadata": {},
   "outputs": [],
   "source": [
    "train_images,train_labels=extract_training_samples('balanced')"
   ]
  },
  {
   "cell_type": "code",
   "execution_count": 5,
   "id": "cec54ba1",
   "metadata": {},
   "outputs": [],
   "source": [
    "test_images, test_labels = extract_test_samples('balanced')"
   ]
  },
  {
   "cell_type": "code",
   "execution_count": 6,
   "id": "951b5ba8",
   "metadata": {},
   "outputs": [],
   "source": [
    "#normalization of train dataset\n",
    "ftrain_images = np.float16(np.array(train_images)/255)\n",
    "train_labels = np.float16(np.array(train_labels))"
   ]
  },
  {
   "cell_type": "code",
   "execution_count": 7,
   "id": "b6371893",
   "metadata": {},
   "outputs": [],
   "source": [
    "#normalization of test dataset\n",
    "ftest_images = np.float16(np.array(test_images)/255)\n",
    "test_labels = np.float16(np.array(test_labels))"
   ]
  },
  {
   "cell_type": "code",
   "execution_count": 8,
   "id": "7ccca09c",
   "metadata": {},
   "outputs": [
    {
     "name": "stdout",
     "output_type": "stream",
     "text": [
      "(112800, 28, 28)\n",
      "(18800, 28, 28)\n"
     ]
    }
   ],
   "source": [
    "print(ftrain_images.shape)\n",
    "print(ftest_images.shape)"
   ]
  },
  {
   "cell_type": "code",
   "execution_count": 9,
   "id": "451629f0",
   "metadata": {},
   "outputs": [],
   "source": [
    "# making 28,28,1\n",
    "rtrain_images=ftrain_images.reshape(ftrain_images.shape[0],ftrain_images.shape[1],ftrain_images.shape[2],1)\n",
    "rtest_images=ftest_images.reshape(ftest_images.shape[0],ftest_images.shape[1],ftest_images.shape[2],1)"
   ]
  },
  {
   "cell_type": "code",
   "execution_count": 10,
   "id": "184c03de",
   "metadata": {},
   "outputs": [
    {
     "name": "stdout",
     "output_type": "stream",
     "text": [
      "(112800, 28, 28, 1)\n",
      "(18800, 28, 28, 1)\n"
     ]
    }
   ],
   "source": [
    "print(rtrain_images.shape)\n",
    "print(rtest_images.shape)"
   ]
  },
  {
   "cell_type": "code",
   "execution_count": 11,
   "id": "dd49a4b2",
   "metadata": {},
   "outputs": [],
   "source": [
    "reg_val,reg_test,reg_val_label,reg_test_label=train_test_split(rtest_images,test_labels,test_size=0.50,random_state=42)\n"
   ]
  },
  {
   "cell_type": "code",
   "execution_count": 12,
   "id": "548fdbbf",
   "metadata": {},
   "outputs": [],
   "source": [
    "reg_train=rtrain_images\n",
    "reg_train_label=train_labels\n"
   ]
  },
  {
   "cell_type": "code",
   "execution_count": 13,
   "id": "b2010414",
   "metadata": {
    "scrolled": true
   },
   "outputs": [
    {
     "name": "stdout",
     "output_type": "stream",
     "text": [
      "(112800, 28, 28, 1)\n",
      "(9400, 28, 28, 1)\n",
      "(9400, 28, 28, 1)\n",
      "(112800,)\n",
      "(9400,)\n",
      "(9400,)\n"
     ]
    }
   ],
   "source": [
    "print(reg_train.shape)\n",
    "print(reg_val.shape)\n",
    "print(reg_test.shape)\n",
    "print(reg_train_label.shape)\n",
    "print(reg_val_label.shape)\n",
    "print(reg_test_label.shape)\n"
   ]
  },
  {
   "cell_type": "code",
   "execution_count": 14,
   "id": "9e6ce6c7",
   "metadata": {
    "scrolled": true
   },
   "outputs": [
    {
     "name": "stdout",
     "output_type": "stream",
     "text": [
      "Converting ==> 3000 \r"
     ]
    },
    {
     "name": "stderr",
     "output_type": "stream",
     "text": [
      "IOPub message rate exceeded.\n",
      "The notebook server will temporarily stop sending output\n",
      "to the client in order to avoid crashing it.\n",
      "To change this limit, set the config variable\n",
      "`--NotebookApp.iopub_msg_rate_limit`.\n",
      "\n",
      "Current values:\n",
      "NotebookApp.iopub_msg_rate_limit=1000.0 (msgs/sec)\n",
      "NotebookApp.rate_limit_window=3.0 (secs)\n",
      "\n"
     ]
    },
    {
     "name": "stdout",
     "output_type": "stream",
     "text": [
      "Converting ==> 9853 \r"
     ]
    },
    {
     "name": "stderr",
     "output_type": "stream",
     "text": [
      "IOPub message rate exceeded.\n",
      "The notebook server will temporarily stop sending output\n",
      "to the client in order to avoid crashing it.\n",
      "To change this limit, set the config variable\n",
      "`--NotebookApp.iopub_msg_rate_limit`.\n",
      "\n",
      "Current values:\n",
      "NotebookApp.iopub_msg_rate_limit=1000.0 (msgs/sec)\n",
      "NotebookApp.rate_limit_window=3.0 (secs)\n",
      "\n"
     ]
    },
    {
     "name": "stdout",
     "output_type": "stream",
     "text": [
      "Converting ==> 16728 \r"
     ]
    },
    {
     "name": "stderr",
     "output_type": "stream",
     "text": [
      "IOPub message rate exceeded.\n",
      "The notebook server will temporarily stop sending output\n",
      "to the client in order to avoid crashing it.\n",
      "To change this limit, set the config variable\n",
      "`--NotebookApp.iopub_msg_rate_limit`.\n",
      "\n",
      "Current values:\n",
      "NotebookApp.iopub_msg_rate_limit=1000.0 (msgs/sec)\n",
      "NotebookApp.rate_limit_window=3.0 (secs)\n",
      "\n"
     ]
    },
    {
     "name": "stdout",
     "output_type": "stream",
     "text": [
      "Converting ==> 23522 \r"
     ]
    },
    {
     "name": "stderr",
     "output_type": "stream",
     "text": [
      "IOPub message rate exceeded.\n",
      "The notebook server will temporarily stop sending output\n",
      "to the client in order to avoid crashing it.\n",
      "To change this limit, set the config variable\n",
      "`--NotebookApp.iopub_msg_rate_limit`.\n",
      "\n",
      "Current values:\n",
      "NotebookApp.iopub_msg_rate_limit=1000.0 (msgs/sec)\n",
      "NotebookApp.rate_limit_window=3.0 (secs)\n",
      "\n"
     ]
    },
    {
     "name": "stdout",
     "output_type": "stream",
     "text": [
      "Converting ==> 30213 \r"
     ]
    },
    {
     "name": "stderr",
     "output_type": "stream",
     "text": [
      "IOPub message rate exceeded.\n",
      "The notebook server will temporarily stop sending output\n",
      "to the client in order to avoid crashing it.\n",
      "To change this limit, set the config variable\n",
      "`--NotebookApp.iopub_msg_rate_limit`.\n",
      "\n",
      "Current values:\n",
      "NotebookApp.iopub_msg_rate_limit=1000.0 (msgs/sec)\n",
      "NotebookApp.rate_limit_window=3.0 (secs)\n",
      "\n"
     ]
    },
    {
     "name": "stdout",
     "output_type": "stream",
     "text": [
      "Converting ==> 37031 \r"
     ]
    },
    {
     "name": "stderr",
     "output_type": "stream",
     "text": [
      "IOPub message rate exceeded.\n",
      "The notebook server will temporarily stop sending output\n",
      "to the client in order to avoid crashing it.\n",
      "To change this limit, set the config variable\n",
      "`--NotebookApp.iopub_msg_rate_limit`.\n",
      "\n",
      "Current values:\n",
      "NotebookApp.iopub_msg_rate_limit=1000.0 (msgs/sec)\n",
      "NotebookApp.rate_limit_window=3.0 (secs)\n",
      "\n"
     ]
    },
    {
     "name": "stdout",
     "output_type": "stream",
     "text": [
      "Converting ==> 43874 \r"
     ]
    },
    {
     "name": "stderr",
     "output_type": "stream",
     "text": [
      "IOPub message rate exceeded.\n",
      "The notebook server will temporarily stop sending output\n",
      "to the client in order to avoid crashing it.\n",
      "To change this limit, set the config variable\n",
      "`--NotebookApp.iopub_msg_rate_limit`.\n",
      "\n",
      "Current values:\n",
      "NotebookApp.iopub_msg_rate_limit=1000.0 (msgs/sec)\n",
      "NotebookApp.rate_limit_window=3.0 (secs)\n",
      "\n"
     ]
    },
    {
     "name": "stdout",
     "output_type": "stream",
     "text": [
      "Converting ==> 50488 \r"
     ]
    },
    {
     "name": "stderr",
     "output_type": "stream",
     "text": [
      "IOPub message rate exceeded.\n",
      "The notebook server will temporarily stop sending output\n",
      "to the client in order to avoid crashing it.\n",
      "To change this limit, set the config variable\n",
      "`--NotebookApp.iopub_msg_rate_limit`.\n",
      "\n",
      "Current values:\n",
      "NotebookApp.iopub_msg_rate_limit=1000.0 (msgs/sec)\n",
      "NotebookApp.rate_limit_window=3.0 (secs)\n",
      "\n"
     ]
    },
    {
     "name": "stdout",
     "output_type": "stream",
     "text": [
      "Converting ==> 57342 \r"
     ]
    },
    {
     "name": "stderr",
     "output_type": "stream",
     "text": [
      "IOPub message rate exceeded.\n",
      "The notebook server will temporarily stop sending output\n",
      "to the client in order to avoid crashing it.\n",
      "To change this limit, set the config variable\n",
      "`--NotebookApp.iopub_msg_rate_limit`.\n",
      "\n",
      "Current values:\n",
      "NotebookApp.iopub_msg_rate_limit=1000.0 (msgs/sec)\n",
      "NotebookApp.rate_limit_window=3.0 (secs)\n",
      "\n"
     ]
    },
    {
     "name": "stdout",
     "output_type": "stream",
     "text": [
      "Converting ==> 64240 \r"
     ]
    },
    {
     "name": "stderr",
     "output_type": "stream",
     "text": [
      "IOPub message rate exceeded.\n",
      "The notebook server will temporarily stop sending output\n",
      "to the client in order to avoid crashing it.\n",
      "To change this limit, set the config variable\n",
      "`--NotebookApp.iopub_msg_rate_limit`.\n",
      "\n",
      "Current values:\n",
      "NotebookApp.iopub_msg_rate_limit=1000.0 (msgs/sec)\n",
      "NotebookApp.rate_limit_window=3.0 (secs)\n",
      "\n"
     ]
    },
    {
     "name": "stdout",
     "output_type": "stream",
     "text": [
      "Converting ==> 71155 \r"
     ]
    },
    {
     "name": "stderr",
     "output_type": "stream",
     "text": [
      "IOPub message rate exceeded.\n",
      "The notebook server will temporarily stop sending output\n",
      "to the client in order to avoid crashing it.\n",
      "To change this limit, set the config variable\n",
      "`--NotebookApp.iopub_msg_rate_limit`.\n",
      "\n",
      "Current values:\n",
      "NotebookApp.iopub_msg_rate_limit=1000.0 (msgs/sec)\n",
      "NotebookApp.rate_limit_window=3.0 (secs)\n",
      "\n"
     ]
    },
    {
     "name": "stdout",
     "output_type": "stream",
     "text": [
      "Converting ==> 78090 \r"
     ]
    },
    {
     "name": "stderr",
     "output_type": "stream",
     "text": [
      "IOPub message rate exceeded.\n",
      "The notebook server will temporarily stop sending output\n",
      "to the client in order to avoid crashing it.\n",
      "To change this limit, set the config variable\n",
      "`--NotebookApp.iopub_msg_rate_limit`.\n",
      "\n",
      "Current values:\n",
      "NotebookApp.iopub_msg_rate_limit=1000.0 (msgs/sec)\n",
      "NotebookApp.rate_limit_window=3.0 (secs)\n",
      "\n"
     ]
    },
    {
     "name": "stdout",
     "output_type": "stream",
     "text": [
      "Converting ==> 84969 \r"
     ]
    },
    {
     "name": "stderr",
     "output_type": "stream",
     "text": [
      "IOPub message rate exceeded.\n",
      "The notebook server will temporarily stop sending output\n",
      "to the client in order to avoid crashing it.\n",
      "To change this limit, set the config variable\n",
      "`--NotebookApp.iopub_msg_rate_limit`.\n",
      "\n",
      "Current values:\n",
      "NotebookApp.iopub_msg_rate_limit=1000.0 (msgs/sec)\n",
      "NotebookApp.rate_limit_window=3.0 (secs)\n",
      "\n"
     ]
    },
    {
     "name": "stdout",
     "output_type": "stream",
     "text": [
      "Converting ==> 91962 \r"
     ]
    },
    {
     "name": "stderr",
     "output_type": "stream",
     "text": [
      "IOPub message rate exceeded.\n",
      "The notebook server will temporarily stop sending output\n",
      "to the client in order to avoid crashing it.\n",
      "To change this limit, set the config variable\n",
      "`--NotebookApp.iopub_msg_rate_limit`.\n",
      "\n",
      "Current values:\n",
      "NotebookApp.iopub_msg_rate_limit=1000.0 (msgs/sec)\n",
      "NotebookApp.rate_limit_window=3.0 (secs)\n",
      "\n"
     ]
    },
    {
     "name": "stdout",
     "output_type": "stream",
     "text": [
      "Converting ==> 98887 \r"
     ]
    },
    {
     "name": "stderr",
     "output_type": "stream",
     "text": [
      "IOPub message rate exceeded.\n",
      "The notebook server will temporarily stop sending output\n",
      "to the client in order to avoid crashing it.\n",
      "To change this limit, set the config variable\n",
      "`--NotebookApp.iopub_msg_rate_limit`.\n",
      "\n",
      "Current values:\n",
      "NotebookApp.iopub_msg_rate_limit=1000.0 (msgs/sec)\n",
      "NotebookApp.rate_limit_window=3.0 (secs)\n",
      "\n"
     ]
    },
    {
     "name": "stdout",
     "output_type": "stream",
     "text": [
      "Converting ==> 108135 \r"
     ]
    },
    {
     "name": "stderr",
     "output_type": "stream",
     "text": [
      "IOPub message rate exceeded.\n",
      "The notebook server will temporarily stop sending output\n",
      "to the client in order to avoid crashing it.\n",
      "To change this limit, set the config variable\n",
      "`--NotebookApp.iopub_msg_rate_limit`.\n",
      "\n",
      "Current values:\n",
      "NotebookApp.iopub_msg_rate_limit=1000.0 (msgs/sec)\n",
      "NotebookApp.rate_limit_window=3.0 (secs)\n",
      "\n"
     ]
    },
    {
     "name": "stdout",
     "output_type": "stream",
     "text": [
      "Converting ==> 2115 0 \r"
     ]
    },
    {
     "name": "stderr",
     "output_type": "stream",
     "text": [
      "IOPub message rate exceeded.\n",
      "The notebook server will temporarily stop sending output\n",
      "to the client in order to avoid crashing it.\n",
      "To change this limit, set the config variable\n",
      "`--NotebookApp.iopub_msg_rate_limit`.\n",
      "\n",
      "Current values:\n",
      "NotebookApp.iopub_msg_rate_limit=1000.0 (msgs/sec)\n",
      "NotebookApp.rate_limit_window=3.0 (secs)\n",
      "\n"
     ]
    },
    {
     "name": "stdout",
     "output_type": "stream",
     "text": [
      "Converting ==> 1843 \r"
     ]
    },
    {
     "name": "stderr",
     "output_type": "stream",
     "text": [
      "IOPub message rate exceeded.\n",
      "The notebook server will temporarily stop sending output\n",
      "to the client in order to avoid crashing it.\n",
      "To change this limit, set the config variable\n",
      "`--NotebookApp.iopub_msg_rate_limit`.\n",
      "\n",
      "Current values:\n",
      "NotebookApp.iopub_msg_rate_limit=1000.0 (msgs/sec)\n",
      "NotebookApp.rate_limit_window=3.0 (secs)\n",
      "\n"
     ]
    },
    {
     "name": "stdout",
     "output_type": "stream",
     "text": [
      "Converting ==> 9320 \r"
     ]
    },
    {
     "name": "stderr",
     "output_type": "stream",
     "text": [
      "IOPub message rate exceeded.\n",
      "The notebook server will temporarily stop sending output\n",
      "to the client in order to avoid crashing it.\n",
      "To change this limit, set the config variable\n",
      "`--NotebookApp.iopub_msg_rate_limit`.\n",
      "\n",
      "Current values:\n",
      "NotebookApp.iopub_msg_rate_limit=1000.0 (msgs/sec)\n",
      "NotebookApp.rate_limit_window=3.0 (secs)\n",
      "\n"
     ]
    }
   ],
   "source": [
    "reg_train_patch=img.to_patcharray(reg_train,patch_size=(patch,patch))\n",
    "reg_val_patch=img.to_patcharray(reg_val,patch_size=(patch,patch))\n",
    "reg_test_patch=img.to_patcharray(reg_test,patch_size=(patch,patch))"
   ]
  },
  {
   "cell_type": "markdown",
   "id": "203cfe13",
   "metadata": {},
   "source": [
    "####  Patch size"
   ]
  },
  {
   "cell_type": "code",
   "execution_count": 15,
   "id": "7f845f0a",
   "metadata": {},
   "outputs": [
    {
     "name": "stdout",
     "output_type": "stream",
     "text": [
      "(112800, 1, 196, 2, 2)\n",
      "(9400, 1, 196, 2, 2)\n",
      "(9400, 1, 196, 2, 2)\n"
     ]
    }
   ],
   "source": [
    "print(reg_train_patch.shape)\n",
    "print(reg_val_patch.shape)\n",
    "print(reg_test_patch.shape)"
   ]
  },
  {
   "cell_type": "code",
   "execution_count": 16,
   "id": "5cc3702b",
   "metadata": {},
   "outputs": [
    {
     "name": "stdout",
     "output_type": "stream",
     "text": [
      "[ 0.  1.  2.  3.  4.  5.  6.  7.  8.  9. 10. 11. 12. 13. 14. 15. 16. 17.\n",
      " 18. 19. 20. 21. 22. 23. 24. 25. 26. 27. 28. 29. 30. 31. 32. 33. 34. 35.\n",
      " 36. 37. 38. 39. 40. 41. 42. 43. 44. 45. 46.]\n"
     ]
    }
   ],
   "source": [
    "from collections import Counter\n",
    "#print((Counter(y_val)))\n",
    "print(np.sort(list(Counter(reg_train_label).keys())))\n",
    "classes=len(np.sort(list(Counter(reg_train_label).keys())))"
   ]
  },
  {
   "cell_type": "markdown",
   "id": "3f6b0cea",
   "metadata": {},
   "source": [
    "# Gershgorien image analysis"
   ]
  },
  {
   "cell_type": "code",
   "execution_count": 17,
   "id": "204d9d7f",
   "metadata": {},
   "outputs": [],
   "source": [
    "import networkx as nx\n",
    "\n",
    "\n",
    "\n",
    "def compute_gridlap_to_gersh(df_in):\n",
    "    g = nx.generators.lattice.grid_2d_graph(patch,patch, periodic=False)\n",
    "    adj_ary=nx.adjacency_matrix(g).toarray()\n",
    "\n",
    "    gersh_c=np.tile(np.sum(adj_ary,axis=0),(reg_train_patch.shape[1],reg_train_patch.shape[2]))\n",
    "\n",
    "    edge=np.array(np.where(adj_ary==1))\n",
    "    ed0=edge[0]\n",
    "    ed1=edge[1]\n",
    "    \n",
    "    no_img,no_ch, no_patch,patch_x,patch_y=df_in.shape\n",
    "    temp=[]\n",
    "    for i in range(no_img):\n",
    "        i_ary = np.eye(patch_x*patch_y)\n",
    "        i_ary4d=i_ary[np.newaxis,np.newaxis,:,:]\n",
    "        weighted_adj=np.zeros((no_ch, no_patch,patch_x*patch_y,patch_x*patch_y))\n",
    "        df=df_in[i].reshape(no_ch,no_patch,-1)\n",
    "        pixel1=df[:,:,ed0]\n",
    "        pixel2=df[:,:,ed1]  \n",
    "        edu_distance=np.sqrt((pixel1-pixel2)**2)+ 10**(-8)\n",
    "        weighted_adj[:,:,ed0,ed1]=edu_distance\n",
    "        sum_r=np.sum(weighted_adj,axis=2)\n",
    "        gersh_r=sum_r.reshape(no_ch,-1)\n",
    "        gersh_total=np.vstack((gersh_r[0],gersh_c[0])) #,gersh_r[1],gersh_c[1],gersh_r[2],gersh_c[2]\n",
    "        gersh_total=gersh_total.reshape(no_ch,2,gersh_c.shape[-1])\n",
    "        temp.append(gersh_total)\n",
    "    return temp\n",
    "\n"
   ]
  },
  {
   "cell_type": "code",
   "execution_count": 18,
   "id": "4bd2f321",
   "metadata": {},
   "outputs": [
    {
     "name": "stdout",
     "output_type": "stream",
     "text": [
      "Elapsed time: 18.16537857055664 seconds\n"
     ]
    }
   ],
   "source": [
    "import time\n",
    "\n",
    "start_time=time.time()\n",
    "reg_train=compute_gridlap_to_gersh(reg_train_patch)\n",
    "reg_val=compute_gridlap_to_gersh(reg_val_patch)\n",
    "reg_test=compute_gridlap_to_gersh(reg_test_patch)\n",
    "\n",
    "\n",
    "end_time=time.time()\n",
    "\n",
    "elapsed_time = end_time - start_time\n",
    "print(\"Elapsed time:\", elapsed_time, \"seconds\")"
   ]
  },
  {
   "cell_type": "markdown",
   "id": "f07e61b8",
   "metadata": {},
   "source": [
    "# Patch 4"
   ]
  },
  {
   "cell_type": "code",
   "execution_count": 19,
   "id": "4c68816e",
   "metadata": {},
   "outputs": [],
   "source": [
    "import numpy as np\n",
    "import matplotlib.pyplot as plt\n",
    "from image_graph_util import img_conversion_v7\n",
    "from sklearn.preprocessing import MinMaxScaler\n",
    "import os\n",
    "import glob\n",
    "import tensorflow as tf\n",
    "import tensorflow_datasets as tfds\n",
    "from sklearn.model_selection import train_test_split\n",
    "from emnist import extract_training_samples,extract_test_samples\n",
    "from emnist import list_datasets\n",
    "from sklearn.utils import shuffle"
   ]
  },
  {
   "cell_type": "code",
   "execution_count": 20,
   "id": "f4aaaabd",
   "metadata": {},
   "outputs": [],
   "source": [
    "img=img_conversion_v7.image_convert()\n",
    "\n",
    "patch=4\n"
   ]
  },
  {
   "cell_type": "code",
   "execution_count": 21,
   "id": "94ebaa6f",
   "metadata": {},
   "outputs": [
    {
     "name": "stdout",
     "output_type": "stream",
     "text": [
      "['balanced', 'byclass', 'bymerge', 'digits', 'letters', 'mnist']\n"
     ]
    }
   ],
   "source": [
    "print(list_datasets())"
   ]
  },
  {
   "cell_type": "code",
   "execution_count": 22,
   "id": "0bbb4e8e",
   "metadata": {},
   "outputs": [],
   "source": [
    "train_images,train_labels=extract_training_samples('balanced')"
   ]
  },
  {
   "cell_type": "code",
   "execution_count": 23,
   "id": "01e5ceb7",
   "metadata": {},
   "outputs": [],
   "source": [
    "test_images, test_labels = extract_test_samples('balanced')"
   ]
  },
  {
   "cell_type": "code",
   "execution_count": 24,
   "id": "c4ef2fb0",
   "metadata": {},
   "outputs": [],
   "source": [
    "#normalization of train dataset\n",
    "ftrain_images = np.float16(np.array(train_images)/255)\n",
    "train_labels = np.float16(np.array(train_labels))"
   ]
  },
  {
   "cell_type": "code",
   "execution_count": 25,
   "id": "c903acbc",
   "metadata": {},
   "outputs": [],
   "source": [
    "#normalization of test dataset\n",
    "ftest_images = np.float16(np.array(test_images)/255)\n",
    "test_labels = np.float16(np.array(test_labels))"
   ]
  },
  {
   "cell_type": "code",
   "execution_count": 26,
   "id": "ffa829fa",
   "metadata": {},
   "outputs": [
    {
     "name": "stdout",
     "output_type": "stream",
     "text": [
      "(112800, 28, 28)\n",
      "(18800, 28, 28)\n"
     ]
    }
   ],
   "source": [
    "print(ftrain_images.shape)\n",
    "print(ftest_images.shape)"
   ]
  },
  {
   "cell_type": "code",
   "execution_count": 27,
   "id": "bb3e45cb",
   "metadata": {},
   "outputs": [],
   "source": [
    "# making 28,28,1\n",
    "rtrain_images=ftrain_images.reshape(ftrain_images.shape[0],ftrain_images.shape[1],ftrain_images.shape[2],1)\n",
    "rtest_images=ftest_images.reshape(ftest_images.shape[0],ftest_images.shape[1],ftest_images.shape[2],1)"
   ]
  },
  {
   "cell_type": "code",
   "execution_count": 28,
   "id": "043e6ade",
   "metadata": {},
   "outputs": [
    {
     "name": "stdout",
     "output_type": "stream",
     "text": [
      "(112800, 28, 28, 1)\n",
      "(18800, 28, 28, 1)\n"
     ]
    }
   ],
   "source": [
    "print(rtrain_images.shape)\n",
    "print(rtest_images.shape)"
   ]
  },
  {
   "cell_type": "code",
   "execution_count": 29,
   "id": "0ae97b32",
   "metadata": {},
   "outputs": [],
   "source": [
    "reg_val,reg_test,reg_val_label,reg_test_label=train_test_split(rtest_images,test_labels,test_size=0.50,random_state=42)\n"
   ]
  },
  {
   "cell_type": "code",
   "execution_count": 30,
   "id": "3b491d28",
   "metadata": {},
   "outputs": [],
   "source": [
    "reg_train=rtrain_images\n",
    "reg_train_label=train_labels\n"
   ]
  },
  {
   "cell_type": "code",
   "execution_count": 31,
   "id": "688ff574",
   "metadata": {
    "scrolled": true
   },
   "outputs": [
    {
     "name": "stdout",
     "output_type": "stream",
     "text": [
      "(112800, 28, 28, 1)\n",
      "(9400, 28, 28, 1)\n",
      "(9400, 28, 28, 1)\n",
      "(112800,)\n",
      "(9400,)\n",
      "(9400,)\n"
     ]
    }
   ],
   "source": [
    "print(reg_train.shape)\n",
    "print(reg_val.shape)\n",
    "print(reg_test.shape)\n",
    "print(reg_train_label.shape)\n",
    "print(reg_val_label.shape)\n",
    "print(reg_test_label.shape)\n"
   ]
  },
  {
   "cell_type": "code",
   "execution_count": 32,
   "id": "4634726b",
   "metadata": {
    "scrolled": true
   },
   "outputs": [
    {
     "name": "stdout",
     "output_type": "stream",
     "text": [
      "Converting ==> 3000 \r"
     ]
    },
    {
     "name": "stderr",
     "output_type": "stream",
     "text": [
      "IOPub message rate exceeded.\n",
      "The notebook server will temporarily stop sending output\n",
      "to the client in order to avoid crashing it.\n",
      "To change this limit, set the config variable\n",
      "`--NotebookApp.iopub_msg_rate_limit`.\n",
      "\n",
      "Current values:\n",
      "NotebookApp.iopub_msg_rate_limit=1000.0 (msgs/sec)\n",
      "NotebookApp.rate_limit_window=3.0 (secs)\n",
      "\n"
     ]
    },
    {
     "name": "stdout",
     "output_type": "stream",
     "text": [
      "Converting ==> 9253 \r"
     ]
    },
    {
     "name": "stderr",
     "output_type": "stream",
     "text": [
      "IOPub message rate exceeded.\n",
      "The notebook server will temporarily stop sending output\n",
      "to the client in order to avoid crashing it.\n",
      "To change this limit, set the config variable\n",
      "`--NotebookApp.iopub_msg_rate_limit`.\n",
      "\n",
      "Current values:\n",
      "NotebookApp.iopub_msg_rate_limit=1000.0 (msgs/sec)\n",
      "NotebookApp.rate_limit_window=3.0 (secs)\n",
      "\n"
     ]
    },
    {
     "name": "stdout",
     "output_type": "stream",
     "text": [
      "Converting ==> 15454 \r"
     ]
    },
    {
     "name": "stderr",
     "output_type": "stream",
     "text": [
      "IOPub message rate exceeded.\n",
      "The notebook server will temporarily stop sending output\n",
      "to the client in order to avoid crashing it.\n",
      "To change this limit, set the config variable\n",
      "`--NotebookApp.iopub_msg_rate_limit`.\n",
      "\n",
      "Current values:\n",
      "NotebookApp.iopub_msg_rate_limit=1000.0 (msgs/sec)\n",
      "NotebookApp.rate_limit_window=3.0 (secs)\n",
      "\n"
     ]
    },
    {
     "name": "stdout",
     "output_type": "stream",
     "text": [
      "Converting ==> 21674 \r"
     ]
    },
    {
     "name": "stderr",
     "output_type": "stream",
     "text": [
      "IOPub message rate exceeded.\n",
      "The notebook server will temporarily stop sending output\n",
      "to the client in order to avoid crashing it.\n",
      "To change this limit, set the config variable\n",
      "`--NotebookApp.iopub_msg_rate_limit`.\n",
      "\n",
      "Current values:\n",
      "NotebookApp.iopub_msg_rate_limit=1000.0 (msgs/sec)\n",
      "NotebookApp.rate_limit_window=3.0 (secs)\n",
      "\n"
     ]
    },
    {
     "name": "stdout",
     "output_type": "stream",
     "text": [
      "Converting ==> 27896 \r"
     ]
    },
    {
     "name": "stderr",
     "output_type": "stream",
     "text": [
      "IOPub message rate exceeded.\n",
      "The notebook server will temporarily stop sending output\n",
      "to the client in order to avoid crashing it.\n",
      "To change this limit, set the config variable\n",
      "`--NotebookApp.iopub_msg_rate_limit`.\n",
      "\n",
      "Current values:\n",
      "NotebookApp.iopub_msg_rate_limit=1000.0 (msgs/sec)\n",
      "NotebookApp.rate_limit_window=3.0 (secs)\n",
      "\n"
     ]
    },
    {
     "name": "stdout",
     "output_type": "stream",
     "text": [
      "Converting ==> 34137 \r"
     ]
    },
    {
     "name": "stderr",
     "output_type": "stream",
     "text": [
      "IOPub message rate exceeded.\n",
      "The notebook server will temporarily stop sending output\n",
      "to the client in order to avoid crashing it.\n",
      "To change this limit, set the config variable\n",
      "`--NotebookApp.iopub_msg_rate_limit`.\n",
      "\n",
      "Current values:\n",
      "NotebookApp.iopub_msg_rate_limit=1000.0 (msgs/sec)\n",
      "NotebookApp.rate_limit_window=3.0 (secs)\n",
      "\n"
     ]
    },
    {
     "name": "stdout",
     "output_type": "stream",
     "text": [
      "Converting ==> 40444 \r"
     ]
    },
    {
     "name": "stderr",
     "output_type": "stream",
     "text": [
      "IOPub message rate exceeded.\n",
      "The notebook server will temporarily stop sending output\n",
      "to the client in order to avoid crashing it.\n",
      "To change this limit, set the config variable\n",
      "`--NotebookApp.iopub_msg_rate_limit`.\n",
      "\n",
      "Current values:\n",
      "NotebookApp.iopub_msg_rate_limit=1000.0 (msgs/sec)\n",
      "NotebookApp.rate_limit_window=3.0 (secs)\n",
      "\n"
     ]
    },
    {
     "name": "stdout",
     "output_type": "stream",
     "text": [
      "Converting ==> 46770 \r"
     ]
    },
    {
     "name": "stderr",
     "output_type": "stream",
     "text": [
      "IOPub message rate exceeded.\n",
      "The notebook server will temporarily stop sending output\n",
      "to the client in order to avoid crashing it.\n",
      "To change this limit, set the config variable\n",
      "`--NotebookApp.iopub_msg_rate_limit`.\n",
      "\n",
      "Current values:\n",
      "NotebookApp.iopub_msg_rate_limit=1000.0 (msgs/sec)\n",
      "NotebookApp.rate_limit_window=3.0 (secs)\n",
      "\n"
     ]
    },
    {
     "name": "stdout",
     "output_type": "stream",
     "text": [
      "Converting ==> 55632 \r"
     ]
    },
    {
     "name": "stderr",
     "output_type": "stream",
     "text": [
      "IOPub message rate exceeded.\n",
      "The notebook server will temporarily stop sending output\n",
      "to the client in order to avoid crashing it.\n",
      "To change this limit, set the config variable\n",
      "`--NotebookApp.iopub_msg_rate_limit`.\n",
      "\n",
      "Current values:\n",
      "NotebookApp.iopub_msg_rate_limit=1000.0 (msgs/sec)\n",
      "NotebookApp.rate_limit_window=3.0 (secs)\n",
      "\n"
     ]
    },
    {
     "name": "stdout",
     "output_type": "stream",
     "text": [
      "Converting ==> 64389 \r"
     ]
    },
    {
     "name": "stderr",
     "output_type": "stream",
     "text": [
      "IOPub message rate exceeded.\n",
      "The notebook server will temporarily stop sending output\n",
      "to the client in order to avoid crashing it.\n",
      "To change this limit, set the config variable\n",
      "`--NotebookApp.iopub_msg_rate_limit`.\n",
      "\n",
      "Current values:\n",
      "NotebookApp.iopub_msg_rate_limit=1000.0 (msgs/sec)\n",
      "NotebookApp.rate_limit_window=3.0 (secs)\n",
      "\n"
     ]
    },
    {
     "name": "stdout",
     "output_type": "stream",
     "text": [
      "Converting ==> 73693 \r"
     ]
    },
    {
     "name": "stderr",
     "output_type": "stream",
     "text": [
      "IOPub message rate exceeded.\n",
      "The notebook server will temporarily stop sending output\n",
      "to the client in order to avoid crashing it.\n",
      "To change this limit, set the config variable\n",
      "`--NotebookApp.iopub_msg_rate_limit`.\n",
      "\n",
      "Current values:\n",
      "NotebookApp.iopub_msg_rate_limit=1000.0 (msgs/sec)\n",
      "NotebookApp.rate_limit_window=3.0 (secs)\n",
      "\n"
     ]
    },
    {
     "name": "stdout",
     "output_type": "stream",
     "text": [
      "Converting ==> 82358 \r"
     ]
    },
    {
     "name": "stderr",
     "output_type": "stream",
     "text": [
      "IOPub message rate exceeded.\n",
      "The notebook server will temporarily stop sending output\n",
      "to the client in order to avoid crashing it.\n",
      "To change this limit, set the config variable\n",
      "`--NotebookApp.iopub_msg_rate_limit`.\n",
      "\n",
      "Current values:\n",
      "NotebookApp.iopub_msg_rate_limit=1000.0 (msgs/sec)\n",
      "NotebookApp.rate_limit_window=3.0 (secs)\n",
      "\n"
     ]
    },
    {
     "name": "stdout",
     "output_type": "stream",
     "text": [
      "Converting ==> 91734 \r"
     ]
    },
    {
     "name": "stderr",
     "output_type": "stream",
     "text": [
      "IOPub message rate exceeded.\n",
      "The notebook server will temporarily stop sending output\n",
      "to the client in order to avoid crashing it.\n",
      "To change this limit, set the config variable\n",
      "`--NotebookApp.iopub_msg_rate_limit`.\n",
      "\n",
      "Current values:\n",
      "NotebookApp.iopub_msg_rate_limit=1000.0 (msgs/sec)\n",
      "NotebookApp.rate_limit_window=3.0 (secs)\n",
      "\n"
     ]
    },
    {
     "name": "stdout",
     "output_type": "stream",
     "text": [
      "Converting ==> 100878 \r"
     ]
    },
    {
     "name": "stderr",
     "output_type": "stream",
     "text": [
      "IOPub message rate exceeded.\n",
      "The notebook server will temporarily stop sending output\n",
      "to the client in order to avoid crashing it.\n",
      "To change this limit, set the config variable\n",
      "`--NotebookApp.iopub_msg_rate_limit`.\n",
      "\n",
      "Current values:\n",
      "NotebookApp.iopub_msg_rate_limit=1000.0 (msgs/sec)\n",
      "NotebookApp.rate_limit_window=3.0 (secs)\n",
      "\n"
     ]
    },
    {
     "name": "stdout",
     "output_type": "stream",
     "text": [
      "Converting ==> 110189 \r"
     ]
    },
    {
     "name": "stderr",
     "output_type": "stream",
     "text": [
      "IOPub message rate exceeded.\n",
      "The notebook server will temporarily stop sending output\n",
      "to the client in order to avoid crashing it.\n",
      "To change this limit, set the config variable\n",
      "`--NotebookApp.iopub_msg_rate_limit`.\n",
      "\n",
      "Current values:\n",
      "NotebookApp.iopub_msg_rate_limit=1000.0 (msgs/sec)\n",
      "NotebookApp.rate_limit_window=3.0 (secs)\n",
      "\n"
     ]
    },
    {
     "name": "stdout",
     "output_type": "stream",
     "text": [
      "Converting ==> 6518 \r"
     ]
    },
    {
     "name": "stderr",
     "output_type": "stream",
     "text": [
      "IOPub message rate exceeded.\n",
      "The notebook server will temporarily stop sending output\n",
      "to the client in order to avoid crashing it.\n",
      "To change this limit, set the config variable\n",
      "`--NotebookApp.iopub_msg_rate_limit`.\n",
      "\n",
      "Current values:\n",
      "NotebookApp.iopub_msg_rate_limit=1000.0 (msgs/sec)\n",
      "NotebookApp.rate_limit_window=3.0 (secs)\n",
      "\n"
     ]
    },
    {
     "name": "stdout",
     "output_type": "stream",
     "text": [
      "Converting ==> 6370 \r"
     ]
    },
    {
     "name": "stderr",
     "output_type": "stream",
     "text": [
      "IOPub message rate exceeded.\n",
      "The notebook server will temporarily stop sending output\n",
      "to the client in order to avoid crashing it.\n",
      "To change this limit, set the config variable\n",
      "`--NotebookApp.iopub_msg_rate_limit`.\n",
      "\n",
      "Current values:\n",
      "NotebookApp.iopub_msg_rate_limit=1000.0 (msgs/sec)\n",
      "NotebookApp.rate_limit_window=3.0 (secs)\n",
      "\n"
     ]
    }
   ],
   "source": [
    "reg_train_patch=img.to_patcharray(reg_train,patch_size=(patch,patch))\n",
    "reg_val_patch=img.to_patcharray(reg_val,patch_size=(patch,patch))\n",
    "reg_test_patch=img.to_patcharray(reg_test,patch_size=(patch,patch))"
   ]
  },
  {
   "cell_type": "markdown",
   "id": "0907f9b0",
   "metadata": {},
   "source": [
    "####  Patch size"
   ]
  },
  {
   "cell_type": "code",
   "execution_count": 33,
   "id": "d30dd2f4",
   "metadata": {},
   "outputs": [
    {
     "name": "stdout",
     "output_type": "stream",
     "text": [
      "(112800, 1, 49, 4, 4)\n",
      "(9400, 1, 49, 4, 4)\n",
      "(9400, 1, 49, 4, 4)\n"
     ]
    }
   ],
   "source": [
    "print(reg_train_patch.shape)\n",
    "print(reg_val_patch.shape)\n",
    "print(reg_test_patch.shape)"
   ]
  },
  {
   "cell_type": "code",
   "execution_count": 34,
   "id": "77350901",
   "metadata": {},
   "outputs": [
    {
     "name": "stdout",
     "output_type": "stream",
     "text": [
      "[ 0.  1.  2.  3.  4.  5.  6.  7.  8.  9. 10. 11. 12. 13. 14. 15. 16. 17.\n",
      " 18. 19. 20. 21. 22. 23. 24. 25. 26. 27. 28. 29. 30. 31. 32. 33. 34. 35.\n",
      " 36. 37. 38. 39. 40. 41. 42. 43. 44. 45. 46.]\n"
     ]
    }
   ],
   "source": [
    "from collections import Counter\n",
    "#print((Counter(y_val)))\n",
    "print(np.sort(list(Counter(reg_train_label).keys())))\n",
    "classes=len(np.sort(list(Counter(reg_train_label).keys())))"
   ]
  },
  {
   "cell_type": "markdown",
   "id": "541e576d",
   "metadata": {},
   "source": [
    "# Gershgorien image analysis"
   ]
  },
  {
   "cell_type": "code",
   "execution_count": 35,
   "id": "b4dd0244",
   "metadata": {},
   "outputs": [],
   "source": [
    "import networkx as nx\n",
    "\n",
    "\n",
    "\n",
    "def compute_gridlap_to_gersh(df_in):\n",
    "    g = nx.generators.lattice.grid_2d_graph(patch,patch, periodic=False)\n",
    "    adj_ary=nx.adjacency_matrix(g).toarray()\n",
    "\n",
    "    gersh_c=np.tile(np.sum(adj_ary,axis=0),(reg_train_patch.shape[1],reg_train_patch.shape[2]))\n",
    "\n",
    "    edge=np.array(np.where(adj_ary==1))\n",
    "    ed0=edge[0]\n",
    "    ed1=edge[1]\n",
    "    \n",
    "    no_img,no_ch, no_patch,patch_x,patch_y=df_in.shape\n",
    "    temp=[]\n",
    "    for i in range(no_img):\n",
    "        i_ary = np.eye(patch_x*patch_y)\n",
    "        i_ary4d=i_ary[np.newaxis,np.newaxis,:,:]\n",
    "        weighted_adj=np.zeros((no_ch, no_patch,patch_x*patch_y,patch_x*patch_y))\n",
    "        df=df_in[i].reshape(no_ch,no_patch,-1)\n",
    "        pixel1=df[:,:,ed0]\n",
    "        pixel2=df[:,:,ed1]  \n",
    "        edu_distance=np.sqrt((pixel1-pixel2)**2)+ 10**(-8)\n",
    "        weighted_adj[:,:,ed0,ed1]=edu_distance\n",
    "        sum_r=np.sum(weighted_adj,axis=2)\n",
    "        gersh_r=sum_r.reshape(no_ch,-1)\n",
    "        gersh_total=np.vstack((gersh_r[0],gersh_c[0])) #,gersh_r[1],gersh_c[1],gersh_r[2],gersh_c[2]\n",
    "        gersh_total=gersh_total.reshape(no_ch,2,gersh_c.shape[-1])\n",
    "        temp.append(gersh_total)\n",
    "    return temp\n",
    "\n"
   ]
  },
  {
   "cell_type": "code",
   "execution_count": 36,
   "id": "3fe90a07",
   "metadata": {},
   "outputs": [
    {
     "name": "stdout",
     "output_type": "stream",
     "text": [
      "Elapsed time: 24.45319938659668 seconds\n"
     ]
    }
   ],
   "source": [
    "import time\n",
    "\n",
    "start_time=time.time()\n",
    "reg_train=compute_gridlap_to_gersh(reg_train_patch)\n",
    "reg_val=compute_gridlap_to_gersh(reg_val_patch)\n",
    "reg_test=compute_gridlap_to_gersh(reg_test_patch)\n",
    "\n",
    "\n",
    "end_time=time.time()\n",
    "\n",
    "elapsed_time = end_time - start_time\n",
    "print(\"Elapsed time:\", elapsed_time, \"seconds\")"
   ]
  },
  {
   "cell_type": "markdown",
   "id": "7a4bc197",
   "metadata": {},
   "source": [
    "# Patch 7"
   ]
  },
  {
   "cell_type": "code",
   "execution_count": 37,
   "id": "e6c54fa9",
   "metadata": {},
   "outputs": [],
   "source": [
    "import numpy as np\n",
    "import matplotlib.pyplot as plt\n",
    "from image_graph_util import img_conversion_v7\n",
    "from sklearn.preprocessing import MinMaxScaler\n",
    "import os\n",
    "import glob\n",
    "import tensorflow as tf\n",
    "import tensorflow_datasets as tfds\n",
    "from sklearn.model_selection import train_test_split\n",
    "from emnist import extract_training_samples,extract_test_samples\n",
    "from emnist import list_datasets\n",
    "from sklearn.utils import shuffle"
   ]
  },
  {
   "cell_type": "code",
   "execution_count": 38,
   "id": "f36b5fec",
   "metadata": {},
   "outputs": [],
   "source": [
    "img=img_conversion_v7.image_convert()\n",
    "\n",
    "patch=7\n"
   ]
  },
  {
   "cell_type": "code",
   "execution_count": 39,
   "id": "52f0acdd",
   "metadata": {},
   "outputs": [
    {
     "name": "stdout",
     "output_type": "stream",
     "text": [
      "['balanced', 'byclass', 'bymerge', 'digits', 'letters', 'mnist']\n"
     ]
    }
   ],
   "source": [
    "print(list_datasets())"
   ]
  },
  {
   "cell_type": "code",
   "execution_count": 40,
   "id": "722b7c26",
   "metadata": {},
   "outputs": [],
   "source": [
    "train_images,train_labels=extract_training_samples('balanced')"
   ]
  },
  {
   "cell_type": "code",
   "execution_count": 41,
   "id": "9744308e",
   "metadata": {},
   "outputs": [],
   "source": [
    "test_images, test_labels = extract_test_samples('balanced')"
   ]
  },
  {
   "cell_type": "code",
   "execution_count": 42,
   "id": "29886772",
   "metadata": {},
   "outputs": [],
   "source": [
    "#normalization of train dataset\n",
    "ftrain_images = np.float16(np.array(train_images)/255)\n",
    "train_labels = np.float16(np.array(train_labels))"
   ]
  },
  {
   "cell_type": "code",
   "execution_count": 43,
   "id": "6690e5f3",
   "metadata": {},
   "outputs": [],
   "source": [
    "#normalization of test dataset\n",
    "ftest_images = np.float16(np.array(test_images)/255)\n",
    "test_labels = np.float16(np.array(test_labels))"
   ]
  },
  {
   "cell_type": "code",
   "execution_count": 44,
   "id": "3a669159",
   "metadata": {},
   "outputs": [
    {
     "name": "stdout",
     "output_type": "stream",
     "text": [
      "(112800, 28, 28)\n",
      "(18800, 28, 28)\n"
     ]
    }
   ],
   "source": [
    "print(ftrain_images.shape)\n",
    "print(ftest_images.shape)"
   ]
  },
  {
   "cell_type": "code",
   "execution_count": 45,
   "id": "0bc06f3d",
   "metadata": {},
   "outputs": [],
   "source": [
    "# making 28,28,1\n",
    "rtrain_images=ftrain_images.reshape(ftrain_images.shape[0],ftrain_images.shape[1],ftrain_images.shape[2],1)\n",
    "rtest_images=ftest_images.reshape(ftest_images.shape[0],ftest_images.shape[1],ftest_images.shape[2],1)"
   ]
  },
  {
   "cell_type": "code",
   "execution_count": 46,
   "id": "c7edd75b",
   "metadata": {},
   "outputs": [
    {
     "name": "stdout",
     "output_type": "stream",
     "text": [
      "(112800, 28, 28, 1)\n",
      "(18800, 28, 28, 1)\n"
     ]
    }
   ],
   "source": [
    "print(rtrain_images.shape)\n",
    "print(rtest_images.shape)"
   ]
  },
  {
   "cell_type": "code",
   "execution_count": 47,
   "id": "66a9d76d",
   "metadata": {},
   "outputs": [],
   "source": [
    "reg_val,reg_test,reg_val_label,reg_test_label=train_test_split(rtest_images,test_labels,test_size=0.50,random_state=42)\n"
   ]
  },
  {
   "cell_type": "code",
   "execution_count": 48,
   "id": "55e928f5",
   "metadata": {},
   "outputs": [],
   "source": [
    "reg_train=rtrain_images\n",
    "reg_train_label=train_labels\n"
   ]
  },
  {
   "cell_type": "code",
   "execution_count": 49,
   "id": "d09088e2",
   "metadata": {
    "scrolled": true
   },
   "outputs": [
    {
     "name": "stdout",
     "output_type": "stream",
     "text": [
      "(112800, 28, 28, 1)\n",
      "(9400, 28, 28, 1)\n",
      "(9400, 28, 28, 1)\n",
      "(112800,)\n",
      "(9400,)\n",
      "(9400,)\n"
     ]
    }
   ],
   "source": [
    "print(reg_train.shape)\n",
    "print(reg_val.shape)\n",
    "print(reg_test.shape)\n",
    "print(reg_train_label.shape)\n",
    "print(reg_val_label.shape)\n",
    "print(reg_test_label.shape)\n"
   ]
  },
  {
   "cell_type": "code",
   "execution_count": 50,
   "id": "75836d0d",
   "metadata": {
    "scrolled": true
   },
   "outputs": [
    {
     "name": "stdout",
     "output_type": "stream",
     "text": [
      "Converting ==> 3000 \r"
     ]
    },
    {
     "name": "stderr",
     "output_type": "stream",
     "text": [
      "IOPub message rate exceeded.\n",
      "The notebook server will temporarily stop sending output\n",
      "to the client in order to avoid crashing it.\n",
      "To change this limit, set the config variable\n",
      "`--NotebookApp.iopub_msg_rate_limit`.\n",
      "\n",
      "Current values:\n",
      "NotebookApp.iopub_msg_rate_limit=1000.0 (msgs/sec)\n",
      "NotebookApp.rate_limit_window=3.0 (secs)\n",
      "\n"
     ]
    },
    {
     "name": "stdout",
     "output_type": "stream",
     "text": [
      "Converting ==> 9288 \r"
     ]
    },
    {
     "name": "stderr",
     "output_type": "stream",
     "text": [
      "IOPub message rate exceeded.\n",
      "The notebook server will temporarily stop sending output\n",
      "to the client in order to avoid crashing it.\n",
      "To change this limit, set the config variable\n",
      "`--NotebookApp.iopub_msg_rate_limit`.\n",
      "\n",
      "Current values:\n",
      "NotebookApp.iopub_msg_rate_limit=1000.0 (msgs/sec)\n",
      "NotebookApp.rate_limit_window=3.0 (secs)\n",
      "\n"
     ]
    },
    {
     "name": "stdout",
     "output_type": "stream",
     "text": [
      "Converting ==> 15521 \r"
     ]
    },
    {
     "name": "stderr",
     "output_type": "stream",
     "text": [
      "IOPub message rate exceeded.\n",
      "The notebook server will temporarily stop sending output\n",
      "to the client in order to avoid crashing it.\n",
      "To change this limit, set the config variable\n",
      "`--NotebookApp.iopub_msg_rate_limit`.\n",
      "\n",
      "Current values:\n",
      "NotebookApp.iopub_msg_rate_limit=1000.0 (msgs/sec)\n",
      "NotebookApp.rate_limit_window=3.0 (secs)\n",
      "\n"
     ]
    },
    {
     "name": "stdout",
     "output_type": "stream",
     "text": [
      "Converting ==> 21749 \r"
     ]
    },
    {
     "name": "stderr",
     "output_type": "stream",
     "text": [
      "IOPub message rate exceeded.\n",
      "The notebook server will temporarily stop sending output\n",
      "to the client in order to avoid crashing it.\n",
      "To change this limit, set the config variable\n",
      "`--NotebookApp.iopub_msg_rate_limit`.\n",
      "\n",
      "Current values:\n",
      "NotebookApp.iopub_msg_rate_limit=1000.0 (msgs/sec)\n",
      "NotebookApp.rate_limit_window=3.0 (secs)\n",
      "\n"
     ]
    },
    {
     "name": "stdout",
     "output_type": "stream",
     "text": [
      "Converting ==> 27978 \r"
     ]
    },
    {
     "name": "stderr",
     "output_type": "stream",
     "text": [
      "IOPub message rate exceeded.\n",
      "The notebook server will temporarily stop sending output\n",
      "to the client in order to avoid crashing it.\n",
      "To change this limit, set the config variable\n",
      "`--NotebookApp.iopub_msg_rate_limit`.\n",
      "\n",
      "Current values:\n",
      "NotebookApp.iopub_msg_rate_limit=1000.0 (msgs/sec)\n",
      "NotebookApp.rate_limit_window=3.0 (secs)\n",
      "\n"
     ]
    },
    {
     "name": "stdout",
     "output_type": "stream",
     "text": [
      "Converting ==> 34240 \r"
     ]
    },
    {
     "name": "stderr",
     "output_type": "stream",
     "text": [
      "IOPub message rate exceeded.\n",
      "The notebook server will temporarily stop sending output\n",
      "to the client in order to avoid crashing it.\n",
      "To change this limit, set the config variable\n",
      "`--NotebookApp.iopub_msg_rate_limit`.\n",
      "\n",
      "Current values:\n",
      "NotebookApp.iopub_msg_rate_limit=1000.0 (msgs/sec)\n",
      "NotebookApp.rate_limit_window=3.0 (secs)\n",
      "\n"
     ]
    },
    {
     "name": "stdout",
     "output_type": "stream",
     "text": [
      "Converting ==> 40507 \r"
     ]
    },
    {
     "name": "stderr",
     "output_type": "stream",
     "text": [
      "IOPub message rate exceeded.\n",
      "The notebook server will temporarily stop sending output\n",
      "to the client in order to avoid crashing it.\n",
      "To change this limit, set the config variable\n",
      "`--NotebookApp.iopub_msg_rate_limit`.\n",
      "\n",
      "Current values:\n",
      "NotebookApp.iopub_msg_rate_limit=1000.0 (msgs/sec)\n",
      "NotebookApp.rate_limit_window=3.0 (secs)\n",
      "\n"
     ]
    },
    {
     "name": "stdout",
     "output_type": "stream",
     "text": [
      "Converting ==> 46813 \r"
     ]
    },
    {
     "name": "stderr",
     "output_type": "stream",
     "text": [
      "IOPub message rate exceeded.\n",
      "The notebook server will temporarily stop sending output\n",
      "to the client in order to avoid crashing it.\n",
      "To change this limit, set the config variable\n",
      "`--NotebookApp.iopub_msg_rate_limit`.\n",
      "\n",
      "Current values:\n",
      "NotebookApp.iopub_msg_rate_limit=1000.0 (msgs/sec)\n",
      "NotebookApp.rate_limit_window=3.0 (secs)\n",
      "\n"
     ]
    },
    {
     "name": "stdout",
     "output_type": "stream",
     "text": [
      "Converting ==> 57408 \r"
     ]
    },
    {
     "name": "stderr",
     "output_type": "stream",
     "text": [
      "IOPub message rate exceeded.\n",
      "The notebook server will temporarily stop sending output\n",
      "to the client in order to avoid crashing it.\n",
      "To change this limit, set the config variable\n",
      "`--NotebookApp.iopub_msg_rate_limit`.\n",
      "\n",
      "Current values:\n",
      "NotebookApp.iopub_msg_rate_limit=1000.0 (msgs/sec)\n",
      "NotebookApp.rate_limit_window=3.0 (secs)\n",
      "\n"
     ]
    },
    {
     "name": "stdout",
     "output_type": "stream",
     "text": [
      "Converting ==> 67897 \r"
     ]
    },
    {
     "name": "stderr",
     "output_type": "stream",
     "text": [
      "IOPub message rate exceeded.\n",
      "The notebook server will temporarily stop sending output\n",
      "to the client in order to avoid crashing it.\n",
      "To change this limit, set the config variable\n",
      "`--NotebookApp.iopub_msg_rate_limit`.\n",
      "\n",
      "Current values:\n",
      "NotebookApp.iopub_msg_rate_limit=1000.0 (msgs/sec)\n",
      "NotebookApp.rate_limit_window=3.0 (secs)\n",
      "\n"
     ]
    },
    {
     "name": "stdout",
     "output_type": "stream",
     "text": [
      "Converting ==> 75905 \r"
     ]
    },
    {
     "name": "stderr",
     "output_type": "stream",
     "text": [
      "IOPub message rate exceeded.\n",
      "The notebook server will temporarily stop sending output\n",
      "to the client in order to avoid crashing it.\n",
      "To change this limit, set the config variable\n",
      "`--NotebookApp.iopub_msg_rate_limit`.\n",
      "\n",
      "Current values:\n",
      "NotebookApp.iopub_msg_rate_limit=1000.0 (msgs/sec)\n",
      "NotebookApp.rate_limit_window=3.0 (secs)\n",
      "\n"
     ]
    },
    {
     "name": "stdout",
     "output_type": "stream",
     "text": [
      "Converting ==> 87082 \r"
     ]
    },
    {
     "name": "stderr",
     "output_type": "stream",
     "text": [
      "IOPub message rate exceeded.\n",
      "The notebook server will temporarily stop sending output\n",
      "to the client in order to avoid crashing it.\n",
      "To change this limit, set the config variable\n",
      "`--NotebookApp.iopub_msg_rate_limit`.\n",
      "\n",
      "Current values:\n",
      "NotebookApp.iopub_msg_rate_limit=1000.0 (msgs/sec)\n",
      "NotebookApp.rate_limit_window=3.0 (secs)\n",
      "\n"
     ]
    },
    {
     "name": "stdout",
     "output_type": "stream",
     "text": [
      "Converting ==> 97006 \r"
     ]
    },
    {
     "name": "stderr",
     "output_type": "stream",
     "text": [
      "IOPub message rate exceeded.\n",
      "The notebook server will temporarily stop sending output\n",
      "to the client in order to avoid crashing it.\n",
      "To change this limit, set the config variable\n",
      "`--NotebookApp.iopub_msg_rate_limit`.\n",
      "\n",
      "Current values:\n",
      "NotebookApp.iopub_msg_rate_limit=1000.0 (msgs/sec)\n",
      "NotebookApp.rate_limit_window=3.0 (secs)\n",
      "\n"
     ]
    },
    {
     "name": "stdout",
     "output_type": "stream",
     "text": [
      "Converting ==> 106833 \r"
     ]
    },
    {
     "name": "stderr",
     "output_type": "stream",
     "text": [
      "IOPub message rate exceeded.\n",
      "The notebook server will temporarily stop sending output\n",
      "to the client in order to avoid crashing it.\n",
      "To change this limit, set the config variable\n",
      "`--NotebookApp.iopub_msg_rate_limit`.\n",
      "\n",
      "Current values:\n",
      "NotebookApp.iopub_msg_rate_limit=1000.0 (msgs/sec)\n",
      "NotebookApp.rate_limit_window=3.0 (secs)\n",
      "\n"
     ]
    },
    {
     "name": "stdout",
     "output_type": "stream",
     "text": [
      "Converting ==> 3530 0 \r"
     ]
    },
    {
     "name": "stderr",
     "output_type": "stream",
     "text": [
      "IOPub message rate exceeded.\n",
      "The notebook server will temporarily stop sending output\n",
      "to the client in order to avoid crashing it.\n",
      "To change this limit, set the config variable\n",
      "`--NotebookApp.iopub_msg_rate_limit`.\n",
      "\n",
      "Current values:\n",
      "NotebookApp.iopub_msg_rate_limit=1000.0 (msgs/sec)\n",
      "NotebookApp.rate_limit_window=3.0 (secs)\n",
      "\n"
     ]
    },
    {
     "name": "stdout",
     "output_type": "stream",
     "text": [
      "Converting ==> 4475 \r"
     ]
    },
    {
     "name": "stderr",
     "output_type": "stream",
     "text": [
      "IOPub message rate exceeded.\n",
      "The notebook server will temporarily stop sending output\n",
      "to the client in order to avoid crashing it.\n",
      "To change this limit, set the config variable\n",
      "`--NotebookApp.iopub_msg_rate_limit`.\n",
      "\n",
      "Current values:\n",
      "NotebookApp.iopub_msg_rate_limit=1000.0 (msgs/sec)\n",
      "NotebookApp.rate_limit_window=3.0 (secs)\n",
      "\n"
     ]
    }
   ],
   "source": [
    "reg_train_patch=img.to_patcharray(reg_train,patch_size=(patch,patch))\n",
    "reg_val_patch=img.to_patcharray(reg_val,patch_size=(patch,patch))\n",
    "reg_test_patch=img.to_patcharray(reg_test,patch_size=(patch,patch))"
   ]
  },
  {
   "cell_type": "markdown",
   "id": "2db62533",
   "metadata": {},
   "source": [
    "####  Patch size"
   ]
  },
  {
   "cell_type": "code",
   "execution_count": 51,
   "id": "92d70969",
   "metadata": {},
   "outputs": [],
   "source": [
    "print(reg_train_patch.shape)\n",
    "print(reg_val_patch.shape)\n",
    "print(reg_test_patch.shape)"
   ]
  },
  {
   "cell_type": "code",
   "execution_count": 52,
   "id": "f651e6ec",
   "metadata": {},
   "outputs": [],
   "source": [
    "from collections import Counter\n",
    "#print((Counter(y_val)))\n",
    "print(np.sort(list(Counter(reg_train_label).keys())))\n",
    "classes=len(np.sort(list(Counter(reg_train_label).keys())))"
   ]
  },
  {
   "cell_type": "markdown",
   "id": "93f19c45",
   "metadata": {},
   "source": [
    "# Gershgorien image analysis"
   ]
  },
  {
   "cell_type": "code",
   "execution_count": 53,
   "id": "fa655b97",
   "metadata": {},
   "outputs": [],
   "source": [
    "import networkx as nx\n",
    "\n",
    "\n",
    "\n",
    "def compute_gridlap_to_gersh(df_in):\n",
    "    g = nx.generators.lattice.grid_2d_graph(patch,patch, periodic=False)\n",
    "    adj_ary=nx.adjacency_matrix(g).toarray()\n",
    "\n",
    "    gersh_c=np.tile(np.sum(adj_ary,axis=0),(reg_train_patch.shape[1],reg_train_patch.shape[2]))\n",
    "\n",
    "    edge=np.array(np.where(adj_ary==1))\n",
    "    ed0=edge[0]\n",
    "    ed1=edge[1]\n",
    "    \n",
    "    no_img,no_ch, no_patch,patch_x,patch_y=df_in.shape\n",
    "    temp=[]\n",
    "    for i in range(no_img):\n",
    "        i_ary = np.eye(patch_x*patch_y)\n",
    "        i_ary4d=i_ary[np.newaxis,np.newaxis,:,:]\n",
    "        weighted_adj=np.zeros((no_ch, no_patch,patch_x*patch_y,patch_x*patch_y))\n",
    "        df=df_in[i].reshape(no_ch,no_patch,-1)\n",
    "        pixel1=df[:,:,ed0]\n",
    "        pixel2=df[:,:,ed1]  \n",
    "        edu_distance=np.sqrt((pixel1-pixel2)**2)+ 10**(-8)\n",
    "        weighted_adj[:,:,ed0,ed1]=edu_distance\n",
    "        sum_r=np.sum(weighted_adj,axis=2)\n",
    "        gersh_r=sum_r.reshape(no_ch,-1)\n",
    "        gersh_total=np.vstack((gersh_r[0],gersh_c[0])) #,gersh_r[1],gersh_c[1],gersh_r[2],gersh_c[2]\n",
    "        gersh_total=gersh_total.reshape(no_ch,2,gersh_c.shape[-1])\n",
    "        temp.append(gersh_total)\n",
    "    return temp\n",
    "\n"
   ]
  },
  {
   "cell_type": "code",
   "execution_count": 54,
   "id": "e53b3628",
   "metadata": {},
   "outputs": [
    {
     "name": "stdout",
     "output_type": "stream",
     "text": [
      "Elapsed time: 28.64309549331665 seconds\n"
     ]
    }
   ],
   "source": [
    "import time\n",
    "\n",
    "start_time=time.time()\n",
    "reg_train=compute_gridlap_to_gersh(reg_train_patch)\n",
    "reg_val=compute_gridlap_to_gersh(reg_val_patch)\n",
    "reg_test=compute_gridlap_to_gersh(reg_test_patch)\n",
    "\n",
    "\n",
    "end_time=time.time()\n",
    "\n",
    "elapsed_time = end_time - start_time\n",
    "print(\"Elapsed time:\", elapsed_time, \"seconds\")"
   ]
  },
  {
   "cell_type": "markdown",
   "id": "50ccadeb",
   "metadata": {},
   "source": [
    "# CatsVsDogs"
   ]
  },
  {
   "cell_type": "code",
   "execution_count": 55,
   "id": "34705419",
   "metadata": {},
   "outputs": [],
   "source": [
    "%matplotlib inline\n",
    "import numpy as np\n",
    "import matplotlib.pyplot as plt\n",
    "from image_graph_util import img_conversion_v7\n",
    "from sklearn.preprocessing import MinMaxScaler\n",
    "import os\n",
    "import glob\n",
    "import tensorflow as tf\n",
    "import tensorflow_datasets as tfds\n",
    "from sklearn.model_selection import train_test_split\n",
    "from emnist import extract_training_samples,extract_test_samples\n",
    "from emnist import list_datasets\n",
    "from sklearn.utils import shuffle\n",
    "import cv2\n",
    "import glob"
   ]
  },
  {
   "cell_type": "code",
   "execution_count": 56,
   "id": "fb6026f5",
   "metadata": {},
   "outputs": [],
   "source": [
    "img=img_conversion_v7.image_convert()\n",
    "\n",
    "\n",
    "patch=2\n"
   ]
  },
  {
   "cell_type": "code",
   "execution_count": 57,
   "id": "e9fe027b",
   "metadata": {
    "scrolled": true
   },
   "outputs": [
    {
     "name": "stderr",
     "output_type": "stream",
     "text": [
      "2023-07-24 13:59:53.034944: W tensorflow/compiler/xla/stream_executor/platform/default/dso_loader.cc:64] Could not load dynamic library 'libcuda.so.1'; dlerror: libcuda.so.1: cannot open shared object file: No such file or directory; LD_LIBRARY_PATH: /data/user/home/nvekariy/.local/lib/python3.9/site-packages/cv2/../../lib64:/cm/shared/apps/slurm/18.08.9/lib64/slurm:/cm/shared/apps/slurm/18.08.9/lib64\n",
      "2023-07-24 13:59:53.035020: W tensorflow/compiler/xla/stream_executor/cuda/cuda_driver.cc:265] failed call to cuInit: UNKNOWN ERROR (303)\n",
      "2023-07-24 13:59:53.035093: I tensorflow/compiler/xla/stream_executor/cuda/cuda_diagnostics.cc:156] kernel driver does not appear to be running on this host (c0179): /proc/driver/nvidia/version does not exist\n",
      "2023-07-24 13:59:53.035977: I tensorflow/core/platform/cpu_feature_guard.cc:193] This TensorFlow binary is optimized with oneAPI Deep Neural Network Library (oneDNN) to use the following CPU instructions in performance-critical operations:  AVX2 AVX512F AVX512_VNNI FMA\n",
      "To enable them in other operations, rebuild TensorFlow with the appropriate compiler flags.\n"
     ]
    }
   ],
   "source": [
    "ds, info = tfds.load('CatsVsDogs', split='train', shuffle_files=True, with_info=True)"
   ]
  },
  {
   "cell_type": "code",
   "execution_count": 58,
   "id": "f376e8ae",
   "metadata": {},
   "outputs": [
    {
     "name": "stderr",
     "output_type": "stream",
     "text": [
      "Corrupt JPEG data: 99 extraneous bytes before marker 0xd9\n",
      "Warning: unknown JFIF revision number 0.00\n",
      "Corrupt JPEG data: 396 extraneous bytes before marker 0xd9\n",
      "Corrupt JPEG data: 162 extraneous bytes before marker 0xd9\n",
      "Corrupt JPEG data: 252 extraneous bytes before marker 0xd9\n",
      "Corrupt JPEG data: 65 extraneous bytes before marker 0xd9\n",
      "Corrupt JPEG data: 1403 extraneous bytes before marker 0xd9\n",
      "Corrupt JPEG data: 214 extraneous bytes before marker 0xd9\n",
      "Corrupt JPEG data: 2226 extraneous bytes before marker 0xd9\n",
      "Corrupt JPEG data: 128 extraneous bytes before marker 0xd9\n",
      "Corrupt JPEG data: 239 extraneous bytes before marker 0xd9\n",
      "Corrupt JPEG data: 1153 extraneous bytes before marker 0xd9\n",
      "Corrupt JPEG data: 228 extraneous bytes before marker 0xd9\n"
     ]
    }
   ],
   "source": [
    "train_images = []\n",
    "train_labels = []\n",
    "\n",
    "for example in ds:\n",
    "    train_images.append(example['image'].numpy())\n",
    "    train_labels.append(example['label'].numpy())"
   ]
  },
  {
   "cell_type": "code",
   "execution_count": 59,
   "id": "3b95fbb6",
   "metadata": {
    "scrolled": true
   },
   "outputs": [
    {
     "name": "stdout",
     "output_type": "stream",
     "text": [
      "23262\n",
      "23262\n"
     ]
    }
   ],
   "source": [
    "print(len(train_images))\n",
    "print(len(train_labels))"
   ]
  },
  {
   "cell_type": "code",
   "execution_count": 60,
   "id": "14080762",
   "metadata": {},
   "outputs": [],
   "source": [
    "images=np.array([cv2.resize(i,(100,100), interpolation= cv2.INTER_CUBIC) for i in train_images])\n"
   ]
  },
  {
   "cell_type": "code",
   "execution_count": 61,
   "id": "918a0925",
   "metadata": {
    "scrolled": true
   },
   "outputs": [],
   "source": [
    "images = images/255\n",
    "labels = np.array(train_labels)"
   ]
  },
  {
   "cell_type": "code",
   "execution_count": 62,
   "id": "79930fa1",
   "metadata": {},
   "outputs": [],
   "source": [
    "images=np.array(images,dtype=\"float16\")"
   ]
  },
  {
   "cell_type": "code",
   "execution_count": 63,
   "id": "46338490",
   "metadata": {},
   "outputs": [
    {
     "data": {
      "text/plain": [
       "(23262, 100, 100, 3)"
      ]
     },
     "execution_count": 63,
     "metadata": {},
     "output_type": "execute_result"
    }
   ],
   "source": [
    "images.shape"
   ]
  },
  {
   "cell_type": "code",
   "execution_count": 64,
   "id": "db7b05aa",
   "metadata": {},
   "outputs": [],
   "source": [
    "train,test,train_lab,test_lab=train_test_split(images,labels,test_size=0.30,random_state=42)\n"
   ]
  },
  {
   "cell_type": "code",
   "execution_count": 65,
   "id": "f1001252",
   "metadata": {},
   "outputs": [
    {
     "name": "stdout",
     "output_type": "stream",
     "text": [
      "(16283, 100, 100, 3)\n",
      "(6979, 100, 100, 3)\n",
      "(16283,)\n",
      "(6979,)\n"
     ]
    }
   ],
   "source": [
    "print(train.shape)\n",
    "print(test.shape)\n",
    "print(train_lab.shape)\n",
    "print(test_lab.shape)"
   ]
  },
  {
   "cell_type": "code",
   "execution_count": 66,
   "id": "375aa7c0",
   "metadata": {},
   "outputs": [],
   "source": [
    "regular_train=train\n",
    "reg_train_label=train_lab"
   ]
  },
  {
   "cell_type": "code",
   "execution_count": 67,
   "id": "3aeb5f24",
   "metadata": {},
   "outputs": [],
   "source": [
    "regular_val,regular_test,reg_val_label,reg_test_label=train_test_split(test,test_lab,test_size=0.50,random_state=42)\n"
   ]
  },
  {
   "cell_type": "code",
   "execution_count": 68,
   "id": "a3fb34b4",
   "metadata": {
    "scrolled": true
   },
   "outputs": [
    {
     "name": "stdout",
     "output_type": "stream",
     "text": [
      "(16283, 100, 100, 3)\n",
      "(3489, 100, 100, 3)\n",
      "(3490, 100, 100, 3)\n"
     ]
    }
   ],
   "source": [
    "print(regular_train.shape)\n",
    "print(regular_val.shape)\n",
    "print(regular_test.shape)\n",
    "\n"
   ]
  },
  {
   "cell_type": "code",
   "execution_count": 69,
   "id": "60839dd8",
   "metadata": {},
   "outputs": [
    {
     "name": "stdout",
     "output_type": "stream",
     "text": [
      "[0 1]\n"
     ]
    }
   ],
   "source": [
    "from collections import Counter\n",
    "#print((Counter(y_val)))\n",
    "print(np.sort(list(Counter(reg_train_label).keys())))\n",
    "classes=len(np.sort(list(Counter(reg_train_label).keys())))"
   ]
  },
  {
   "cell_type": "markdown",
   "id": "b3fce784",
   "metadata": {},
   "source": [
    "# Gershgorien image analysis"
   ]
  },
  {
   "cell_type": "code",
   "execution_count": 70,
   "id": "d54c8032",
   "metadata": {},
   "outputs": [],
   "source": [
    "import networkx as nx\n",
    "\n",
    "\n",
    "\n",
    "def compute_gridlap_to_gersh(df_in): #compute_gridlap_to_gersh\n",
    "    g = nx.generators.lattice.grid_2d_graph(patch,patch, periodic=False)\n",
    "    adj_ary=nx.adjacency_matrix(g).toarray()\n",
    "\n",
    "    gersh_c=np.tile(np.sum(adj_ary,axis=0),(reg_train_patch.shape[1],reg_train_patch.shape[2]))\n",
    "\n",
    "    edge=np.array(np.where(adj_ary==1))\n",
    "    ed0=edge[0]\n",
    "    ed1=edge[1]\n",
    "    \n",
    "    no_img,no_ch, no_patch,patch_x,patch_y=df_in.shape\n",
    "    temp=[]\n",
    "    for i in range(no_img):\n",
    "        i_ary = np.eye(patch_x*patch_y)\n",
    "        i_ary4d=i_ary[np.newaxis,np.newaxis,:,:]\n",
    "        weighted_adj=np.zeros((no_ch, no_patch,patch_x*patch_y,patch_x*patch_y))\n",
    "        df=df_in[i].reshape(no_ch,no_patch,-1)\n",
    "        pixel1=df[:,:,ed0]\n",
    "        pixel2=df[:,:,ed1]  \n",
    "        edu_distance=np.sqrt((pixel1-pixel2)**2)+ 10**(-8)\n",
    "        weighted_adj[:,:,ed0,ed1]=edu_distance\n",
    "        sum_r=np.sum(weighted_adj,axis=2)\n",
    "        gersh_r=sum_r.reshape(no_ch,-1)\n",
    "        gersh_total=np.vstack((gersh_r[0],gersh_c[0],gersh_r[1],gersh_c[1],gersh_r[2],gersh_c[2]))\n",
    "        gersh_total=gersh_total.reshape(no_ch,2,gersh_c.shape[-1])\n",
    "        temp.append(gersh_total)\n",
    "    return temp\n",
    "\n"
   ]
  },
  {
   "cell_type": "code",
   "execution_count": 71,
   "id": "23a5b835",
   "metadata": {
    "scrolled": true
   },
   "outputs": [
    {
     "name": "stdout",
     "output_type": "stream",
     "text": [
      "Converting ==> 3490  \r"
     ]
    }
   ],
   "source": [
    "reg_train_patch=img.to_patcharray(regular_train[:],patch_size=(patch,patch))\n",
    "reg_val_patch=img.to_patcharray(regular_val[:],patch_size=(patch,patch))\n",
    "reg_test_patch=img.to_patcharray(regular_test[:],patch_size=(patch,patch))\n",
    "\n"
   ]
  },
  {
   "cell_type": "code",
   "execution_count": 72,
   "id": "c079ebf0",
   "metadata": {},
   "outputs": [
    {
     "name": "stdout",
     "output_type": "stream",
     "text": [
      "Elapsed time: 91.34135174751282 seconds\n"
     ]
    }
   ],
   "source": [
    "import time\n",
    "\n",
    "start_time=time.time()\n",
    "reg_train=compute_gridlap_to_gersh(reg_train_patch)\n",
    "reg_val=compute_gridlap_to_gersh(reg_val_patch)\n",
    "reg_test=compute_gridlap_to_gersh(reg_test_patch)\n",
    "\n",
    "\n",
    "end_time=time.time()\n",
    "\n",
    "elapsed_time = end_time - start_time\n",
    "print(\"Elapsed time:\", elapsed_time, \"seconds\")"
   ]
  },
  {
   "cell_type": "markdown",
   "id": "300c0df6",
   "metadata": {},
   "source": [
    "# malaria"
   ]
  },
  {
   "cell_type": "code",
   "execution_count": 73,
   "id": "5f42be0f",
   "metadata": {},
   "outputs": [],
   "source": [
    "%matplotlib inline\n",
    "import numpy as np\n",
    "import matplotlib.pyplot as plt\n",
    "from image_graph_util import img_conversion_v7\n",
    "from sklearn.preprocessing import MinMaxScaler\n",
    "import os\n",
    "import glob\n",
    "import tensorflow as tf\n",
    "import tensorflow_datasets as tfds\n",
    "from sklearn.model_selection import train_test_split\n",
    "from emnist import extract_training_samples,extract_test_samples\n",
    "from emnist import list_datasets\n",
    "from sklearn.utils import shuffle\n",
    "import cv2\n",
    "import glob"
   ]
  },
  {
   "cell_type": "code",
   "execution_count": 74,
   "id": "72b48516",
   "metadata": {},
   "outputs": [],
   "source": [
    "img=img_conversion_v7.image_convert()\n",
    "\n",
    "\n",
    "patch=2\n"
   ]
  },
  {
   "cell_type": "code",
   "execution_count": 75,
   "id": "75a3c740",
   "metadata": {
    "scrolled": true
   },
   "outputs": [],
   "source": [
    "ds, info = tfds.load('malaria', split='train', shuffle_files=True, with_info=True)"
   ]
  },
  {
   "cell_type": "code",
   "execution_count": 76,
   "id": "4c51768d",
   "metadata": {},
   "outputs": [],
   "source": [
    "train_images = []\n",
    "train_labels = []\n",
    "\n",
    "for example in ds:\n",
    "    train_images.append(example['image'].numpy())\n",
    "    train_labels.append(example['label'].numpy())"
   ]
  },
  {
   "cell_type": "code",
   "execution_count": 77,
   "id": "29de7171",
   "metadata": {
    "scrolled": true
   },
   "outputs": [
    {
     "name": "stdout",
     "output_type": "stream",
     "text": [
      "27558\n",
      "27558\n"
     ]
    }
   ],
   "source": [
    "print(len(train_images))\n",
    "print(len(train_labels))"
   ]
  },
  {
   "cell_type": "code",
   "execution_count": 78,
   "id": "c19c0724",
   "metadata": {},
   "outputs": [],
   "source": [
    "images=np.array([cv2.resize(i,(100,100), interpolation= cv2.INTER_CUBIC) for i in train_images])\n"
   ]
  },
  {
   "cell_type": "code",
   "execution_count": 79,
   "id": "7f939ac1",
   "metadata": {
    "scrolled": true
   },
   "outputs": [],
   "source": [
    "images = images/255\n",
    "labels = np.array(train_labels)"
   ]
  },
  {
   "cell_type": "code",
   "execution_count": 80,
   "id": "2aea1ee2",
   "metadata": {},
   "outputs": [],
   "source": [
    "images=np.array(images,dtype=\"float16\")"
   ]
  },
  {
   "cell_type": "code",
   "execution_count": 81,
   "id": "92bc6791",
   "metadata": {},
   "outputs": [
    {
     "data": {
      "text/plain": [
       "(27558, 100, 100, 3)"
      ]
     },
     "execution_count": 81,
     "metadata": {},
     "output_type": "execute_result"
    }
   ],
   "source": [
    "images.shape"
   ]
  },
  {
   "cell_type": "code",
   "execution_count": 82,
   "id": "cb270fc2",
   "metadata": {},
   "outputs": [],
   "source": [
    "train,test,train_lab,test_lab=train_test_split(images,labels,test_size=0.30,random_state=42)\n"
   ]
  },
  {
   "cell_type": "code",
   "execution_count": 83,
   "id": "9d701537",
   "metadata": {},
   "outputs": [
    {
     "name": "stdout",
     "output_type": "stream",
     "text": [
      "(19290, 100, 100, 3)\n",
      "(8268, 100, 100, 3)\n",
      "(19290,)\n",
      "(8268,)\n"
     ]
    }
   ],
   "source": [
    "print(train.shape)\n",
    "print(test.shape)\n",
    "print(train_lab.shape)\n",
    "print(test_lab.shape)"
   ]
  },
  {
   "cell_type": "code",
   "execution_count": 84,
   "id": "7b86ca0a",
   "metadata": {},
   "outputs": [],
   "source": [
    "regular_train=train\n",
    "reg_train_label=train_lab"
   ]
  },
  {
   "cell_type": "code",
   "execution_count": 85,
   "id": "48194109",
   "metadata": {},
   "outputs": [],
   "source": [
    "regular_val,regular_test,reg_val_label,reg_test_label=train_test_split(test,test_lab,test_size=0.50,random_state=42)\n"
   ]
  },
  {
   "cell_type": "code",
   "execution_count": 86,
   "id": "68a82434",
   "metadata": {
    "scrolled": true
   },
   "outputs": [
    {
     "name": "stdout",
     "output_type": "stream",
     "text": [
      "(19290, 100, 100, 3)\n",
      "(4134, 100, 100, 3)\n",
      "(4134, 100, 100, 3)\n"
     ]
    }
   ],
   "source": [
    "print(regular_train.shape)\n",
    "print(regular_val.shape)\n",
    "print(regular_test.shape)\n",
    "\n"
   ]
  },
  {
   "cell_type": "code",
   "execution_count": 87,
   "id": "8863f02f",
   "metadata": {},
   "outputs": [
    {
     "name": "stdout",
     "output_type": "stream",
     "text": [
      "[0 1]\n"
     ]
    }
   ],
   "source": [
    "from collections import Counter\n",
    "#print((Counter(y_val)))\n",
    "print(np.sort(list(Counter(reg_train_label).keys())))\n",
    "classes=len(np.sort(list(Counter(reg_train_label).keys())))"
   ]
  },
  {
   "cell_type": "markdown",
   "id": "1be58d94",
   "metadata": {},
   "source": [
    "# Gershgorien image analysis"
   ]
  },
  {
   "cell_type": "code",
   "execution_count": 88,
   "id": "482a773c",
   "metadata": {},
   "outputs": [],
   "source": [
    "import networkx as nx\n",
    "\n",
    "\n",
    "\n",
    "def compute_gridlap_to_gersh(df_in): #compute_gridlap_to_gersh\n",
    "    g = nx.generators.lattice.grid_2d_graph(patch,patch, periodic=False)\n",
    "    adj_ary=nx.adjacency_matrix(g).toarray()\n",
    "\n",
    "    gersh_c=np.tile(np.sum(adj_ary,axis=0),(reg_train_patch.shape[1],reg_train_patch.shape[2]))\n",
    "\n",
    "    edge=np.array(np.where(adj_ary==1))\n",
    "    ed0=edge[0]\n",
    "    ed1=edge[1]\n",
    "    \n",
    "    no_img,no_ch, no_patch,patch_x,patch_y=df_in.shape\n",
    "    temp=[]\n",
    "    for i in range(no_img):\n",
    "        i_ary = np.eye(patch_x*patch_y)\n",
    "        i_ary4d=i_ary[np.newaxis,np.newaxis,:,:]\n",
    "        weighted_adj=np.zeros((no_ch, no_patch,patch_x*patch_y,patch_x*patch_y))\n",
    "        df=df_in[i].reshape(no_ch,no_patch,-1)\n",
    "        pixel1=df[:,:,ed0]\n",
    "        pixel2=df[:,:,ed1]  \n",
    "        edu_distance=np.sqrt((pixel1-pixel2)**2)+ 10**(-8)\n",
    "        weighted_adj[:,:,ed0,ed1]=edu_distance\n",
    "        sum_r=np.sum(weighted_adj,axis=2)\n",
    "        gersh_r=sum_r.reshape(no_ch,-1)\n",
    "        gersh_total=np.vstack((gersh_r[0],gersh_c[0],gersh_r[1],gersh_c[1],gersh_r[2],gersh_c[2]))\n",
    "        gersh_total=gersh_total.reshape(no_ch,2,gersh_c.shape[-1])\n",
    "        temp.append(gersh_total)\n",
    "    return temp\n",
    "\n"
   ]
  },
  {
   "cell_type": "code",
   "execution_count": 89,
   "id": "b2e5812d",
   "metadata": {
    "scrolled": true
   },
   "outputs": [
    {
     "name": "stdout",
     "output_type": "stream",
     "text": [
      "Converting ==> 4134  \r"
     ]
    }
   ],
   "source": [
    "reg_train_patch=img.to_patcharray(regular_train[:],patch_size=(patch,patch))\n",
    "reg_val_patch=img.to_patcharray(regular_val[:],patch_size=(patch,patch))\n",
    "reg_test_patch=img.to_patcharray(regular_test[:],patch_size=(patch,patch))\n",
    "\n"
   ]
  },
  {
   "cell_type": "code",
   "execution_count": 90,
   "id": "7c0588d4",
   "metadata": {},
   "outputs": [
    {
     "name": "stdout",
     "output_type": "stream",
     "text": [
      "Elapsed time: 120.81421542167664 seconds\n"
     ]
    }
   ],
   "source": [
    "import time\n",
    "\n",
    "start_time=time.time()\n",
    "reg_train=compute_gridlap_to_gersh(reg_train_patch)\n",
    "reg_val=compute_gridlap_to_gersh(reg_val_patch)\n",
    "reg_test=compute_gridlap_to_gersh(reg_test_patch)\n",
    "\n",
    "\n",
    "end_time=time.time()\n",
    "\n",
    "elapsed_time = end_time - start_time\n",
    "print(\"Elapsed time:\", elapsed_time, \"seconds\")"
   ]
  },
  {
   "cell_type": "code",
   "execution_count": null,
   "id": "f5e7a794",
   "metadata": {},
   "outputs": [],
   "source": []
  }
 ],
 "metadata": {
  "anaconda-cloud": {},
  "kernelspec": {
   "display_name": "Python [conda env:root] *",
   "language": "python",
   "name": "conda-root-py"
  },
  "language_info": {
   "codemirror_mode": {
    "name": "ipython",
    "version": 3
   },
   "file_extension": ".py",
   "mimetype": "text/x-python",
   "name": "python",
   "nbconvert_exporter": "python",
   "pygments_lexer": "ipython3",
   "version": "3.9.12"
  }
 },
 "nbformat": 4,
 "nbformat_minor": 5
}
