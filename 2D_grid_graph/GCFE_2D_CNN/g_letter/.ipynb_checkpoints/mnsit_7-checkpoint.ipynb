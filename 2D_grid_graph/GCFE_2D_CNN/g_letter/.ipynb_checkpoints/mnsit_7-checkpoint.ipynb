{
 "cells": [
  {
   "cell_type": "code",
   "execution_count": null,
   "id": "20d67456",
   "metadata": {},
   "outputs": [],
   "source": [
    "import numpy as np\n",
    "import matplotlib.pyplot as plt\n",
    "from image_graph_util import img_conversion_v5,img_conversion_v6\n",
    "from sklearn.preprocessing import MinMaxScaler\n",
    "import os\n",
    "import glob\n",
    "import tensorflow as tf\n",
    "import tensorflow_datasets as tfds\n",
    "from sklearn.model_selection import train_test_split\n",
    "from emnist import extract_training_samples,extract_test_samples\n",
    "from emnist import list_datasets\n",
    "from sklearn.utils import shuffle"
   ]
  },
  {
   "cell_type": "code",
   "execution_count": null,
   "id": "d34e611c",
   "metadata": {},
   "outputs": [],
   "source": [
    "img=img_conversion_v5.image_convert()\n",
    "img1=img_conversion_v6.image_convert()\n",
    "\n",
    "patch=7\n"
   ]
  },
  {
   "cell_type": "code",
   "execution_count": null,
   "id": "e6f1f33d",
   "metadata": {},
   "outputs": [],
   "source": [
    "print(list_datasets())"
   ]
  },
  {
   "cell_type": "code",
   "execution_count": null,
   "id": "9547fee3",
   "metadata": {},
   "outputs": [],
   "source": [
    "train_images,train_labels=extract_training_samples('mnist')"
   ]
  },
  {
   "cell_type": "code",
   "execution_count": null,
   "id": "cec54ba1",
   "metadata": {},
   "outputs": [],
   "source": [
    "test_images, test_labels = extract_test_samples('mnist')"
   ]
  },
  {
   "cell_type": "code",
   "execution_count": null,
   "id": "3b95fbb6",
   "metadata": {},
   "outputs": [],
   "source": [
    "print(train_images.shape)\n",
    "print(train_labels.shape)"
   ]
  },
  {
   "cell_type": "code",
   "execution_count": null,
   "id": "50eb49a5",
   "metadata": {
    "scrolled": true
   },
   "outputs": [],
   "source": [
    "print(test_images.shape)\n",
    "print(test_labels.shape)"
   ]
  },
  {
   "cell_type": "code",
   "execution_count": null,
   "id": "951b5ba8",
   "metadata": {},
   "outputs": [],
   "source": [
    "#normalization of train dataset\n",
    "ftrain_images = np.float16(np.array(train_images)/255)\n",
    "train_labels = np.float16(np.array(train_labels))"
   ]
  },
  {
   "cell_type": "code",
   "execution_count": null,
   "id": "b6371893",
   "metadata": {},
   "outputs": [],
   "source": [
    "#normalization of test dataset\n",
    "ftest_images = np.float16(np.array(test_images)/255)\n",
    "test_labels = np.float16(np.array(test_labels))"
   ]
  },
  {
   "cell_type": "code",
   "execution_count": null,
   "id": "7ccca09c",
   "metadata": {},
   "outputs": [],
   "source": [
    "print(ftrain_images.shape)\n",
    "print(ftest_images.shape)"
   ]
  },
  {
   "cell_type": "code",
   "execution_count": null,
   "id": "451629f0",
   "metadata": {},
   "outputs": [],
   "source": [
    "# making 28,28,1\n",
    "rtrain_images=ftrain_images.reshape(ftrain_images.shape[0],ftrain_images.shape[1],ftrain_images.shape[2],1)\n",
    "rtest_images=ftest_images.reshape(ftest_images.shape[0],ftest_images.shape[1],ftest_images.shape[2],1)"
   ]
  },
  {
   "cell_type": "code",
   "execution_count": null,
   "id": "184c03de",
   "metadata": {},
   "outputs": [],
   "source": [
    "print(rtrain_images.shape)\n",
    "print(rtest_images.shape)"
   ]
  },
  {
   "cell_type": "code",
   "execution_count": null,
   "id": "dd49a4b2",
   "metadata": {},
   "outputs": [],
   "source": [
    "regular_val,regular_test,regular_val_label,regular_test_label=train_test_split(rtest_images,test_labels,test_size=0.50,random_state=42)\n"
   ]
  },
  {
   "cell_type": "code",
   "execution_count": null,
   "id": "548fdbbf",
   "metadata": {},
   "outputs": [],
   "source": [
    "regular_train=rtrain_images\n",
    "regular_train_label=train_labels\n"
   ]
  },
  {
   "cell_type": "code",
   "execution_count": null,
   "id": "b2010414",
   "metadata": {},
   "outputs": [],
   "source": [
    "print(regular_train.shape)\n",
    "print(regular_val.shape)\n",
    "print(regular_test.shape)\n",
    "print(regular_train_label.shape)\n",
    "print(regular_val_label.shape)\n",
    "print(regular_test_label.shape)\n"
   ]
  },
  {
   "cell_type": "code",
   "execution_count": null,
   "id": "f8cf8542",
   "metadata": {
    "scrolled": true
   },
   "outputs": [],
   "source": [
    "regular_train_patch=img.to_patcharray(regular_train,patch_size=(patch,patch))\n",
    "regular_val_patch=img.to_patcharray(regular_val,patch_size=(patch,patch))\n",
    "regular_test_patch=img.to_patcharray(regular_test,patch_size=(patch,patch))"
   ]
  },
  {
   "cell_type": "code",
   "execution_count": null,
   "id": "a7995b74",
   "metadata": {},
   "outputs": [],
   "source": [
    "print(regular_train_patch.shape)"
   ]
  },
  {
   "cell_type": "code",
   "execution_count": null,
   "id": "488eced9",
   "metadata": {},
   "outputs": [],
   "source": [
    "rreg_train_patch=regular_train_patch.reshape(regular_train_patch.shape[0],regular_train_patch.shape[3],regular_train_patch.shape[4],regular_train_patch.shape[2])\n",
    "rreg_val_patch=regular_val_patch.reshape(regular_val_patch.shape[0],regular_val_patch.shape[3],regular_val_patch.shape[4],regular_val_patch.shape[2])\n",
    "rreg_test_patch=regular_test_patch.reshape(regular_test_patch.shape[0],regular_test_patch.shape[3],regular_test_patch.shape[4],regular_test_patch.shape[2])\n"
   ]
  },
  {
   "cell_type": "code",
   "execution_count": null,
   "id": "ce3397aa",
   "metadata": {},
   "outputs": [],
   "source": [
    "print(rreg_train_patch.shape)"
   ]
  },
  {
   "cell_type": "code",
   "execution_count": null,
   "id": "29beaadb",
   "metadata": {},
   "outputs": [],
   "source": [
    "from collections import Counter\n",
    "#print((Counter(y_val)))\n",
    "print(np.sort(list(Counter(regular_train_label).keys())))\n",
    "classes=len(np.sort(list(Counter(regular_train_label).keys())))"
   ]
  },
  {
   "cell_type": "markdown",
   "id": "9d9fdb06",
   "metadata": {},
   "source": [
    "# Regular image analysis"
   ]
  },
  {
   "cell_type": "markdown",
   "id": "72482d9f",
   "metadata": {},
   "source": [
    "# Regular 2D CNN"
   ]
  },
  {
   "cell_type": "code",
   "execution_count": null,
   "id": "d3180790",
   "metadata": {},
   "outputs": [],
   "source": [
    "input_shape = (rreg_train_patch.shape[1],rreg_train_patch.shape[2],rreg_train_patch.shape[3])\n",
    "num_classes = classes\n",
    "model1 = tf.keras.models.Sequential()\n",
    "model1.add(tf.keras.layers.Conv2D(filters= 64, kernel_size=3, activation='relu',padding='valid',input_shape= input_shape))\n",
    "model1.add(tf.keras.layers.AveragePooling2D()) #pool_size=(2, 2),strides=None,padding='valid')\n",
    "model1.add(tf.keras.layers.Conv2D(filters=64, kernel_size=3,padding='valid',activation='relu'))\n",
    "model1.add(tf.keras.layers.AveragePooling2D())\n",
    "model1.add(tf.keras.layers.Flatten())\n",
    "model1.add(tf.keras.layers.Dropout(0.1))\n",
    "model1.add(tf.keras.layers.Dense(1024, activation='relu'))\n",
    "model1.add(tf.keras.layers.Dense(num_classes, activation='softmax'))\n",
    "\n",
    "model1.summary()"
   ]
  },
  {
   "cell_type": "code",
   "execution_count": null,
   "id": "60b8ec53",
   "metadata": {},
   "outputs": [],
   "source": [
    "model1.compile(loss='SparseCategoricalCrossentropy', optimizer='Adam', metrics=['acc'])"
   ]
  },
  {
   "cell_type": "code",
   "execution_count": null,
   "id": "e6d82b9d",
   "metadata": {
    "scrolled": false
   },
   "outputs": [],
   "source": [
    "history_log=model1.fit(rreg_train_patch, regular_train_label, epochs=10,verbose=1,validation_data=(rreg_val_patch, regular_val_label))"
   ]
  },
  {
   "cell_type": "code",
   "execution_count": null,
   "id": "4df5f9c6",
   "metadata": {},
   "outputs": [],
   "source": [
    "loss=history_log.history[\"loss\"]\n",
    "acc=history_log.history[\"acc\"]"
   ]
  },
  {
   "cell_type": "code",
   "execution_count": null,
   "id": "cc6657a3",
   "metadata": {
    "scrolled": false
   },
   "outputs": [],
   "source": [
    "loss, accuracy = model1.evaluate(rreg_test_patch, regular_test_label)\n",
    "print(f' Model loss on the test set: {loss}')\n",
    "print(f' Model accuracy on the test set: {100*accuracy}')"
   ]
  },
  {
   "cell_type": "code",
   "execution_count": null,
   "id": "eba497b1",
   "metadata": {},
   "outputs": [],
   "source": [
    "predictions = model1.predict(rreg_test_patch)\n",
    "pred_arg = np.argmax(predictions, axis=1)"
   ]
  },
  {
   "cell_type": "code",
   "execution_count": null,
   "id": "c90d1553",
   "metadata": {},
   "outputs": [],
   "source": [
    "from sklearn.metrics import confusion_matrix\n",
    "cnf_matrix=confusion_matrix(regular_test_label,pred_arg)\n",
    "print(\"cnf_matrix_2.0_70\")\n",
    "print(\"\")\n",
    "print(cnf_matrix)"
   ]
  },
  {
   "cell_type": "code",
   "execution_count": null,
   "id": "45687151",
   "metadata": {},
   "outputs": [],
   "source": [
    "from sklearn.metrics import accuracy_score, recall_score,precision_score,roc_auc_score,roc_curve,f1_score\n"
   ]
  },
  {
   "cell_type": "code",
   "execution_count": null,
   "id": "6fad511d",
   "metadata": {},
   "outputs": [],
   "source": [
    "print(accuracy_score(regular_test_label, pred_arg))\n",
    "print(f1_score(regular_test_label,pred_arg,average='macro'))\n",
    "print(recall_score(regular_test_label, pred_arg, average=\"weighted\"))\n",
    "print(precision_score(regular_test_label, pred_arg, average=\"weighted\"))"
   ]
  },
  {
   "cell_type": "markdown",
   "id": "c39eaf55",
   "metadata": {},
   "source": [
    "# Regular 1D CNN"
   ]
  },
  {
   "cell_type": "code",
   "execution_count": null,
   "id": "4988708a",
   "metadata": {},
   "outputs": [],
   "source": [
    "reg_flat_train=np.array([i.flatten() for i in rreg_train_patch])\n",
    "reg_flat_val=np.array([i.flatten() for i in rreg_val_patch])\n",
    "reg_flat_test=np.array([i.flatten() for i in rreg_test_patch])"
   ]
  },
  {
   "cell_type": "code",
   "execution_count": null,
   "id": "a8df128b",
   "metadata": {},
   "outputs": [],
   "source": [
    "print(reg_flat_train.shape)\n",
    "print(reg_flat_val.shape)\n",
    "print(reg_flat_test.shape)"
   ]
  },
  {
   "cell_type": "code",
   "execution_count": null,
   "id": "75457284",
   "metadata": {},
   "outputs": [],
   "source": [
    "input_shape = (reg_flat_train.shape[1],1)\n",
    "num_classes = classes\n",
    "model2 = tf.keras.models.Sequential()\n",
    "model2.add(tf.keras.layers.Conv1D(filters= 64, kernel_size=3, activation='relu',padding='valid',input_shape= input_shape))\n",
    "model2.add(tf.keras.layers.AveragePooling1D())\n",
    "model2.add(tf.keras.layers.Conv1D(filters=64, kernel_size=3,padding='valid',activation='relu'))\n",
    "model2.add(tf.keras.layers.AveragePooling1D())\n",
    "model2.add(tf.keras.layers.Flatten())\n",
    "model2.add(tf.keras.layers.Dropout(0.1))\n",
    "model2.add(tf.keras.layers.Dense(1024, activation='relu'))\n",
    "model2.add(tf.keras.layers.Dense(num_classes, activation='softmax'))\n",
    "\n",
    "model2.compile(loss='SparseCategoricalCrossentropy', optimizer='Adam', metrics=['acc'])\n",
    "model2.summary()"
   ]
  },
  {
   "cell_type": "code",
   "execution_count": null,
   "id": "2c42b2b9",
   "metadata": {},
   "outputs": [],
   "source": [
    "history_log=model2.fit(reg_flat_train, regular_train_label, epochs=10,verbose=1,validation_data=(reg_flat_val, regular_val_label))"
   ]
  },
  {
   "cell_type": "code",
   "execution_count": null,
   "id": "f91e3ce2",
   "metadata": {
    "scrolled": false
   },
   "outputs": [],
   "source": [
    "loss, accuracy = model2.evaluate(reg_flat_test, regular_test_label)\n",
    "print(f' Model loss on the test set: {loss}')\n",
    "print(f' Model accuracy on the test set: {100*accuracy}')"
   ]
  },
  {
   "cell_type": "code",
   "execution_count": null,
   "id": "c5ceb4b6",
   "metadata": {},
   "outputs": [],
   "source": [
    "predictions = model2.predict(reg_flat_test)\n",
    "pred_arg = np.argmax(predictions, axis=1)"
   ]
  },
  {
   "cell_type": "code",
   "execution_count": null,
   "id": "fe4b2358",
   "metadata": {},
   "outputs": [],
   "source": [
    "from sklearn.metrics import confusion_matrix\n",
    "cnf_matrix=confusion_matrix(regular_test_label,pred_arg)\n",
    "print(\"cnf_matrix_2.0_70\")\n",
    "print(\"\")\n",
    "print(cnf_matrix)"
   ]
  },
  {
   "cell_type": "code",
   "execution_count": null,
   "id": "da91a9dc",
   "metadata": {},
   "outputs": [],
   "source": [
    "from sklearn.metrics import accuracy_score, recall_score,precision_score,roc_auc_score,roc_curve,f1_score\n"
   ]
  },
  {
   "cell_type": "code",
   "execution_count": null,
   "id": "faa0fdd1",
   "metadata": {},
   "outputs": [],
   "source": [
    "print(accuracy_score(regular_test_label, pred_arg))\n",
    "print(f1_score(regular_test_label,pred_arg,average='macro'))\n",
    "print(recall_score(regular_test_label, pred_arg, average=\"weighted\"))\n",
    "print(precision_score(regular_test_label, pred_arg, average=\"weighted\"))"
   ]
  },
  {
   "cell_type": "markdown",
   "id": "3f6b0cea",
   "metadata": {},
   "source": [
    "# Gershgorien image analysis"
   ]
  },
  {
   "cell_type": "code",
   "execution_count": null,
   "id": "25ebdacc",
   "metadata": {},
   "outputs": [],
   "source": [
    "from collections import Counter\n",
    "#print((Counter(y_val)))\n",
    "print(np.sort(list(Counter(regular_train_label).keys())))\n",
    "classes=len(np.sort(list(Counter(regular_train_label).keys())))"
   ]
  },
  {
   "cell_type": "code",
   "execution_count": null,
   "id": "23a5b835",
   "metadata": {
    "scrolled": true
   },
   "outputs": [],
   "source": [
    "train_patch=img.to_patcharray(regular_train[:],patch_size=(patch,patch))\n",
    "val_patch=img.to_patcharray(regular_val[:],patch_size=(patch,patch))\n",
    "test_patch=img.to_patcharray(regular_test[:],patch_size=(patch,patch))\n",
    "\n"
   ]
  },
  {
   "cell_type": "code",
   "execution_count": null,
   "id": "576f8299",
   "metadata": {},
   "outputs": [],
   "source": [
    "print(train_patch.shape)\n",
    "print(val_patch.shape)\n",
    "print(test_patch.shape)"
   ]
  },
  {
   "cell_type": "code",
   "execution_count": null,
   "id": "a7d21952",
   "metadata": {
    "scrolled": true
   },
   "outputs": [],
   "source": [
    "gersh_train=np.array(img1.to_gridlaparray(train_patch))\n",
    "gersh_val=np.array(img1.to_gridlaparray(val_patch))\n",
    "gersh_test=np.array(img1.to_gridlaparray(test_patch))"
   ]
  },
  {
   "cell_type": "code",
   "execution_count": null,
   "id": "fd659e08",
   "metadata": {},
   "outputs": [],
   "source": [
    "print(gersh_train.shape)\n",
    "print(gersh_val.shape)\n",
    "print(gersh_test.shape)"
   ]
  },
  {
   "cell_type": "code",
   "execution_count": null,
   "id": "c2547201",
   "metadata": {},
   "outputs": [],
   "source": [
    "rgersh_train=np.moveaxis(gersh_train,1,-1)\n",
    "rgersh_val=np.moveaxis(gersh_val,1,-1)\n",
    "rgersh_test=np.moveaxis(gersh_test,1,-1)\n",
    "\n",
    "rgersh_train=np.moveaxis(rgersh_train,2,1)\n",
    "rgersh_val=np.moveaxis(rgersh_val,2,1)\n",
    "rgersh_test=np.moveaxis(rgersh_test,2,1)"
   ]
  },
  {
   "cell_type": "code",
   "execution_count": null,
   "id": "54f358cc",
   "metadata": {},
   "outputs": [],
   "source": [
    "print(rgersh_train.shape)"
   ]
  },
  {
   "cell_type": "markdown",
   "id": "8603eaf1",
   "metadata": {},
   "source": [
    "# Gershgorien 2D CNN"
   ]
  },
  {
   "cell_type": "code",
   "execution_count": null,
   "id": "40e80720",
   "metadata": {},
   "outputs": [],
   "source": [
    "input_shape = (rgersh_train.shape[1],rgersh_train.shape[2],rgersh_train.shape[3])\n",
    "num_classes = classes\n",
    "model3 = tf.keras.models.Sequential()\n",
    "model3.add(tf.keras.layers.Conv2D(filters= 64, kernel_size=(1,3), activation='relu',padding='valid',input_shape= input_shape))\n",
    "model3.add(tf.keras.layers.AveragePooling2D(pool_size=(1, 2),strides=None,padding='valid'))\n",
    "\n",
    "model3.add(tf.keras.layers.Conv2D(filters=64, kernel_size=(1,3),padding='valid',activation='relu'))\n",
    "model3.add(tf.keras.layers.AveragePooling2D(pool_size=(1, 2),strides=None,padding='valid'))\n",
    "model3.add(tf.keras.layers.Flatten())\n",
    "model3.add(tf.keras.layers.Dropout(0.1))\n",
    "model3.add(tf.keras.layers.Dense(1024, activation='relu'))\n",
    "model3.add(tf.keras.layers.Dense(num_classes, activation='softmax'))\n",
    "\n",
    "model3.summary()"
   ]
  },
  {
   "cell_type": "code",
   "execution_count": null,
   "id": "ee97382d",
   "metadata": {},
   "outputs": [],
   "source": [
    "model3.compile(loss='SparseCategoricalCrossentropy', optimizer='Adam', metrics=['acc'])\n"
   ]
  },
  {
   "cell_type": "code",
   "execution_count": null,
   "id": "41d9b7ba",
   "metadata": {
    "scrolled": true
   },
   "outputs": [],
   "source": [
    "history_log=model3.fit(rgersh_train, regular_train_label, epochs=10,verbose=1,validation_data=(rgersh_val, regular_val_label))\n"
   ]
  },
  {
   "cell_type": "code",
   "execution_count": null,
   "id": "db1a2c59",
   "metadata": {},
   "outputs": [],
   "source": [
    "loss, accuracy = model3.evaluate(rgersh_test, regular_test_label)\n",
    "print(f' Model loss on the test set: {loss}')\n",
    "print(f' Model accuracy on the test set: {100*accuracy}')"
   ]
  },
  {
   "cell_type": "code",
   "execution_count": null,
   "id": "994f96a7",
   "metadata": {},
   "outputs": [],
   "source": [
    "predictions = model3.predict(rgersh_test)\n",
    "pred_arg = np.argmax(predictions, axis=1)"
   ]
  },
  {
   "cell_type": "code",
   "execution_count": null,
   "id": "abb59028",
   "metadata": {},
   "outputs": [],
   "source": [
    "from sklearn.metrics import confusion_matrix\n",
    "cnf_matrix=confusion_matrix(regular_test_label,pred_arg)\n",
    "print(\"cnf_matrix_2.0_70\")\n",
    "print(\"\")\n",
    "print(cnf_matrix)"
   ]
  },
  {
   "cell_type": "code",
   "execution_count": null,
   "id": "9f134881",
   "metadata": {},
   "outputs": [],
   "source": [
    "from sklearn.metrics import accuracy_score, recall_score,precision_score,roc_auc_score,roc_curve,f1_score\n"
   ]
  },
  {
   "cell_type": "code",
   "execution_count": null,
   "id": "a9a4c94b",
   "metadata": {},
   "outputs": [],
   "source": [
    "print(accuracy_score(regular_test_label, pred_arg))\n",
    "print(f1_score(regular_test_label,pred_arg,average='macro'))\n",
    "print(recall_score(regular_test_label, pred_arg, average=\"weighted\"))\n",
    "print(precision_score(regular_test_label, pred_arg, average=\"weighted\"))"
   ]
  },
  {
   "cell_type": "code",
   "execution_count": null,
   "id": "7e15935d",
   "metadata": {},
   "outputs": [],
   "source": []
  },
  {
   "cell_type": "markdown",
   "id": "a737c23b",
   "metadata": {},
   "source": [
    "# Gershgorien 1D CNN"
   ]
  },
  {
   "cell_type": "code",
   "execution_count": null,
   "id": "976ed632",
   "metadata": {},
   "outputs": [],
   "source": [
    "flatgersh_train=np.array([i.flatten() for i in rgersh_train])\n",
    "flatgersh_val=np.array([i.flatten() for i in rgersh_val])\n",
    "flatgersh_test=np.array([i.flatten() for i in rgersh_test])"
   ]
  },
  {
   "cell_type": "code",
   "execution_count": null,
   "id": "26452880",
   "metadata": {},
   "outputs": [],
   "source": [
    "print(flatgersh_train.shape)\n",
    "print(flatgersh_val.shape)\n",
    "print(flatgersh_test.shape)"
   ]
  },
  {
   "cell_type": "code",
   "execution_count": null,
   "id": "35848611",
   "metadata": {},
   "outputs": [],
   "source": [
    "input_shape = (flatgersh_train.shape[1],1)\n",
    "num_classes = classes\n",
    "model4 = tf.keras.models.Sequential()\n",
    "model4.add(tf.keras.layers.Conv1D(filters= 64, kernel_size=3, activation='relu',padding='valid',input_shape= input_shape))\n",
    "model4.add(tf.keras.layers.AveragePooling1D())\n",
    "\n",
    "model4.add(tf.keras.layers.Conv1D(filters=64, kernel_size=3,padding='valid',activation='relu'))\n",
    "model4.add(tf.keras.layers.AveragePooling1D())\n",
    "model4.add(tf.keras.layers.Flatten())\n",
    "model4.add(tf.keras.layers.Dropout(0.1))\n",
    "model4.add(tf.keras.layers.Dense(1024, activation='relu'))\n",
    "model4.add(tf.keras.layers.Dense(num_classes, activation='softmax'))\n",
    "\n",
    "model4.compile(loss='SparseCategoricalCrossentropy', optimizer='Adam', metrics=['acc'])\n",
    "model4.summary()"
   ]
  },
  {
   "cell_type": "code",
   "execution_count": null,
   "id": "5c2c3c8c",
   "metadata": {},
   "outputs": [],
   "source": [
    "history_log=model4.fit(flatgersh_train, regular_train_label, epochs=10,verbose=1,validation_data=(flatgersh_val, regular_val_label))\n"
   ]
  },
  {
   "cell_type": "code",
   "execution_count": null,
   "id": "666b5907",
   "metadata": {
    "scrolled": false
   },
   "outputs": [],
   "source": [
    "loss, accuracy = model4.evaluate(flatgersh_test, regular_test_label)\n",
    "print(f' Model loss on the test set: {loss}')\n",
    "print(f' Model accuracy on the test set: {100*accuracy}')"
   ]
  },
  {
   "cell_type": "code",
   "execution_count": null,
   "id": "3b6a7fd2",
   "metadata": {},
   "outputs": [],
   "source": [
    "predictions = model4.predict(flatgersh_test)\n",
    "pred_arg = np.argmax(predictions, axis=1)"
   ]
  },
  {
   "cell_type": "code",
   "execution_count": null,
   "id": "5b2bc53b",
   "metadata": {},
   "outputs": [],
   "source": [
    "from sklearn.metrics import confusion_matrix\n",
    "cnf_matrix=confusion_matrix(regular_test_label,pred_arg)\n",
    "print(\"cnf_matrix_2.0_70\")\n",
    "print(\"\")\n",
    "print(cnf_matrix)"
   ]
  },
  {
   "cell_type": "code",
   "execution_count": null,
   "id": "0eead87b",
   "metadata": {},
   "outputs": [],
   "source": [
    "from sklearn.metrics import accuracy_score, recall_score,precision_score,roc_auc_score,roc_curve,f1_score\n"
   ]
  },
  {
   "cell_type": "code",
   "execution_count": null,
   "id": "926da791",
   "metadata": {},
   "outputs": [],
   "source": [
    "print(accuracy_score(regular_test_label, pred_arg))\n",
    "print(f1_score(regular_test_label,pred_arg,average='macro'))\n",
    "print(recall_score(regular_test_label, pred_arg, average=\"weighted\"))\n",
    "print(precision_score(regular_test_label, pred_arg, average=\"weighted\"))"
   ]
  },
  {
   "cell_type": "markdown",
   "id": "b2521439",
   "metadata": {},
   "source": [
    "# Laplacian"
   ]
  },
  {
   "cell_type": "code",
   "execution_count": null,
   "id": "633b80e1",
   "metadata": {
    "scrolled": true
   },
   "outputs": [],
   "source": [
    "org_lap_train=np.array(img.to_original_gridlaparray(train_patch))\n",
    "org_lap_val=np.array(img.to_original_gridlaparray(val_patch))\n",
    "org_lap_test=np.array(img.to_original_gridlaparray(test_patch))"
   ]
  },
  {
   "cell_type": "code",
   "execution_count": null,
   "id": "716c289d",
   "metadata": {},
   "outputs": [],
   "source": [
    "print(org_lap_train.shape)\n",
    "print(org_lap_val.shape)\n",
    "print(org_lap_test.shape)"
   ]
  },
  {
   "cell_type": "code",
   "execution_count": null,
   "id": "c4aae2c4",
   "metadata": {},
   "outputs": [],
   "source": [
    "org_lap_train.shape[2]"
   ]
  },
  {
   "cell_type": "code",
   "execution_count": null,
   "id": "8b7ed0f2",
   "metadata": {},
   "outputs": [],
   "source": [
    "rorglap_train=org_lap_train.reshape(org_lap_train.shape[0],org_lap_train.shape[2]*org_lap_train.shape[3],org_lap_train.shape[4])\n",
    "rorglap_val=org_lap_val.reshape(org_lap_val.shape[0],org_lap_val.shape[2]*org_lap_val.shape[3],org_lap_train.shape[4])\n",
    "rorglap_test=org_lap_test.reshape(org_lap_test.shape[0],org_lap_test.shape[2]*org_lap_test.shape[3],org_lap_train.shape[4])\n"
   ]
  },
  {
   "cell_type": "code",
   "execution_count": null,
   "id": "ef23190b",
   "metadata": {},
   "outputs": [],
   "source": [
    "print(rorglap_train.shape)\n",
    "print(rorglap_val.shape)\n",
    "print(rorglap_test.shape)"
   ]
  },
  {
   "cell_type": "markdown",
   "id": "2ab96021",
   "metadata": {},
   "source": [
    "# Laplacian 2D CNN"
   ]
  },
  {
   "cell_type": "code",
   "execution_count": null,
   "id": "893a137f",
   "metadata": {
    "scrolled": true
   },
   "outputs": [],
   "source": [
    "input_shape = (rorglap_train.shape[1],rorglap_train.shape[2],1)\n",
    "num_classes = classes\n",
    "model5 = tf.keras.models.Sequential()\n",
    "model5.add(tf.keras.layers.Conv2D(filters= 32, kernel_size=3, activation='relu',padding='valid',input_shape= input_shape))\n",
    "model5.add(tf.keras.layers.AveragePooling2D(pool_size=(2, 2),strides=None,padding='valid'))\n",
    "model5.add(tf.keras.layers.Conv2D(filters=32, kernel_size=3,padding='valid',activation='relu'))\n",
    "model5.add(tf.keras.layers.AveragePooling2D(pool_size=(2, 2),strides=None,padding='valid'))\n",
    "model5.add(tf.keras.layers.Flatten())\n",
    "model5.add(tf.keras.layers.Dropout(0.1))\n",
    "model5.add(tf.keras.layers.Dense(1024, activation='relu'))\n",
    "model5.add(tf.keras.layers.Dense(num_classes, activation='softmax'))\n",
    "\n",
    "model5.summary()"
   ]
  },
  {
   "cell_type": "code",
   "execution_count": null,
   "id": "7f8a8622",
   "metadata": {},
   "outputs": [],
   "source": [
    "model5.compile(loss='SparseCategoricalCrossentropy', optimizer='Adam', metrics=['acc'])\n"
   ]
  },
  {
   "cell_type": "code",
   "execution_count": null,
   "id": "d84f26e0",
   "metadata": {
    "scrolled": false
   },
   "outputs": [],
   "source": [
    "history_log=model5.fit(rorglap_train, regular_train_label, epochs=10,verbose=1,validation_data=(rorglap_val, regular_val_label))\n"
   ]
  },
  {
   "cell_type": "code",
   "execution_count": null,
   "id": "0074ff2e",
   "metadata": {
    "scrolled": false
   },
   "outputs": [],
   "source": [
    "loss, accuracy = model5.evaluate(rorglap_test, regular_test_label)\n",
    "print(f' Model loss on the test set: {loss}')\n",
    "print(f' Model accuracy on the test set: {100*accuracy}')"
   ]
  },
  {
   "cell_type": "code",
   "execution_count": null,
   "id": "bdfc34ff",
   "metadata": {},
   "outputs": [],
   "source": [
    "predictions = model5.predict(rorglap_test)\n",
    "pred_arg = np.argmax(predictions, axis=1)"
   ]
  },
  {
   "cell_type": "code",
   "execution_count": null,
   "id": "54cb08f1",
   "metadata": {},
   "outputs": [],
   "source": [
    "from sklearn.metrics import confusion_matrix\n",
    "cnf_matrix=confusion_matrix(regular_test_label,pred_arg)\n",
    "print(\"cnf_matrix_2.0_70\")\n",
    "print(\"\")\n",
    "print(cnf_matrix)"
   ]
  },
  {
   "cell_type": "code",
   "execution_count": null,
   "id": "43ddc7ec",
   "metadata": {},
   "outputs": [],
   "source": [
    "from sklearn.metrics import accuracy_score, recall_score,precision_score,roc_auc_score,roc_curve,f1_score\n"
   ]
  },
  {
   "cell_type": "code",
   "execution_count": null,
   "id": "7864538f",
   "metadata": {},
   "outputs": [],
   "source": [
    "print(accuracy_score(regular_test_label, pred_arg))\n",
    "print(f1_score(regular_test_label,pred_arg,average='macro'))\n",
    "print(recall_score(regular_test_label, pred_arg, average=\"weighted\"))\n",
    "print(precision_score(regular_test_label, pred_arg, average=\"weighted\"))"
   ]
  },
  {
   "cell_type": "markdown",
   "id": "1e09e3f4",
   "metadata": {},
   "source": [
    "# Laplacian 1D CNN"
   ]
  },
  {
   "cell_type": "code",
   "execution_count": null,
   "id": "a32f00d5",
   "metadata": {},
   "outputs": [],
   "source": [
    "flatorglap_train=np.array([i.flatten() for i in rorglap_train])\n",
    "flatorglap_val=np.array([i.flatten() for i in rorglap_val])\n",
    "flatorglap_test=np.array([i.flatten() for i in rorglap_test])"
   ]
  },
  {
   "cell_type": "code",
   "execution_count": null,
   "id": "85ecfd6a",
   "metadata": {},
   "outputs": [],
   "source": [
    "print(flatorglap_train.shape)\n",
    "print(flatorglap_val.shape)\n",
    "print(flatorglap_test.shape)"
   ]
  },
  {
   "cell_type": "code",
   "execution_count": null,
   "id": "9a0ac514",
   "metadata": {},
   "outputs": [],
   "source": [
    "input_shape = (flatorglap_train.shape[1],1)\n",
    "num_classes = classes\n",
    "model = tf.keras.models.Sequential()\n",
    "model.add(tf.keras.layers.Conv1D(filters= 32, kernel_size=3, activation='relu',padding='same',input_shape= input_shape))\n",
    "model.add(tf.keras.layers.AveragePooling1D())\n",
    "model.add(tf.keras.layers.Conv1D(filters=32, kernel_size=3,padding='same',activation='relu'))\n",
    "model.add(tf.keras.layers.AveragePooling1D())\n",
    "model.add(tf.keras.layers.Flatten())\n",
    "model.add(tf.keras.layers.Dropout(0.1))\n",
    "model.add(tf.keras.layers.Dense(1024, activation='relu'))\n",
    "model.add(tf.keras.layers.Dense(num_classes, activation='softmax'))\n",
    "\n",
    "model.compile(loss='SparseCategoricalCrossentropy', optimizer='Adam', metrics=['acc'])\n",
    "model.summary()"
   ]
  },
  {
   "cell_type": "code",
   "execution_count": null,
   "id": "f193565b",
   "metadata": {},
   "outputs": [],
   "source": []
  },
  {
   "cell_type": "code",
   "execution_count": null,
   "id": "d793e9bc",
   "metadata": {},
   "outputs": [],
   "source": []
  },
  {
   "cell_type": "code",
   "execution_count": null,
   "id": "b6a1ecde",
   "metadata": {},
   "outputs": [],
   "source": []
  }
 ],
 "metadata": {
  "anaconda-cloud": {},
  "kernelspec": {
   "display_name": "Python [conda env:root] *",
   "language": "python",
   "name": "conda-root-py"
  },
  "language_info": {
   "codemirror_mode": {
    "name": "ipython",
    "version": 3
   },
   "file_extension": ".py",
   "mimetype": "text/x-python",
   "name": "python",
   "nbconvert_exporter": "python",
   "pygments_lexer": "ipython3",
   "version": "3.9.12"
  }
 },
 "nbformat": 4,
 "nbformat_minor": 5
}
