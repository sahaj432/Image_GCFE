{
 "cells": [
  {
   "cell_type": "code",
   "execution_count": null,
   "id": "20d67456",
   "metadata": {},
   "outputs": [],
   "source": [
    "import numpy as np\n",
    "import matplotlib.pyplot as plt\n",
    "from image_graph_util import img_conversion_v7\n",
    "from sklearn.preprocessing import MinMaxScaler\n",
    "import os\n",
    "import glob\n",
    "import tensorflow as tf\n",
    "import tensorflow_datasets as tfds\n",
    "from sklearn.model_selection import train_test_split\n",
    "from emnist import extract_training_samples,extract_test_samples\n",
    "from emnist import list_datasets\n",
    "from sklearn.utils import shuffle\n",
    "import tensorflow as tf"
   ]
  },
  {
   "cell_type": "code",
   "execution_count": null,
   "id": "d34e611c",
   "metadata": {},
   "outputs": [],
   "source": [
    "img=img_conversion_v7.image_convert()\n",
    "\n",
    "patch=4\n"
   ]
  },
  {
   "cell_type": "code",
   "execution_count": null,
   "id": "e6f1f33d",
   "metadata": {},
   "outputs": [],
   "source": [
    "print(list_datasets())"
   ]
  },
  {
   "cell_type": "code",
   "execution_count": null,
   "id": "9547fee3",
   "metadata": {},
   "outputs": [],
   "source": [
    "train_images,train_labels=extract_training_samples('mnist')"
   ]
  },
  {
   "cell_type": "code",
   "execution_count": null,
   "id": "cec54ba1",
   "metadata": {},
   "outputs": [],
   "source": [
    "test_images, test_labels = extract_test_samples('mnist')"
   ]
  },
  {
   "cell_type": "code",
   "execution_count": null,
   "id": "951b5ba8",
   "metadata": {},
   "outputs": [],
   "source": [
    "#normalization of train dataset\n",
    "ftrain_images = np.float16(np.array(train_images)/255)\n",
    "train_labels = np.float16(np.array(train_labels))"
   ]
  },
  {
   "cell_type": "code",
   "execution_count": null,
   "id": "b6371893",
   "metadata": {},
   "outputs": [],
   "source": [
    "#normalization of test dataset\n",
    "ftest_images = np.float16(np.array(test_images)/255)\n",
    "test_labels = np.float16(np.array(test_labels))"
   ]
  },
  {
   "cell_type": "code",
   "execution_count": null,
   "id": "7ccca09c",
   "metadata": {},
   "outputs": [],
   "source": [
    "print(ftrain_images.shape)\n",
    "print(ftest_images.shape)"
   ]
  },
  {
   "cell_type": "code",
   "execution_count": null,
   "id": "451629f0",
   "metadata": {},
   "outputs": [],
   "source": [
    "# making 28,28,1\n",
    "rtrain_images=ftrain_images.reshape(ftrain_images.shape[0],ftrain_images.shape[1],ftrain_images.shape[2],1)\n",
    "rtest_images=ftest_images.reshape(ftest_images.shape[0],ftest_images.shape[1],ftest_images.shape[2],1)"
   ]
  },
  {
   "cell_type": "code",
   "execution_count": null,
   "id": "184c03de",
   "metadata": {},
   "outputs": [],
   "source": [
    "print(rtrain_images.shape)\n",
    "print(rtest_images.shape)"
   ]
  },
  {
   "cell_type": "code",
   "execution_count": null,
   "id": "dd49a4b2",
   "metadata": {},
   "outputs": [],
   "source": [
    "reg_val,reg_test,reg_val_label,reg_test_label=train_test_split(rtest_images,test_labels,test_size=0.50,random_state=42)\n"
   ]
  },
  {
   "cell_type": "code",
   "execution_count": null,
   "id": "548fdbbf",
   "metadata": {},
   "outputs": [],
   "source": [
    "reg_train=rtrain_images\n",
    "reg_train_label=train_labels\n"
   ]
  },
  {
   "cell_type": "code",
   "execution_count": null,
   "id": "b2010414",
   "metadata": {
    "scrolled": true
   },
   "outputs": [],
   "source": [
    "print(reg_train.shape)\n",
    "print(reg_val.shape)\n",
    "print(reg_test.shape)\n",
    "print(reg_train_label.shape)\n",
    "print(reg_val_label.shape)\n",
    "print(reg_test_label.shape)\n"
   ]
  },
  {
   "cell_type": "code",
   "execution_count": null,
   "id": "b3bf9131",
   "metadata": {
    "scrolled": true
   },
   "outputs": [],
   "source": [
    "reg_train_patch=img.to_patcharray(reg_train,patch_size=(patch,patch))\n",
    "reg_val_patch=img.to_patcharray(reg_val,patch_size=(patch,patch))\n",
    "reg_test_patch=img.to_patcharray(reg_test,patch_size=(patch,patch))"
   ]
  },
  {
   "cell_type": "markdown",
   "id": "ede2e37a",
   "metadata": {},
   "source": [
    "####  Patch size"
   ]
  },
  {
   "cell_type": "code",
   "execution_count": null,
   "id": "7f845f0a",
   "metadata": {},
   "outputs": [],
   "source": [
    "print(reg_train_patch.shape)\n",
    "print(reg_val_patch.shape)\n",
    "print(reg_test_patch.shape)"
   ]
  },
  {
   "cell_type": "code",
   "execution_count": null,
   "id": "1b9b62ad",
   "metadata": {},
   "outputs": [],
   "source": [
    "rreg_train=np.moveaxis(reg_train_patch,1,-1)\n",
    "rreg_val=np.moveaxis(reg_val_patch,1,-1)\n",
    "rreg_test=np.moveaxis(reg_test_patch,1,-1)"
   ]
  },
  {
   "cell_type": "code",
   "execution_count": null,
   "id": "f6e95a67",
   "metadata": {},
   "outputs": [],
   "source": [
    "rreg_train=rreg_train.reshape(rreg_train.shape[0],rreg_train.shape[1]*rreg_train.shape[2],rreg_train.shape[3],rreg_train.shape[4])\n",
    "rreg_val=rreg_val.reshape(rreg_val.shape[0],rreg_val.shape[1]*rreg_val.shape[2],rreg_val.shape[3],rreg_val.shape[4])\n",
    "rreg_test=rreg_test.reshape(rreg_test.shape[0],rreg_test.shape[1]*rreg_test.shape[2],rreg_test.shape[3],rreg_test.shape[4])\n"
   ]
  },
  {
   "cell_type": "markdown",
   "id": "72fcb22d",
   "metadata": {},
   "source": [
    "#### Regular CNN Input"
   ]
  },
  {
   "cell_type": "code",
   "execution_count": null,
   "id": "3534a7ef",
   "metadata": {},
   "outputs": [],
   "source": [
    "print(rreg_train.shape)\n",
    "print(rreg_val.shape)\n",
    "print(rreg_test.shape)"
   ]
  },
  {
   "cell_type": "code",
   "execution_count": null,
   "id": "29beaadb",
   "metadata": {},
   "outputs": [],
   "source": [
    "from collections import Counter\n",
    "#print((Counter(y_val)))\n",
    "print(np.sort(list(Counter(reg_train_label).keys())))\n",
    "classes=len(np.sort(list(Counter(reg_train_label).keys())))"
   ]
  },
  {
   "cell_type": "markdown",
   "id": "3f6b0cea",
   "metadata": {},
   "source": [
    "# Laplacian image analysis"
   ]
  },
  {
   "cell_type": "code",
   "execution_count": null,
   "id": "c401b6d2",
   "metadata": {},
   "outputs": [],
   "source": [
    "rlap_train=rreg_train.reshape(rreg_train.shape[0],rreg_train.shape[1]*rreg_train.shape[2],rreg_train.shape[3])\n",
    "rlap_val=rreg_val.reshape(rreg_val.shape[0],rreg_val.shape[1]*rreg_val.shape[2],rreg_val.shape[3])\n",
    "rlap_test=rreg_test.reshape(rreg_test.shape[0],rreg_test.shape[1]*rreg_test.shape[2],rreg_test.shape[3])\n"
   ]
  },
  {
   "cell_type": "code",
   "execution_count": null,
   "id": "54f358cc",
   "metadata": {},
   "outputs": [],
   "source": [
    "print(rlap_train.shape)\n",
    "print(rlap_val.shape)\n",
    "print(rlap_test.shape)"
   ]
  },
  {
   "cell_type": "code",
   "execution_count": null,
   "id": "d9b49d08",
   "metadata": {},
   "outputs": [],
   "source": [
    "rlap_train=rlap_train.reshape(rlap_train.shape[0],-1)\n",
    "rlap_val=rlap_val.reshape(rlap_val.shape[0],-1)\n",
    "rlap_test=rlap_test.reshape(rlap_test.shape[0],-1)"
   ]
  },
  {
   "cell_type": "code",
   "execution_count": null,
   "id": "f6b3795c",
   "metadata": {},
   "outputs": [],
   "source": [
    "print(rlap_train.shape)\n",
    "print(rlap_val.shape)\n",
    "print(rlap_test.shape)"
   ]
  },
  {
   "cell_type": "code",
   "execution_count": null,
   "id": "e3964a4c",
   "metadata": {},
   "outputs": [],
   "source": [
    "L= np.concatenate((rlap_train,rlap_val,rlap_test), axis=0)\n"
   ]
  },
  {
   "cell_type": "code",
   "execution_count": null,
   "id": "2baa13d3",
   "metadata": {
    "scrolled": true
   },
   "outputs": [],
   "source": [
    "print(L.shape)"
   ]
  },
  {
   "cell_type": "markdown",
   "id": "6d9b021a",
   "metadata": {},
   "source": [
    "# SpectralEmbedding map"
   ]
  },
  {
   "cell_type": "code",
   "execution_count": null,
   "id": "93cdfe85",
   "metadata": {
    "scrolled": true
   },
   "outputs": [],
   "source": [
    "import numpy as np\n",
    "from sklearn.manifold import SpectralEmbedding\n",
    "\n",
    "def compute_spectral_embedding(X, n_components=2, n_neighbors=5, affinity='nearest_neighbors', batch_size=1000):\n",
    "    \"\"\"\n",
    "    Perform Spectral Embedding to project the data onto a lower-dimensional space using batch processing.\n",
    "    \"\"\"\n",
    "    n_samples = X.shape[0]\n",
    "\n",
    "    # Initialize the spectral embedding object\n",
    "    embedding = SpectralEmbedding(n_components=n_components, n_neighbors=n_neighbors, affinity=affinity)\n",
    "\n",
    "    # Compute the embedding in batches\n",
    "    embedding_result = np.zeros((n_samples, n_components))\n",
    "    n_batches = int(np.ceil(n_samples / batch_size))\n",
    "\n",
    "    for i in range(n_batches):\n",
    "        start_idx = i * batch_size\n",
    "        end_idx = min((i + 1) * batch_size, n_samples)\n",
    "        X_batch = X[start_idx:end_idx]\n",
    "\n",
    "        # Perform spectral embedding on the batch\n",
    "        embedding_batch = embedding.fit_transform(X_batch)\n",
    "        embedding_result[start_idx:end_idx] = embedding_batch\n",
    "\n",
    "        # Print batch progress\n",
    "        print(\"Processed batch\", i+1, \"of\", n_batches)\n",
    "\n",
    "    return embedding_result\n",
    "\n",
    "# Example usage\n",
    "X = L  # Input samples\n",
    "n_components = 100\n",
    "n_neighbors = 10\n",
    "affinity = 'nearest_neighbors'  # Use nearest neighbors graph for affinity\n",
    "batch_size = 1000\n",
    "\n",
    "# Perform Spectral Embedding with batch processing\n",
    "embedding_result = compute_spectral_embedding(X, n_components, n_neighbors, affinity, batch_size)\n",
    "print(embedding_result.shape)  # Output the shape of the embedding result\n"
   ]
  },
  {
   "cell_type": "code",
   "execution_count": null,
   "id": "3be83925",
   "metadata": {
    "scrolled": true
   },
   "outputs": [],
   "source": [
    "print(embedding_result.shape)"
   ]
  },
  {
   "cell_type": "code",
   "execution_count": null,
   "id": "3982b890",
   "metadata": {},
   "outputs": [],
   "source": [
    "x_train=embedding_result[:rlap_train.shape[0]]\n",
    "x_val=embedding_result[rlap_train.shape[0]:(rlap_train.shape[0]+rlap_val.shape[0])]\n",
    "x_test=embedding_result[(rlap_train.shape[0]+rlap_val.shape[0]):]\n",
    "\n"
   ]
  },
  {
   "cell_type": "code",
   "execution_count": null,
   "id": "57c04887",
   "metadata": {},
   "outputs": [],
   "source": [
    "print(x_train.shape)\n",
    "print(x_val.shape)\n",
    "print(x_test.shape)"
   ]
  },
  {
   "cell_type": "code",
   "execution_count": null,
   "id": "75457284",
   "metadata": {},
   "outputs": [],
   "source": [
    "input_shape = (x_train.shape[1],1)\n",
    "num_classes = classes\n",
    "model2 = tf.keras.models.Sequential()\n",
    "model2.add(tf.keras.layers.Conv1D(filters= 64, kernel_size=3, activation='relu',padding='same',input_shape= input_shape))\n",
    "model2.add(tf.keras.layers.AveragePooling1D())\n",
    "model2.add(tf.keras.layers.Conv1D(filters=64, kernel_size=3,padding='same',activation='relu'))\n",
    "model2.add(tf.keras.layers.AveragePooling1D())\n",
    "model2.add(tf.keras.layers.Flatten())\n",
    "model2.add(tf.keras.layers.Dropout(0.1))\n",
    "model2.add(tf.keras.layers.Dense(1024, activation='relu'))\n",
    "model2.add(tf.keras.layers.Dense(num_classes, activation='softmax'))\n",
    "\n",
    "model2.compile(loss='SparseCategoricalCrossentropy', optimizer='Adam', metrics=['acc'])\n"
   ]
  },
  {
   "cell_type": "code",
   "execution_count": null,
   "id": "365abcba",
   "metadata": {},
   "outputs": [],
   "source": [
    "model2.summary()"
   ]
  },
  {
   "cell_type": "code",
   "execution_count": null,
   "id": "2c42b2b9",
   "metadata": {},
   "outputs": [],
   "source": [
    "history_log=model2.fit(x_train, reg_train_label, epochs=10,verbose=1,validation_data=(x_val, reg_val_label))\n"
   ]
  },
  {
   "cell_type": "code",
   "execution_count": null,
   "id": "f91e3ce2",
   "metadata": {
    "scrolled": false
   },
   "outputs": [],
   "source": [
    "loss, accuracy = model2.evaluate(x_test, reg_test_label)\n",
    "print(f' Model loss on the test set: {loss}')\n",
    "print(f' Model accuracy on the test set: {100*accuracy}')"
   ]
  },
  {
   "cell_type": "code",
   "execution_count": null,
   "id": "c5ceb4b6",
   "metadata": {},
   "outputs": [],
   "source": [
    "predictions = model2.predict(x_test)\n",
    "pred_arg = np.argmax(predictions, axis=1)"
   ]
  },
  {
   "cell_type": "code",
   "execution_count": null,
   "id": "fe4b2358",
   "metadata": {},
   "outputs": [],
   "source": [
    "from sklearn.metrics import confusion_matrix\n",
    "cnf_matrix=confusion_matrix(reg_test_label,pred_arg)\n",
    "print(\"cnf_matrix_2.0_70\")\n",
    "print(\"\")\n",
    "print(cnf_matrix)"
   ]
  },
  {
   "cell_type": "code",
   "execution_count": null,
   "id": "da91a9dc",
   "metadata": {},
   "outputs": [],
   "source": [
    "from sklearn.metrics import accuracy_score, recall_score,precision_score,roc_auc_score,roc_curve,f1_score\n"
   ]
  },
  {
   "cell_type": "code",
   "execution_count": null,
   "id": "faa0fdd1",
   "metadata": {},
   "outputs": [],
   "source": [
    "print(accuracy_score(reg_test_label, pred_arg))\n",
    "print(f1_score(reg_test_label,pred_arg,average='macro'))\n",
    "print(recall_score(reg_test_label, pred_arg, average=\"weighted\"))\n",
    "print(precision_score(reg_test_label, pred_arg, average=\"weighted\"))"
   ]
  },
  {
   "cell_type": "code",
   "execution_count": null,
   "id": "3a964f7a",
   "metadata": {},
   "outputs": [],
   "source": []
  },
  {
   "cell_type": "code",
   "execution_count": null,
   "id": "6098c625",
   "metadata": {},
   "outputs": [],
   "source": [
    "784/2"
   ]
  },
  {
   "cell_type": "code",
   "execution_count": null,
   "id": "62d2d4d9",
   "metadata": {},
   "outputs": [],
   "source": []
  },
  {
   "cell_type": "code",
   "execution_count": null,
   "id": "b6942a0c",
   "metadata": {},
   "outputs": [],
   "source": []
  }
 ],
 "metadata": {
  "anaconda-cloud": {},
  "kernelspec": {
   "display_name": "Python [conda env:root] *",
   "language": "python",
   "name": "conda-root-py"
  },
  "language_info": {
   "codemirror_mode": {
    "name": "ipython",
    "version": 3
   },
   "file_extension": ".py",
   "mimetype": "text/x-python",
   "name": "python",
   "nbconvert_exporter": "python",
   "pygments_lexer": "ipython3",
   "version": "3.9.12"
  }
 },
 "nbformat": 4,
 "nbformat_minor": 5
}
