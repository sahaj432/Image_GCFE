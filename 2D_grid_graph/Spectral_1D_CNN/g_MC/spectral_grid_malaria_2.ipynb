{
 "cells": [
  {
   "cell_type": "code",
   "execution_count": 1,
   "id": "20d67456",
   "metadata": {},
   "outputs": [
    {
     "name": "stderr",
     "output_type": "stream",
     "text": [
      "2023-07-25 11:16:43.115610: W tensorflow/stream_executor/platform/default/dso_loader.cc:64] Could not load dynamic library 'libcudart.so.11.0'; dlerror: libcudart.so.11.0: cannot open shared object file: No such file or directory; LD_LIBRARY_PATH: /cm/shared/apps/slurm/18.08.9/lib64/slurm:/cm/shared/apps/slurm/18.08.9/lib64\n",
      "2023-07-25 11:16:43.115635: I tensorflow/stream_executor/cuda/cudart_stub.cc:29] Ignore above cudart dlerror if you do not have a GPU set up on your machine.\n"
     ]
    }
   ],
   "source": [
    "%matplotlib inline\n",
    "import numpy as np\n",
    "import matplotlib.pyplot as plt\n",
    "from image_graph_util import img_conversion_v7\n",
    "from sklearn.preprocessing import MinMaxScaler\n",
    "import os\n",
    "import glob\n",
    "import tensorflow as tf\n",
    "import tensorflow_datasets as tfds\n",
    "from sklearn.model_selection import train_test_split\n",
    "from emnist import extract_training_samples,extract_test_samples\n",
    "from emnist import list_datasets\n",
    "from sklearn.utils import shuffle\n",
    "import cv2\n",
    "import glob"
   ]
  },
  {
   "cell_type": "code",
   "execution_count": 2,
   "id": "d34e611c",
   "metadata": {},
   "outputs": [],
   "source": [
    "img=img_conversion_v7.image_convert()\n",
    "\n",
    "\n",
    "patch=2\n"
   ]
  },
  {
   "cell_type": "code",
   "execution_count": 3,
   "id": "e9fe027b",
   "metadata": {
    "scrolled": true
   },
   "outputs": [
    {
     "name": "stderr",
     "output_type": "stream",
     "text": [
      "2023-07-25 11:17:10.881494: W tensorflow/stream_executor/platform/default/dso_loader.cc:64] Could not load dynamic library 'libcuda.so.1'; dlerror: libcuda.so.1: cannot open shared object file: No such file or directory; LD_LIBRARY_PATH: /data/user/home/sahaj432/.local/lib/python3.9/site-packages/cv2/../../lib64:/cm/shared/apps/slurm/18.08.9/lib64/slurm:/cm/shared/apps/slurm/18.08.9/lib64\n",
      "2023-07-25 11:17:10.881526: W tensorflow/stream_executor/cuda/cuda_driver.cc:269] failed call to cuInit: UNKNOWN ERROR (303)\n",
      "2023-07-25 11:17:10.881547: I tensorflow/stream_executor/cuda/cuda_diagnostics.cc:156] kernel driver does not appear to be running on this host (c0193): /proc/driver/nvidia/version does not exist\n",
      "2023-07-25 11:17:10.881859: I tensorflow/core/platform/cpu_feature_guard.cc:151] This TensorFlow binary is optimized with oneAPI Deep Neural Network Library (oneDNN) to use the following CPU instructions in performance-critical operations:  AVX2 AVX512F FMA\n",
      "To enable them in other operations, rebuild TensorFlow with the appropriate compiler flags.\n"
     ]
    }
   ],
   "source": [
    "ds, info = tfds.load('malaria', split='train', shuffle_files=True, with_info=True)"
   ]
  },
  {
   "cell_type": "code",
   "execution_count": 4,
   "id": "f376e8ae",
   "metadata": {},
   "outputs": [],
   "source": [
    "train_images = []\n",
    "train_labels = []\n",
    "\n",
    "for example in ds:\n",
    "    train_images.append(example['image'].numpy())\n",
    "    train_labels.append(example['label'].numpy())"
   ]
  },
  {
   "cell_type": "code",
   "execution_count": 5,
   "id": "3b95fbb6",
   "metadata": {
    "scrolled": true
   },
   "outputs": [
    {
     "name": "stdout",
     "output_type": "stream",
     "text": [
      "27558\n",
      "27558\n"
     ]
    }
   ],
   "source": [
    "print(len(train_images))\n",
    "print(len(train_labels))"
   ]
  },
  {
   "cell_type": "code",
   "execution_count": 6,
   "id": "e7ced698",
   "metadata": {},
   "outputs": [],
   "source": [
    "images=np.array([cv2.resize(i,(100,100), interpolation= cv2.INTER_CUBIC) for i in train_images])\n"
   ]
  },
  {
   "cell_type": "code",
   "execution_count": 7,
   "id": "918a0925",
   "metadata": {
    "scrolled": true
   },
   "outputs": [],
   "source": [
    "images = images/255\n",
    "labels = np.array(train_labels)"
   ]
  },
  {
   "cell_type": "code",
   "execution_count": 8,
   "id": "79930fa1",
   "metadata": {},
   "outputs": [],
   "source": [
    "images=np.array(images,dtype=\"float16\")"
   ]
  },
  {
   "cell_type": "code",
   "execution_count": 9,
   "id": "46338490",
   "metadata": {},
   "outputs": [
    {
     "data": {
      "text/plain": [
       "(27558, 100, 100, 3)"
      ]
     },
     "execution_count": 9,
     "metadata": {},
     "output_type": "execute_result"
    }
   ],
   "source": [
    "images.shape"
   ]
  },
  {
   "cell_type": "code",
   "execution_count": 10,
   "id": "db7b05aa",
   "metadata": {},
   "outputs": [],
   "source": [
    "train,test,train_lab,test_lab=train_test_split(images,labels,test_size=0.30,random_state=42)\n"
   ]
  },
  {
   "cell_type": "code",
   "execution_count": 11,
   "id": "f1001252",
   "metadata": {},
   "outputs": [
    {
     "name": "stdout",
     "output_type": "stream",
     "text": [
      "(19290, 100, 100, 3)\n",
      "(8268, 100, 100, 3)\n",
      "(19290,)\n",
      "(8268,)\n"
     ]
    }
   ],
   "source": [
    "print(train.shape)\n",
    "print(test.shape)\n",
    "print(train_lab.shape)\n",
    "print(test_lab.shape)"
   ]
  },
  {
   "cell_type": "code",
   "execution_count": 12,
   "id": "375aa7c0",
   "metadata": {},
   "outputs": [],
   "source": [
    "regular_train=train\n",
    "reg_train_label=train_lab"
   ]
  },
  {
   "cell_type": "code",
   "execution_count": 13,
   "id": "dd49a4b2",
   "metadata": {},
   "outputs": [],
   "source": [
    "regular_val,regular_test,reg_val_label,reg_test_label=train_test_split(test,test_lab,test_size=0.50,random_state=42)\n"
   ]
  },
  {
   "cell_type": "code",
   "execution_count": 14,
   "id": "b2010414",
   "metadata": {
    "scrolled": true
   },
   "outputs": [
    {
     "name": "stdout",
     "output_type": "stream",
     "text": [
      "(19290, 100, 100, 3)\n",
      "(4134, 100, 100, 3)\n",
      "(4134, 100, 100, 3)\n"
     ]
    }
   ],
   "source": [
    "print(regular_train.shape)\n",
    "print(regular_val.shape)\n",
    "print(regular_test.shape)\n",
    "\n"
   ]
  },
  {
   "cell_type": "code",
   "execution_count": 15,
   "id": "54eea141",
   "metadata": {
    "scrolled": true
   },
   "outputs": [
    {
     "name": "stdout",
     "output_type": "stream",
     "text": [
      "Converting ==> 4134  \r"
     ]
    }
   ],
   "source": [
    "reg_train_patch=img.to_patcharray(regular_train[:],patch_size=(patch,patch))\n",
    "reg_val_patch=img.to_patcharray(regular_val[:],patch_size=(patch,patch))\n",
    "reg_test_patch=img.to_patcharray(regular_test[:],patch_size=(patch,patch))\n"
   ]
  },
  {
   "cell_type": "code",
   "execution_count": 16,
   "id": "7f845f0a",
   "metadata": {},
   "outputs": [
    {
     "name": "stdout",
     "output_type": "stream",
     "text": [
      "(19290, 3, 2500, 2, 2)\n",
      "(4134, 3, 2500, 2, 2)\n",
      "(4134, 3, 2500, 2, 2)\n"
     ]
    }
   ],
   "source": [
    "print(reg_train_patch.shape)\n",
    "print(reg_val_patch.shape)\n",
    "print(reg_test_patch.shape)"
   ]
  },
  {
   "cell_type": "code",
   "execution_count": 17,
   "id": "29beaadb",
   "metadata": {},
   "outputs": [
    {
     "name": "stdout",
     "output_type": "stream",
     "text": [
      "[0 1]\n"
     ]
    }
   ],
   "source": [
    "from collections import Counter\n",
    "#print((Counter(y_val)))\n",
    "print(np.sort(list(Counter(reg_train_label).keys())))\n",
    "classes=len(np.sort(list(Counter(reg_train_label).keys())))"
   ]
  },
  {
   "cell_type": "code",
   "execution_count": 18,
   "id": "f732ce8b",
   "metadata": {},
   "outputs": [
    {
     "data": {
      "text/plain": [
       "3"
      ]
     },
     "execution_count": 18,
     "metadata": {},
     "output_type": "execute_result"
    }
   ],
   "source": [
    "reg_train_patch.shape[1]"
   ]
  },
  {
   "cell_type": "code",
   "execution_count": 19,
   "id": "5734680d",
   "metadata": {},
   "outputs": [],
   "source": [
    "import networkx as nx\n",
    "\n",
    "\n",
    "def compute_grid_lap_channel(df_in): #compute_grid_lap_channel\n",
    "    g = nx.generators.lattice.grid_2d_graph(patch,patch, periodic=False)\n",
    "    adj_ary=nx.adjacency_matrix(g).toarray()\n",
    "\n",
    "    edge=np.array(np.where(adj_ary==1))\n",
    "    ed0=edge[0]\n",
    "    ed1=edge[1]\n",
    "\n",
    "    no_img,no_ch, no_patch,patch_x,patch_y=df_in.shape\n",
    "    temp=[]\n",
    "    for i in range(no_img):\n",
    "        i_ary = np.eye(patch_x*patch_y)\n",
    "        i_ary4d=i_ary[np.newaxis,np.newaxis,:,:]\n",
    "        weighted_adj=np.zeros((no_ch, no_patch,patch_x*patch_y,patch_x*patch_y))\n",
    "        df=df_in[i].reshape(no_ch,no_patch,-1)\n",
    "        pixel1=df[:,:,ed0]\n",
    "        pixel2=df[:,:,ed1]  \n",
    "        edu_distance=np.sqrt((pixel1-pixel2)**2)+ 10**(-8)\n",
    "        weighted_adj[:,:,ed0,ed1]=edu_distance\n",
    "        sum_r=np.sum(weighted_adj,axis=2)\n",
    "        temp_adj=sum_r[:,:,:,np.newaxis]\n",
    "        deg=temp_adj*i_ary4d\n",
    "        L=deg-weighted_adj\n",
    "        temp.append(L)\n",
    "    return temp\n",
    "\n"
   ]
  },
  {
   "cell_type": "code",
   "execution_count": 20,
   "id": "dd21355d",
   "metadata": {},
   "outputs": [
    {
     "name": "stdout",
     "output_type": "stream",
     "text": [
      "Number of CPU cores: 48\n"
     ]
    }
   ],
   "source": [
    "from multiprocessing import Pool\n",
    "import multiprocessing\n",
    "\n",
    "\n",
    "\n",
    "num_cores = multiprocessing.cpu_count()\n",
    "print(\"Number of CPU cores:\", num_cores)\n"
   ]
  },
  {
   "cell_type": "code",
   "execution_count": 21,
   "id": "d889e571",
   "metadata": {},
   "outputs": [],
   "source": [
    "train_patch1=np.array_split(reg_train_patch[:], num_cores)\n",
    "val_patch1=np.array_split(reg_val_patch[:], num_cores)\n",
    "test_patch1=np.array_split(reg_test_patch[:], num_cores)"
   ]
  },
  {
   "cell_type": "code",
   "execution_count": 22,
   "id": "2cd53696",
   "metadata": {},
   "outputs": [
    {
     "name": "stdout",
     "output_type": "stream",
     "text": [
      "48\n",
      "48\n",
      "48\n"
     ]
    }
   ],
   "source": [
    "print(len(train_patch1))\n",
    "print(len(val_patch1))\n",
    "print(len(test_patch1))"
   ]
  },
  {
   "cell_type": "code",
   "execution_count": 23,
   "id": "595daae4",
   "metadata": {},
   "outputs": [],
   "source": [
    "num_matrices, num_channels, num_patches, height, width = train_patch1[0].shape"
   ]
  },
  {
   "cell_type": "code",
   "execution_count": 24,
   "id": "fcebb481",
   "metadata": {
    "scrolled": true
   },
   "outputs": [],
   "source": [
    "with Pool(processes=num_cores) as pool:\n",
    "        # Define a list of numbers\n",
    "    train_p = train_patch1\n",
    "    \n",
    "        # Apply the square function to each number using the pool\n",
    "    g_train=pool.map(compute_grid_lap_channel,train_p)\n",
    "pool.close()\n",
    "\n",
    "\n",
    "    \n",
    "        #results = pool.map(calculate_visibility, numbers)\n"
   ]
  },
  {
   "cell_type": "code",
   "execution_count": 25,
   "id": "ca244dae",
   "metadata": {},
   "outputs": [],
   "source": [
    "temp1=[]\n",
    "for submatrix in g_train:\n",
    "    temp1.extend(submatrix)\n"
   ]
  },
  {
   "cell_type": "code",
   "execution_count": 26,
   "id": "d087f2ba",
   "metadata": {},
   "outputs": [],
   "source": [
    "gersh_train= np.array([np.asarray(submatrix) for submatrix in temp1])\n"
   ]
  },
  {
   "cell_type": "code",
   "execution_count": 27,
   "id": "a03ea51b",
   "metadata": {},
   "outputs": [
    {
     "name": "stdout",
     "output_type": "stream",
     "text": [
      "d\n"
     ]
    }
   ],
   "source": [
    "print(\"d\")"
   ]
  },
  {
   "cell_type": "code",
   "execution_count": 28,
   "id": "c43ee537",
   "metadata": {
    "scrolled": true
   },
   "outputs": [],
   "source": [
    "with Pool(processes=num_cores) as pool1:\n",
    "        # Define a list of numbers\n",
    "    val_p = val_patch1\n",
    "    \n",
    "        # Apply the square function to each number using the pool\n",
    "    g_val=pool1.map(compute_grid_lap_channel,val_patch1)    \n",
    "pool1.close()\n",
    "\n"
   ]
  },
  {
   "cell_type": "code",
   "execution_count": 29,
   "id": "d66c6523",
   "metadata": {},
   "outputs": [],
   "source": [
    "temp2=[]\n",
    "for submatrix in g_val:\n",
    "    temp2.extend(submatrix)\n"
   ]
  },
  {
   "cell_type": "code",
   "execution_count": 30,
   "id": "8950a8d8",
   "metadata": {},
   "outputs": [],
   "source": [
    "gersh_val= np.array([np.asarray(submatrix) for submatrix in temp2])\n"
   ]
  },
  {
   "cell_type": "code",
   "execution_count": 31,
   "id": "915893f5",
   "metadata": {},
   "outputs": [
    {
     "name": "stdout",
     "output_type": "stream",
     "text": [
      "d\n"
     ]
    }
   ],
   "source": [
    "print(\"d\")"
   ]
  },
  {
   "cell_type": "code",
   "execution_count": 32,
   "id": "5e65520e",
   "metadata": {
    "scrolled": true
   },
   "outputs": [],
   "source": [
    "with Pool(processes=num_cores) as pool2:\n",
    "        # Define a list of numbers\n",
    "    test_p = test_patch1\n",
    "    \n",
    "        # Apply the square function to each number using the pool\n",
    "    g_test=pool2.map(compute_grid_lap_channel,test_patch1) \n",
    "pool2.close()\n"
   ]
  },
  {
   "cell_type": "code",
   "execution_count": 33,
   "id": "f4128788",
   "metadata": {},
   "outputs": [],
   "source": [
    "temp3=[]\n",
    "for submatrix in g_test:\n",
    "    temp3.extend(submatrix)\n"
   ]
  },
  {
   "cell_type": "code",
   "execution_count": 34,
   "id": "e8083ae4",
   "metadata": {},
   "outputs": [],
   "source": [
    "gersh_test= np.array([np.asarray(submatrix) for submatrix in temp3])\n"
   ]
  },
  {
   "cell_type": "code",
   "execution_count": 35,
   "id": "089c2923",
   "metadata": {},
   "outputs": [
    {
     "name": "stdout",
     "output_type": "stream",
     "text": [
      "(19290, 3, 2500, 4, 4)\n",
      "(4134, 3, 2500, 4, 4)\n",
      "(4134, 3, 2500, 4, 4)\n"
     ]
    }
   ],
   "source": [
    "print(gersh_train.shape)\n",
    "print(gersh_val.shape)\n",
    "print(gersh_test.shape)"
   ]
  },
  {
   "cell_type": "code",
   "execution_count": 36,
   "id": "5d8b310c",
   "metadata": {},
   "outputs": [],
   "source": [
    "lap_train=gersh_train\n",
    "lap_val=gersh_val\n",
    "lap_test=gersh_test"
   ]
  },
  {
   "cell_type": "code",
   "execution_count": 37,
   "id": "fd659e08",
   "metadata": {},
   "outputs": [
    {
     "name": "stdout",
     "output_type": "stream",
     "text": [
      "(19290, 3, 2500, 4, 4)\n",
      "(4134, 3, 2500, 4, 4)\n",
      "(4134, 3, 2500, 4, 4)\n"
     ]
    }
   ],
   "source": [
    "print(lap_train.shape)\n",
    "print(lap_val.shape)\n",
    "print(lap_test.shape)"
   ]
  },
  {
   "cell_type": "code",
   "execution_count": 38,
   "id": "c2547201",
   "metadata": {},
   "outputs": [],
   "source": [
    "# rlap_train=np.moveaxis(lap_train,1,-1)\n",
    "# rlap_val=np.moveaxis(lap_val,1,-1)\n",
    "# rlap_test=np.moveaxis(lap_test,1,-1)\n",
    "rlap_train=lap_train\n",
    "rlap_val=lap_val\n",
    "rlap_test=lap_test\n"
   ]
  },
  {
   "cell_type": "code",
   "execution_count": 39,
   "id": "bf78e37d",
   "metadata": {},
   "outputs": [
    {
     "name": "stdout",
     "output_type": "stream",
     "text": [
      "(19290, 3, 2500, 4, 4)\n",
      "(4134, 3, 2500, 4, 4)\n",
      "(4134, 3, 2500, 4, 4)\n"
     ]
    }
   ],
   "source": [
    "print(rlap_train.shape)\n",
    "print(rlap_val.shape)\n",
    "print(rlap_test.shape)\n"
   ]
  },
  {
   "cell_type": "code",
   "execution_count": 40,
   "id": "c401b6d2",
   "metadata": {},
   "outputs": [],
   "source": [
    "rlap_train=rlap_train.reshape(rlap_train.shape[0],rlap_train.shape[1],rlap_train.shape[2]*rlap_train.shape[3],rlap_train.shape[4])\n",
    "rlap_val=rlap_val.reshape(rlap_val.shape[0],rlap_val.shape[1],rlap_val.shape[2]*rlap_val.shape[3],rlap_val.shape[4])\n",
    "rlap_test=rlap_test.reshape(rlap_test.shape[0],rlap_test.shape[1],rlap_test.shape[2]*rlap_test.shape[3],rlap_test.shape[4])"
   ]
  },
  {
   "cell_type": "code",
   "execution_count": 41,
   "id": "54f358cc",
   "metadata": {},
   "outputs": [
    {
     "name": "stdout",
     "output_type": "stream",
     "text": [
      "(19290, 3, 10000, 4)\n",
      "(4134, 3, 10000, 4)\n",
      "(4134, 3, 10000, 4)\n"
     ]
    }
   ],
   "source": [
    "print(rlap_train.shape)\n",
    "print(rlap_val.shape)\n",
    "print(rlap_test.shape)"
   ]
  },
  {
   "cell_type": "code",
   "execution_count": 42,
   "id": "1cbbb2bc",
   "metadata": {},
   "outputs": [],
   "source": [
    "rlap_train=rlap_train.reshape(rlap_train.shape[0]*rlap_train.shape[1],-1)\n",
    "rlap_val=rlap_val.reshape(rlap_val.shape[0]*rlap_val.shape[1],-1)\n",
    "rlap_test=rlap_test.reshape(rlap_test.shape[0]*rlap_test.shape[1],-1)"
   ]
  },
  {
   "cell_type": "code",
   "execution_count": 43,
   "id": "13aa32ad",
   "metadata": {},
   "outputs": [
    {
     "name": "stdout",
     "output_type": "stream",
     "text": [
      "(57870, 40000)\n",
      "(12402, 40000)\n",
      "(12402, 40000)\n"
     ]
    }
   ],
   "source": [
    "print(rlap_train.shape)\n",
    "print(rlap_val.shape)\n",
    "print(rlap_test.shape)"
   ]
  },
  {
   "cell_type": "code",
   "execution_count": 44,
   "id": "7be251a3",
   "metadata": {},
   "outputs": [],
   "source": [
    "L= np.concatenate((rlap_train,rlap_val,rlap_test), axis=0)\n"
   ]
  },
  {
   "cell_type": "code",
   "execution_count": 45,
   "id": "2baa13d3",
   "metadata": {},
   "outputs": [
    {
     "name": "stdout",
     "output_type": "stream",
     "text": [
      "(82674, 40000)\n"
     ]
    }
   ],
   "source": [
    "print(L.shape)"
   ]
  },
  {
   "cell_type": "code",
   "execution_count": 46,
   "id": "de62764b",
   "metadata": {},
   "outputs": [
    {
     "name": "stdout",
     "output_type": "stream",
     "text": [
      "--- 1256.5192847251892 seconds ---\n"
     ]
    }
   ],
   "source": [
    "import numpy as np\n",
    "from sklearn.manifold import SpectralEmbedding\n",
    "import time\n",
    "# Assuming you have your flattened Laplacian matrix stored in a variable called flattened_laplacian_matrix\n",
    "# Assuming the original shape of the Laplacian matrix is (6000, 6000)\n",
    "\n",
    "#Reshape the flattened Laplacian matrix back to its original shape\n",
    "random_matrix = L\n",
    "subset_size = 12544  # Define the size of the subset\n",
    "subset_matrix = random_matrix[:40000, :]\n",
    "\n",
    "graph_laplacian= .5*(subset_matrix + subset_matrix.T)\n",
    "start=time.time()\n",
    "# Perform eigen-decomposition on the Laplacian matrix\n",
    "eigenvalues, eigenvectors = np.linalg.eigh(graph_laplacian)\n",
    "\n",
    "# Sort eigenvalues and eigenvectors in ascending order\n",
    "sorted_indices = np.argsort(eigenvalues)\n",
    "sorted_eigenvalues = eigenvalues[sorted_indices]\n",
    "sorted_eigenvectors = eigenvectors[:, sorted_indices]\n",
    "\n",
    "# Choose the desired number of dimensions for the embedding\n",
    "n_dimensions = 20000\n",
    "\n",
    "# Extract the first 'n_dimensions' eigenvectors\n",
    "embedding = sorted_eigenvectors[:, 1:n_dimensions+1]\n",
    "\n",
    "# Normalize the embedding\n",
    "embedding = embedding / np.linalg.norm(embedding, axis=1, keepdims=True)\n",
    "transformed_data  = np.dot(random_matrix[:], embedding)\n",
    "end=time.time()\n",
    "print(\"--- %s seconds ---\" % (end - start))\n",
    "\n",
    "# Alternatively, you can use the SpectralEmbedding class from Scikit-Learn\n",
    "# spectral_embedder = SpectralEmbedding(n_components=n_dimensions, affinity='precomputed')\n",
    "# embedding = spectral_embedder.fit_transform(laplacian_matrix)\n",
    "#embedding = embedding.numpy()\n",
    "\n",
    "# The 'embedding' variable now contains the low-dimensional representation of your data using Laplacian Eigenmap\n",
    "\n",
    "# Use the embedding for further analysis or visualization\n"
   ]
  },
  {
   "cell_type": "code",
   "execution_count": 47,
   "id": "36d4f6b6",
   "metadata": {},
   "outputs": [],
   "source": [
    "x_train=transformed_data[:lap_train.shape[0]*3]\n",
    "x_val=transformed_data[lap_train.shape[0]*3:(lap_val.shape[0]*3)+(lap_train.shape[0]*3)]\n",
    "x_test=transformed_data[(lap_val.shape[0]*3)+(lap_train.shape[0]*3):]"
   ]
  },
  {
   "cell_type": "code",
   "execution_count": 48,
   "id": "27554a3d",
   "metadata": {},
   "outputs": [
    {
     "name": "stdout",
     "output_type": "stream",
     "text": [
      "(57870, 20000)\n",
      "(12402, 20000)\n",
      "(12402, 20000)\n"
     ]
    }
   ],
   "source": [
    "print(x_train.shape)\n",
    "print(x_val.shape)\n",
    "print(x_test.shape)"
   ]
  },
  {
   "cell_type": "code",
   "execution_count": 49,
   "id": "cb99ea64",
   "metadata": {},
   "outputs": [],
   "source": [
    "x_train=x_train.reshape(lap_train.shape[0],-1)\n",
    "x_val=x_val.reshape(lap_val.shape[0],-1)\n",
    "x_test=x_test.reshape(lap_test.shape[0],-1)\n"
   ]
  },
  {
   "cell_type": "code",
   "execution_count": 50,
   "id": "e6106398",
   "metadata": {},
   "outputs": [
    {
     "name": "stdout",
     "output_type": "stream",
     "text": [
      "(19290, 60000)\n",
      "(4134, 60000)\n",
      "(4134, 60000)\n"
     ]
    }
   ],
   "source": [
    "print(x_train.shape)\n",
    "print(x_val.shape)\n",
    "print(x_test.shape)"
   ]
  },
  {
   "cell_type": "markdown",
   "id": "6d9b021a",
   "metadata": {},
   "source": [
    "# IncrementalPCA"
   ]
  },
  {
   "cell_type": "code",
   "execution_count": 51,
   "id": "5efbc7cb",
   "metadata": {},
   "outputs": [],
   "source": [
    "input_shape = (x_train.shape[1],1)\n",
    "num_classes = classes\n",
    "model2 = tf.keras.models.Sequential()\n",
    "model2.add(tf.keras.layers.Conv1D(filters= 32, kernel_size=3, activation='relu',padding='same',input_shape= input_shape))\n",
    "model2.add(tf.keras.layers.AveragePooling1D())\n",
    "model2.add(tf.keras.layers.Conv1D(filters=32, kernel_size=3,padding='same',activation='relu'))\n",
    "model2.add(tf.keras.layers.AveragePooling1D())\n",
    "model2.add(tf.keras.layers.Conv1D(filters=32, kernel_size=3,padding='same',activation='relu'))\n",
    "model2.add(tf.keras.layers.AveragePooling1D())\n",
    "model2.add(tf.keras.layers.Flatten())\n",
    "model2.add(tf.keras.layers.Dense(512, activation='relu'))\n",
    "model2.add(tf.keras.layers.Dropout(0.1))\n",
    "model2.add(tf.keras.layers.Dense(512, activation='relu'))\n",
    "model2.add(tf.keras.layers.Dense(num_classes, activation='softmax'))\n",
    "\n",
    "model2.compile(loss='SparseCategoricalCrossentropy', optimizer='Adam', metrics=['acc'])\n"
   ]
  },
  {
   "cell_type": "code",
   "execution_count": 52,
   "id": "22cd2c4b",
   "metadata": {
    "scrolled": true
   },
   "outputs": [
    {
     "name": "stdout",
     "output_type": "stream",
     "text": [
      "Model: \"sequential\"\n",
      "_________________________________________________________________\n",
      " Layer (type)                Output Shape              Param #   \n",
      "=================================================================\n",
      " conv1d (Conv1D)             (None, 60000, 32)         128       \n",
      "                                                                 \n",
      " average_pooling1d (AverageP  (None, 30000, 32)        0         \n",
      " ooling1D)                                                       \n",
      "                                                                 \n",
      " conv1d_1 (Conv1D)           (None, 30000, 32)         3104      \n",
      "                                                                 \n",
      " average_pooling1d_1 (Averag  (None, 15000, 32)        0         \n",
      " ePooling1D)                                                     \n",
      "                                                                 \n",
      " conv1d_2 (Conv1D)           (None, 15000, 32)         3104      \n",
      "                                                                 \n",
      " average_pooling1d_2 (Averag  (None, 7500, 32)         0         \n",
      " ePooling1D)                                                     \n",
      "                                                                 \n",
      " flatten (Flatten)           (None, 240000)            0         \n",
      "                                                                 \n",
      " dense (Dense)               (None, 512)               122880512 \n",
      "                                                                 \n",
      " dropout (Dropout)           (None, 512)               0         \n",
      "                                                                 \n",
      " dense_1 (Dense)             (None, 512)               262656    \n",
      "                                                                 \n",
      " dense_2 (Dense)             (None, 2)                 1026      \n",
      "                                                                 \n",
      "=================================================================\n",
      "Total params: 123,150,530\n",
      "Trainable params: 123,150,530\n",
      "Non-trainable params: 0\n",
      "_________________________________________________________________\n"
     ]
    }
   ],
   "source": [
    "model2.summary()"
   ]
  },
  {
   "cell_type": "code",
   "execution_count": 53,
   "id": "2c42b2b9",
   "metadata": {},
   "outputs": [
    {
     "name": "stdout",
     "output_type": "stream",
     "text": [
      "Epoch 1/10\n",
      "603/603 [==============================] - 278s 461ms/step - loss: 0.6476 - acc: 0.6211 - val_loss: 0.6244 - val_acc: 0.6505\n",
      "Epoch 2/10\n",
      "603/603 [==============================] - 278s 461ms/step - loss: 0.6187 - acc: 0.6539 - val_loss: 0.6259 - val_acc: 0.6488\n",
      "Epoch 3/10\n",
      "603/603 [==============================] - 275s 457ms/step - loss: 0.5953 - acc: 0.6746 - val_loss: 0.6143 - val_acc: 0.6522\n",
      "Epoch 4/10\n",
      "603/603 [==============================] - 281s 466ms/step - loss: 0.5626 - acc: 0.7079 - val_loss: 0.6464 - val_acc: 0.6326\n",
      "Epoch 5/10\n",
      "603/603 [==============================] - 284s 471ms/step - loss: 0.4985 - acc: 0.7524 - val_loss: 0.6954 - val_acc: 0.6367\n",
      "Epoch 6/10\n",
      "603/603 [==============================] - 284s 470ms/step - loss: 0.3975 - acc: 0.8140 - val_loss: 0.9378 - val_acc: 0.6268\n",
      "Epoch 7/10\n",
      "603/603 [==============================] - 300s 497ms/step - loss: 0.2542 - acc: 0.8932 - val_loss: 1.2938 - val_acc: 0.6299\n",
      "Epoch 8/10\n",
      "603/603 [==============================] - 303s 502ms/step - loss: 0.1329 - acc: 0.9487 - val_loss: 1.5561 - val_acc: 0.6253\n",
      "Epoch 9/10\n",
      "603/603 [==============================] - 302s 500ms/step - loss: 0.0848 - acc: 0.9687 - val_loss: 1.7857 - val_acc: 0.6209\n",
      "Epoch 10/10\n",
      "603/603 [==============================] - 277s 459ms/step - loss: 0.0624 - acc: 0.9777 - val_loss: 1.9519 - val_acc: 0.6326\n"
     ]
    }
   ],
   "source": [
    "history_log=model2.fit(x_train, reg_train_label, epochs=10,verbose=1,validation_data=(x_val, reg_val_label))\n"
   ]
  },
  {
   "cell_type": "code",
   "execution_count": 54,
   "id": "f91e3ce2",
   "metadata": {
    "scrolled": false
   },
   "outputs": [
    {
     "name": "stdout",
     "output_type": "stream",
     "text": [
      "130/130 [==============================] - 9s 66ms/step - loss: 1.9548 - acc: 0.6280\n",
      " Model loss on the test set: 1.9547683000564575\n",
      " Model accuracy on the test set: 62.796324491500854\n"
     ]
    }
   ],
   "source": [
    "loss, accuracy = model2.evaluate(x_test, reg_test_label)\n",
    "print(f' Model loss on the test set: {loss}')\n",
    "print(f' Model accuracy on the test set: {100*accuracy}')"
   ]
  },
  {
   "cell_type": "code",
   "execution_count": 55,
   "id": "c5ceb4b6",
   "metadata": {},
   "outputs": [],
   "source": [
    "predictions = model2.predict(x_test)\n",
    "pred_arg = np.argmax(predictions, axis=1)"
   ]
  },
  {
   "cell_type": "code",
   "execution_count": 56,
   "id": "fe4b2358",
   "metadata": {},
   "outputs": [
    {
     "name": "stdout",
     "output_type": "stream",
     "text": [
      "cnf_matrix_2.0_70\n",
      "\n",
      "[[1332  710]\n",
      " [ 828 1264]]\n"
     ]
    }
   ],
   "source": [
    "from sklearn.metrics import confusion_matrix\n",
    "cnf_matrix=confusion_matrix(reg_test_label,pred_arg)\n",
    "print(\"cnf_matrix_2.0_70\")\n",
    "print(\"\")\n",
    "print(cnf_matrix)"
   ]
  },
  {
   "cell_type": "code",
   "execution_count": 57,
   "id": "da91a9dc",
   "metadata": {},
   "outputs": [],
   "source": [
    "from sklearn.metrics import accuracy_score, recall_score,precision_score,roc_auc_score,roc_curve,f1_score\n"
   ]
  },
  {
   "cell_type": "code",
   "execution_count": 58,
   "id": "faa0fdd1",
   "metadata": {},
   "outputs": [
    {
     "name": "stdout",
     "output_type": "stream",
     "text": [
      "0.6279632317368167\n",
      "0.6278625431451961\n",
      "0.6279632317368167\n",
      "0.6286385076629959\n"
     ]
    }
   ],
   "source": [
    "print(accuracy_score(reg_test_label, pred_arg))\n",
    "print(f1_score(reg_test_label,pred_arg,average='macro'))\n",
    "print(recall_score(reg_test_label, pred_arg, average=\"weighted\"))\n",
    "print(precision_score(reg_test_label, pred_arg, average=\"weighted\"))"
   ]
  },
  {
   "cell_type": "code",
   "execution_count": null,
   "id": "cdecf84f",
   "metadata": {},
   "outputs": [],
   "source": []
  },
  {
   "cell_type": "code",
   "execution_count": null,
   "id": "7e15935d",
   "metadata": {},
   "outputs": [],
   "source": []
  },
  {
   "cell_type": "code",
   "execution_count": null,
   "id": "824d12b8",
   "metadata": {},
   "outputs": [],
   "source": []
  }
 ],
 "metadata": {
  "anaconda-cloud": {},
  "kernelspec": {
   "display_name": "Python [conda env:root] *",
   "language": "python",
   "name": "conda-root-py"
  },
  "language_info": {
   "codemirror_mode": {
    "name": "ipython",
    "version": 3
   },
   "file_extension": ".py",
   "mimetype": "text/x-python",
   "name": "python",
   "nbconvert_exporter": "python",
   "pygments_lexer": "ipython3",
   "version": "3.9.12"
  }
 },
 "nbformat": 4,
 "nbformat_minor": 5
}
