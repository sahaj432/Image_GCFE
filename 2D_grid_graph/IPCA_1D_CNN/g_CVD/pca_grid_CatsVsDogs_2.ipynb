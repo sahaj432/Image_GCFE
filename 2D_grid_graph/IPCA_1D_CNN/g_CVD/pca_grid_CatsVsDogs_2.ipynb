{
 "cells": [
  {
   "cell_type": "code",
   "execution_count": 1,
   "id": "20d67456",
   "metadata": {},
   "outputs": [
    {
     "name": "stderr",
     "output_type": "stream",
     "text": [
      "2023-07-24 12:32:19.520901: W tensorflow/stream_executor/platform/default/dso_loader.cc:64] Could not load dynamic library 'libcudart.so.11.0'; dlerror: libcudart.so.11.0: cannot open shared object file: No such file or directory; LD_LIBRARY_PATH: /cm/shared/apps/slurm/18.08.9/lib64/slurm:/cm/shared/apps/slurm/18.08.9/lib64\n",
      "2023-07-24 12:32:19.520935: I tensorflow/stream_executor/cuda/cudart_stub.cc:29] Ignore above cudart dlerror if you do not have a GPU set up on your machine.\n"
     ]
    }
   ],
   "source": [
    "%matplotlib inline\n",
    "import numpy as np\n",
    "import matplotlib.pyplot as plt\n",
    "from image_graph_util import img_conversion_v7\n",
    "from sklearn.preprocessing import MinMaxScaler\n",
    "import os\n",
    "import glob\n",
    "import tensorflow as tf\n",
    "import tensorflow_datasets as tfds\n",
    "from sklearn.model_selection import train_test_split\n",
    "from emnist import extract_training_samples,extract_test_samples\n",
    "from emnist import list_datasets\n",
    "from sklearn.utils import shuffle\n",
    "import cv2\n",
    "import glob"
   ]
  },
  {
   "cell_type": "code",
   "execution_count": 2,
   "id": "d34e611c",
   "metadata": {},
   "outputs": [],
   "source": [
    "img=img_conversion_v7.image_convert()\n",
    "\n",
    "\n",
    "patch=2\n"
   ]
  },
  {
   "cell_type": "code",
   "execution_count": 3,
   "id": "e9fe027b",
   "metadata": {
    "scrolled": true
   },
   "outputs": [
    {
     "name": "stderr",
     "output_type": "stream",
     "text": [
      "2023-07-24 12:32:57.649055: W tensorflow/stream_executor/platform/default/dso_loader.cc:64] Could not load dynamic library 'libcuda.so.1'; dlerror: libcuda.so.1: cannot open shared object file: No such file or directory; LD_LIBRARY_PATH: /data/user/home/sahaj432/.local/lib/python3.9/site-packages/cv2/../../lib64:/cm/shared/apps/slurm/18.08.9/lib64/slurm:/cm/shared/apps/slurm/18.08.9/lib64\n",
      "2023-07-24 12:32:57.661997: W tensorflow/stream_executor/cuda/cuda_driver.cc:269] failed call to cuInit: UNKNOWN ERROR (303)\n",
      "2023-07-24 12:32:57.662041: I tensorflow/stream_executor/cuda/cuda_diagnostics.cc:156] kernel driver does not appear to be running on this host (c0183): /proc/driver/nvidia/version does not exist\n",
      "2023-07-24 12:32:57.662855: I tensorflow/core/platform/cpu_feature_guard.cc:151] This TensorFlow binary is optimized with oneAPI Deep Neural Network Library (oneDNN) to use the following CPU instructions in performance-critical operations:  AVX2 AVX512F FMA\n",
      "To enable them in other operations, rebuild TensorFlow with the appropriate compiler flags.\n"
     ]
    }
   ],
   "source": [
    "ds, info = tfds.load('CatsVsDogs', split='train', shuffle_files=True, with_info=True)"
   ]
  },
  {
   "cell_type": "code",
   "execution_count": 4,
   "id": "f376e8ae",
   "metadata": {},
   "outputs": [
    {
     "name": "stderr",
     "output_type": "stream",
     "text": [
      "Corrupt JPEG data: 99 extraneous bytes before marker 0xd9\n",
      "Warning: unknown JFIF revision number 0.00\n",
      "Corrupt JPEG data: 396 extraneous bytes before marker 0xd9\n",
      "Corrupt JPEG data: 162 extraneous bytes before marker 0xd9\n",
      "Corrupt JPEG data: 65 extraneous bytes before marker 0xd9\n",
      "Corrupt JPEG data: 252 extraneous bytes before marker 0xd9\n",
      "Corrupt JPEG data: 1403 extraneous bytes before marker 0xd9\n",
      "Corrupt JPEG data: 214 extraneous bytes before marker 0xd9\n",
      "Corrupt JPEG data: 2226 extraneous bytes before marker 0xd9\n",
      "Corrupt JPEG data: 128 extraneous bytes before marker 0xd9\n",
      "Corrupt JPEG data: 239 extraneous bytes before marker 0xd9\n",
      "Corrupt JPEG data: 1153 extraneous bytes before marker 0xd9\n",
      "Corrupt JPEG data: 228 extraneous bytes before marker 0xd9\n"
     ]
    }
   ],
   "source": [
    "train_images = []\n",
    "train_labels = []\n",
    "\n",
    "for example in ds:\n",
    "    train_images.append(example['image'].numpy())\n",
    "    train_labels.append(example['label'].numpy())"
   ]
  },
  {
   "cell_type": "code",
   "execution_count": 5,
   "id": "3b95fbb6",
   "metadata": {
    "scrolled": true
   },
   "outputs": [
    {
     "name": "stdout",
     "output_type": "stream",
     "text": [
      "23262\n",
      "23262\n"
     ]
    }
   ],
   "source": [
    "print(len(train_images))\n",
    "print(len(train_labels))"
   ]
  },
  {
   "cell_type": "code",
   "execution_count": 6,
   "id": "e7ced698",
   "metadata": {},
   "outputs": [],
   "source": [
    "images=np.array([cv2.resize(i,(100,100), interpolation= cv2.INTER_CUBIC) for i in train_images])\n"
   ]
  },
  {
   "cell_type": "code",
   "execution_count": 7,
   "id": "918a0925",
   "metadata": {
    "scrolled": true
   },
   "outputs": [],
   "source": [
    "images = images/255\n",
    "labels = np.array(train_labels)"
   ]
  },
  {
   "cell_type": "code",
   "execution_count": 8,
   "id": "79930fa1",
   "metadata": {},
   "outputs": [],
   "source": [
    "images=np.array(images,dtype=\"float16\")"
   ]
  },
  {
   "cell_type": "code",
   "execution_count": 9,
   "id": "46338490",
   "metadata": {},
   "outputs": [
    {
     "data": {
      "text/plain": [
       "(23262, 100, 100, 3)"
      ]
     },
     "execution_count": 9,
     "metadata": {},
     "output_type": "execute_result"
    }
   ],
   "source": [
    "images.shape"
   ]
  },
  {
   "cell_type": "code",
   "execution_count": 10,
   "id": "db7b05aa",
   "metadata": {},
   "outputs": [],
   "source": [
    "train,test,train_lab,test_lab=train_test_split(images,labels,test_size=0.30,random_state=42)\n"
   ]
  },
  {
   "cell_type": "code",
   "execution_count": 11,
   "id": "f1001252",
   "metadata": {},
   "outputs": [
    {
     "name": "stdout",
     "output_type": "stream",
     "text": [
      "(16283, 100, 100, 3)\n",
      "(6979, 100, 100, 3)\n",
      "(16283,)\n",
      "(6979,)\n"
     ]
    }
   ],
   "source": [
    "print(train.shape)\n",
    "print(test.shape)\n",
    "print(train_lab.shape)\n",
    "print(test_lab.shape)"
   ]
  },
  {
   "cell_type": "code",
   "execution_count": 12,
   "id": "375aa7c0",
   "metadata": {},
   "outputs": [],
   "source": [
    "regular_train=train\n",
    "reg_train_label=train_lab"
   ]
  },
  {
   "cell_type": "code",
   "execution_count": 13,
   "id": "dd49a4b2",
   "metadata": {},
   "outputs": [],
   "source": [
    "regular_val,regular_test,reg_val_label,reg_test_label=train_test_split(test,test_lab,test_size=0.50,random_state=42)\n"
   ]
  },
  {
   "cell_type": "code",
   "execution_count": 14,
   "id": "b2010414",
   "metadata": {
    "scrolled": true
   },
   "outputs": [
    {
     "name": "stdout",
     "output_type": "stream",
     "text": [
      "(16283, 100, 100, 3)\n",
      "(3489, 100, 100, 3)\n",
      "(3490, 100, 100, 3)\n"
     ]
    }
   ],
   "source": [
    "print(regular_train.shape)\n",
    "print(regular_val.shape)\n",
    "print(regular_test.shape)\n",
    "\n"
   ]
  },
  {
   "cell_type": "code",
   "execution_count": 15,
   "id": "54eea141",
   "metadata": {
    "scrolled": true
   },
   "outputs": [
    {
     "name": "stdout",
     "output_type": "stream",
     "text": [
      "Converting ==> 3490  \r"
     ]
    }
   ],
   "source": [
    "reg_train_patch=img.to_patcharray(regular_train[:],patch_size=(patch,patch))\n",
    "reg_val_patch=img.to_patcharray(regular_val[:],patch_size=(patch,patch))\n",
    "reg_test_patch=img.to_patcharray(regular_test[:],patch_size=(patch,patch))\n"
   ]
  },
  {
   "cell_type": "code",
   "execution_count": 16,
   "id": "7f845f0a",
   "metadata": {},
   "outputs": [
    {
     "name": "stdout",
     "output_type": "stream",
     "text": [
      "(16283, 3, 2500, 2, 2)\n",
      "(3489, 3, 2500, 2, 2)\n",
      "(3490, 3, 2500, 2, 2)\n"
     ]
    }
   ],
   "source": [
    "print(reg_train_patch.shape)\n",
    "print(reg_val_patch.shape)\n",
    "print(reg_test_patch.shape)"
   ]
  },
  {
   "cell_type": "code",
   "execution_count": 17,
   "id": "29beaadb",
   "metadata": {},
   "outputs": [
    {
     "name": "stdout",
     "output_type": "stream",
     "text": [
      "[0 1]\n"
     ]
    }
   ],
   "source": [
    "from collections import Counter\n",
    "#print((Counter(y_val)))\n",
    "print(np.sort(list(Counter(reg_train_label).keys())))\n",
    "classes=len(np.sort(list(Counter(reg_train_label).keys())))"
   ]
  },
  {
   "cell_type": "code",
   "execution_count": 18,
   "id": "f732ce8b",
   "metadata": {},
   "outputs": [
    {
     "data": {
      "text/plain": [
       "3"
      ]
     },
     "execution_count": 18,
     "metadata": {},
     "output_type": "execute_result"
    }
   ],
   "source": [
    "reg_train_patch.shape[1]"
   ]
  },
  {
   "cell_type": "code",
   "execution_count": 19,
   "id": "5734680d",
   "metadata": {},
   "outputs": [],
   "source": [
    "import networkx as nx\n",
    "\n",
    "\n",
    "def compute_grid_lap_channel(df_in): #compute_grid_lap_channel\n",
    "    g = nx.generators.lattice.grid_2d_graph(patch,patch, periodic=False)\n",
    "    adj_ary=nx.adjacency_matrix(g).toarray()\n",
    "\n",
    "    edge=np.array(np.where(adj_ary==1))\n",
    "    ed0=edge[0]\n",
    "    ed1=edge[1]\n",
    "\n",
    "    no_img,no_ch, no_patch,patch_x,patch_y=df_in.shape\n",
    "    temp=[]\n",
    "    for i in range(no_img):\n",
    "        i_ary = np.eye(patch_x*patch_y)\n",
    "        i_ary4d=i_ary[np.newaxis,np.newaxis,:,:]\n",
    "        weighted_adj=np.zeros((no_ch, no_patch,patch_x*patch_y,patch_x*patch_y))\n",
    "        df=df_in[i].reshape(no_ch,no_patch,-1)\n",
    "        pixel1=df[:,:,ed0]\n",
    "        pixel2=df[:,:,ed1]  \n",
    "        edu_distance=np.sqrt((pixel1-pixel2)**2)+ 10**(-8)\n",
    "        weighted_adj[:,:,ed0,ed1]=edu_distance\n",
    "        sum_r=np.sum(weighted_adj,axis=2)\n",
    "        temp_adj=sum_r[:,:,:,np.newaxis]\n",
    "        deg=temp_adj*i_ary4d\n",
    "        L=deg-weighted_adj\n",
    "        temp.append(L)\n",
    "    return temp\n",
    "\n"
   ]
  },
  {
   "cell_type": "code",
   "execution_count": 20,
   "id": "dd21355d",
   "metadata": {},
   "outputs": [
    {
     "name": "stdout",
     "output_type": "stream",
     "text": [
      "Number of CPU cores: 48\n"
     ]
    }
   ],
   "source": [
    "from multiprocessing import Pool\n",
    "import multiprocessing\n",
    "\n",
    "\n",
    "\n",
    "num_cores = multiprocessing.cpu_count()\n",
    "print(\"Number of CPU cores:\", num_cores)\n"
   ]
  },
  {
   "cell_type": "code",
   "execution_count": 21,
   "id": "d889e571",
   "metadata": {},
   "outputs": [],
   "source": [
    "train_patch1=np.array_split(reg_train_patch[:], num_cores)\n",
    "val_patch1=np.array_split(reg_val_patch[:], num_cores)\n",
    "test_patch1=np.array_split(reg_test_patch[:], num_cores)"
   ]
  },
  {
   "cell_type": "code",
   "execution_count": 22,
   "id": "2cd53696",
   "metadata": {},
   "outputs": [
    {
     "name": "stdout",
     "output_type": "stream",
     "text": [
      "48\n",
      "48\n",
      "48\n"
     ]
    }
   ],
   "source": [
    "print(len(train_patch1))\n",
    "print(len(val_patch1))\n",
    "print(len(test_patch1))"
   ]
  },
  {
   "cell_type": "code",
   "execution_count": 23,
   "id": "595daae4",
   "metadata": {},
   "outputs": [],
   "source": [
    "num_matrices, num_channels, num_patches, height, width = train_patch1[0].shape"
   ]
  },
  {
   "cell_type": "code",
   "execution_count": 24,
   "id": "fcebb481",
   "metadata": {
    "scrolled": true
   },
   "outputs": [],
   "source": [
    "with Pool(processes=num_cores) as pool:\n",
    "        # Define a list of numbers\n",
    "    train_p = train_patch1\n",
    "    \n",
    "        # Apply the square function to each number using the pool\n",
    "    g_train=pool.map(compute_grid_lap_channel,train_p)\n",
    "pool.close()\n",
    "\n",
    "\n",
    "    \n",
    "        #results = pool.map(calculate_visibility, numbers)\n"
   ]
  },
  {
   "cell_type": "code",
   "execution_count": 25,
   "id": "ca244dae",
   "metadata": {},
   "outputs": [],
   "source": [
    "temp1=[]\n",
    "for submatrix in g_train:\n",
    "    temp1.extend(submatrix)\n"
   ]
  },
  {
   "cell_type": "code",
   "execution_count": 26,
   "id": "d087f2ba",
   "metadata": {},
   "outputs": [],
   "source": [
    "gersh_train= np.array([np.asarray(submatrix) for submatrix in temp1])\n"
   ]
  },
  {
   "cell_type": "code",
   "execution_count": 27,
   "id": "a03ea51b",
   "metadata": {},
   "outputs": [
    {
     "name": "stdout",
     "output_type": "stream",
     "text": [
      "d\n"
     ]
    }
   ],
   "source": [
    "print(\"d\")"
   ]
  },
  {
   "cell_type": "code",
   "execution_count": 28,
   "id": "c43ee537",
   "metadata": {
    "scrolled": true
   },
   "outputs": [],
   "source": [
    "with Pool(processes=num_cores) as pool1:\n",
    "        # Define a list of numbers\n",
    "    val_p = val_patch1\n",
    "    \n",
    "        # Apply the square function to each number using the pool\n",
    "    g_val=pool1.map(compute_grid_lap_channel,val_patch1)    \n",
    "pool1.close()\n",
    "\n"
   ]
  },
  {
   "cell_type": "code",
   "execution_count": 29,
   "id": "d66c6523",
   "metadata": {},
   "outputs": [],
   "source": [
    "temp2=[]\n",
    "for submatrix in g_val:\n",
    "    temp2.extend(submatrix)\n"
   ]
  },
  {
   "cell_type": "code",
   "execution_count": 30,
   "id": "8950a8d8",
   "metadata": {},
   "outputs": [],
   "source": [
    "gersh_val= np.array([np.asarray(submatrix) for submatrix in temp2])\n"
   ]
  },
  {
   "cell_type": "code",
   "execution_count": 31,
   "id": "915893f5",
   "metadata": {},
   "outputs": [
    {
     "name": "stdout",
     "output_type": "stream",
     "text": [
      "d\n"
     ]
    }
   ],
   "source": [
    "print(\"d\")"
   ]
  },
  {
   "cell_type": "code",
   "execution_count": 32,
   "id": "5e65520e",
   "metadata": {
    "scrolled": true
   },
   "outputs": [],
   "source": [
    "with Pool(processes=num_cores) as pool2:\n",
    "        # Define a list of numbers\n",
    "    test_p = test_patch1\n",
    "    \n",
    "        # Apply the square function to each number using the pool\n",
    "    g_test=pool2.map(compute_grid_lap_channel,test_patch1) \n",
    "pool2.close()\n"
   ]
  },
  {
   "cell_type": "code",
   "execution_count": 33,
   "id": "f4128788",
   "metadata": {},
   "outputs": [],
   "source": [
    "temp3=[]\n",
    "for submatrix in g_test:\n",
    "    temp3.extend(submatrix)\n"
   ]
  },
  {
   "cell_type": "code",
   "execution_count": 34,
   "id": "e8083ae4",
   "metadata": {},
   "outputs": [],
   "source": [
    "gersh_test= np.array([np.asarray(submatrix) for submatrix in temp3])\n"
   ]
  },
  {
   "cell_type": "code",
   "execution_count": 35,
   "id": "089c2923",
   "metadata": {},
   "outputs": [
    {
     "name": "stdout",
     "output_type": "stream",
     "text": [
      "(16283, 3, 2500, 4, 4)\n",
      "(3489, 3, 2500, 4, 4)\n",
      "(3490, 3, 2500, 4, 4)\n"
     ]
    }
   ],
   "source": [
    "print(gersh_train.shape)\n",
    "print(gersh_val.shape)\n",
    "print(gersh_test.shape)"
   ]
  },
  {
   "cell_type": "code",
   "execution_count": 36,
   "id": "5d8b310c",
   "metadata": {},
   "outputs": [],
   "source": [
    "lap_train=gersh_train\n",
    "lap_val=gersh_val\n",
    "lap_test=gersh_test"
   ]
  },
  {
   "cell_type": "code",
   "execution_count": 37,
   "id": "fd659e08",
   "metadata": {},
   "outputs": [
    {
     "name": "stdout",
     "output_type": "stream",
     "text": [
      "(16283, 3, 2500, 4, 4)\n",
      "(3489, 3, 2500, 4, 4)\n",
      "(3490, 3, 2500, 4, 4)\n"
     ]
    }
   ],
   "source": [
    "print(lap_train.shape)\n",
    "print(lap_val.shape)\n",
    "print(lap_test.shape)"
   ]
  },
  {
   "cell_type": "code",
   "execution_count": 38,
   "id": "c2547201",
   "metadata": {},
   "outputs": [],
   "source": [
    "# rlap_train=np.moveaxis(lap_train,1,-1)\n",
    "# rlap_val=np.moveaxis(lap_val,1,-1)\n",
    "# rlap_test=np.moveaxis(lap_test,1,-1)\n",
    "rlap_train=lap_train\n",
    "rlap_val=lap_val\n",
    "rlap_test=lap_test\n"
   ]
  },
  {
   "cell_type": "code",
   "execution_count": 39,
   "id": "bf78e37d",
   "metadata": {},
   "outputs": [
    {
     "name": "stdout",
     "output_type": "stream",
     "text": [
      "(16283, 3, 2500, 4, 4)\n",
      "(3489, 3, 2500, 4, 4)\n",
      "(3490, 3, 2500, 4, 4)\n"
     ]
    }
   ],
   "source": [
    "print(rlap_train.shape)\n",
    "print(rlap_val.shape)\n",
    "print(rlap_test.shape)\n"
   ]
  },
  {
   "cell_type": "code",
   "execution_count": 40,
   "id": "c401b6d2",
   "metadata": {},
   "outputs": [],
   "source": [
    "rlap_train=rlap_train.reshape(rlap_train.shape[0],rlap_train.shape[1],rlap_train.shape[2]*rlap_train.shape[3],rlap_train.shape[4])\n",
    "rlap_val=rlap_val.reshape(rlap_val.shape[0],rlap_val.shape[1],rlap_val.shape[2]*rlap_val.shape[3],rlap_val.shape[4])\n",
    "rlap_test=rlap_test.reshape(rlap_test.shape[0],rlap_test.shape[1],rlap_test.shape[2]*rlap_test.shape[3],rlap_test.shape[4])"
   ]
  },
  {
   "cell_type": "code",
   "execution_count": 41,
   "id": "54f358cc",
   "metadata": {},
   "outputs": [
    {
     "name": "stdout",
     "output_type": "stream",
     "text": [
      "(16283, 3, 10000, 4)\n",
      "(16283, 3, 10000, 4)\n",
      "(16283, 3, 10000, 4)\n"
     ]
    }
   ],
   "source": [
    "print(rlap_train.shape)\n",
    "print(rlap_val.shape)\n",
    "print(rlap_test.shape)"
   ]
  },
  {
   "cell_type": "code",
   "execution_count": 42,
   "id": "1cbbb2bc",
   "metadata": {},
   "outputs": [],
   "source": [
    "rlap_train=rlap_train.reshape(rlap_train.shape[0]*rlap_train.shape[1],-1)\n",
    "rlap_val=rlap_val.reshape(rlap_val.shape[0]*rlap_val.shape[1],-1)\n",
    "rlap_test=rlap_test.reshape(rlap_test.shape[0]*rlap_test.shape[1],-1)"
   ]
  },
  {
   "cell_type": "code",
   "execution_count": 43,
   "id": "13aa32ad",
   "metadata": {},
   "outputs": [
    {
     "name": "stdout",
     "output_type": "stream",
     "text": [
      "(48849, 40000)\n",
      "(48849, 40000)\n",
      "(48849, 40000)\n"
     ]
    }
   ],
   "source": [
    "print(rlap_train.shape)\n",
    "print(rlap_val.shape)\n",
    "print(rlap_test.shape)"
   ]
  },
  {
   "cell_type": "code",
   "execution_count": 44,
   "id": "7be251a3",
   "metadata": {},
   "outputs": [],
   "source": [
    "L= np.concatenate((rlap_train,rlap_val,rlap_test), axis=0)\n"
   ]
  },
  {
   "cell_type": "code",
   "execution_count": 45,
   "id": "2baa13d3",
   "metadata": {},
   "outputs": [
    {
     "name": "stdout",
     "output_type": "stream",
     "text": [
      "(69786, 40000)\n"
     ]
    }
   ],
   "source": [
    "print(L.shape)"
   ]
  },
  {
   "cell_type": "code",
   "execution_count": 46,
   "id": "de62764b",
   "metadata": {},
   "outputs": [
    {
     "name": "stdout",
     "output_type": "stream",
     "text": [
      "Elapsed time: 10475.832631349564 seconds\n",
      "(69786, 20000)\n"
     ]
    }
   ],
   "source": [
    "from sklearn.decomposition import IncrementalPCA\n",
    "import numpy as np\n",
    "\n",
    "\n",
    "\n",
    "# Create an instance of IncrementalPCA\n",
    "n_components = 20000  # Number of components to keep\n",
    "batch_size = 69786  # Number of samples per batch\n",
    "ipca = IncrementalPCA(n_components=n_components, batch_size=batch_size)\n",
    "\n",
    "import time\n",
    "\n",
    "start_time=time.time()\n",
    "# Process the dataset in batches\n",
    "n_batches = L.shape[0] // batch_size\n",
    "for i in range(n_batches):\n",
    "    start = i * batch_size\n",
    "    end = start + batch_size\n",
    "    batch = L[start:end]\n",
    "    ipca.partial_fit(batch)\n",
    "    #print(f\"Processed batch {i+1}/{n_batches}\")\n",
    "\n",
    "# Transform the entire dataset using IPCA\n",
    "transformed_data = ipca.transform(L)\n",
    "end_time=time.time()\n",
    "\n",
    "elapsed_time = end_time - start_time\n",
    "\n",
    "print(\"Elapsed time:\", elapsed_time, \"seconds\")\n",
    "\n",
    "# Check the shape of the transformed data\n",
    "print(transformed_data.shape)\n"
   ]
  },
  {
   "cell_type": "code",
   "execution_count": 47,
   "id": "36d4f6b6",
   "metadata": {},
   "outputs": [],
   "source": [
    "x_train=transformed_data[:lap_train.shape[0]*3]\n",
    "x_val=transformed_data[lap_train.shape[0]*3:(lap_val.shape[0]*3)+(lap_train.shape[0]*3)]\n",
    "x_test=transformed_data[(lap_val.shape[0]*3)+(lap_train.shape[0]*3):]"
   ]
  },
  {
   "cell_type": "code",
   "execution_count": 48,
   "id": "27554a3d",
   "metadata": {},
   "outputs": [
    {
     "name": "stdout",
     "output_type": "stream",
     "text": [
      "(48849, 20000)\n",
      "(10467, 20000)\n",
      "(10470, 20000)\n"
     ]
    }
   ],
   "source": [
    "print(x_train.shape)\n",
    "print(x_val.shape)\n",
    "print(x_test.shape)"
   ]
  },
  {
   "cell_type": "code",
   "execution_count": 49,
   "id": "cb99ea64",
   "metadata": {},
   "outputs": [],
   "source": [
    "x_train=x_train.reshape(lap_train.shape[0],-1)\n",
    "x_val=x_val.reshape(lap_val.shape[0],-1)\n",
    "x_test=x_test.reshape(lap_test.shape[0],-1)\n"
   ]
  },
  {
   "cell_type": "code",
   "execution_count": 50,
   "id": "e6106398",
   "metadata": {},
   "outputs": [
    {
     "name": "stdout",
     "output_type": "stream",
     "text": [
      "(16283, 60000)\n",
      "(3489, 60000)\n",
      "(3490, 60000)\n"
     ]
    }
   ],
   "source": [
    "print(x_train.shape)\n",
    "print(x_val.shape)\n",
    "print(x_test.shape)"
   ]
  },
  {
   "cell_type": "markdown",
   "id": "6d9b021a",
   "metadata": {},
   "source": [
    "# IncrementalPCA"
   ]
  },
  {
   "cell_type": "code",
   "execution_count": 51,
   "id": "5efbc7cb",
   "metadata": {},
   "outputs": [],
   "source": [
    "input_shape = (x_train.shape[1],1)\n",
    "num_classes = classes\n",
    "model2 = tf.keras.models.Sequential()\n",
    "model2.add(tf.keras.layers.Conv1D(filters= 32, kernel_size=3, activation='relu',padding='same',input_shape= input_shape))\n",
    "model2.add(tf.keras.layers.AveragePooling1D())\n",
    "model2.add(tf.keras.layers.Conv1D(filters=32, kernel_size=3,padding='same',activation='relu'))\n",
    "model2.add(tf.keras.layers.AveragePooling1D())\n",
    "model2.add(tf.keras.layers.Conv1D(filters=32, kernel_size=3,padding='same',activation='relu'))\n",
    "model2.add(tf.keras.layers.AveragePooling1D())\n",
    "model2.add(tf.keras.layers.Flatten())\n",
    "model2.add(tf.keras.layers.Dense(512, activation='relu'))\n",
    "model2.add(tf.keras.layers.Dropout(0.1))\n",
    "model2.add(tf.keras.layers.Dense(512, activation='relu'))\n",
    "model2.add(tf.keras.layers.Dense(num_classes, activation='softmax'))\n",
    "\n",
    "model2.compile(loss='SparseCategoricalCrossentropy', optimizer='Adam', metrics=['acc'])\n"
   ]
  },
  {
   "cell_type": "code",
   "execution_count": 52,
   "id": "22cd2c4b",
   "metadata": {
    "scrolled": true
   },
   "outputs": [
    {
     "name": "stdout",
     "output_type": "stream",
     "text": [
      "Model: \"sequential\"\n",
      "_________________________________________________________________\n",
      " Layer (type)                Output Shape              Param #   \n",
      "=================================================================\n",
      " conv1d (Conv1D)             (None, 60000, 32)         128       \n",
      "                                                                 \n",
      " average_pooling1d (AverageP  (None, 30000, 32)        0         \n",
      " ooling1D)                                                       \n",
      "                                                                 \n",
      " conv1d_1 (Conv1D)           (None, 30000, 32)         3104      \n",
      "                                                                 \n",
      " average_pooling1d_1 (Averag  (None, 15000, 32)        0         \n",
      " ePooling1D)                                                     \n",
      "                                                                 \n",
      " conv1d_2 (Conv1D)           (None, 15000, 32)         3104      \n",
      "                                                                 \n",
      " average_pooling1d_2 (Averag  (None, 7500, 32)         0         \n",
      " ePooling1D)                                                     \n",
      "                                                                 \n",
      " flatten (Flatten)           (None, 240000)            0         \n",
      "                                                                 \n",
      " dense (Dense)               (None, 512)               122880512 \n",
      "                                                                 \n",
      " dropout (Dropout)           (None, 512)               0         \n",
      "                                                                 \n",
      " dense_1 (Dense)             (None, 512)               262656    \n",
      "                                                                 \n",
      " dense_2 (Dense)             (None, 2)                 1026      \n",
      "                                                                 \n",
      "=================================================================\n",
      "Total params: 123,150,530\n",
      "Trainable params: 123,150,530\n",
      "Non-trainable params: 0\n",
      "_________________________________________________________________\n"
     ]
    }
   ],
   "source": [
    "model2.summary()"
   ]
  },
  {
   "cell_type": "code",
   "execution_count": 53,
   "id": "2c42b2b9",
   "metadata": {},
   "outputs": [
    {
     "name": "stdout",
     "output_type": "stream",
     "text": [
      "Epoch 1/10\n",
      "509/509 [==============================] - 238s 462ms/step - loss: 0.6392 - acc: 0.6331 - val_loss: 0.6213 - val_acc: 0.6463\n",
      "Epoch 2/10\n",
      "509/509 [==============================] - 236s 464ms/step - loss: 0.5917 - acc: 0.6841 - val_loss: 0.6634 - val_acc: 0.6578\n",
      "Epoch 3/10\n",
      "509/509 [==============================] - 235s 462ms/step - loss: 0.5380 - acc: 0.7204 - val_loss: 0.6476 - val_acc: 0.6354\n",
      "Epoch 4/10\n",
      "509/509 [==============================] - 233s 457ms/step - loss: 0.4282 - acc: 0.7962 - val_loss: 0.8084 - val_acc: 0.6523\n",
      "Epoch 5/10\n",
      "509/509 [==============================] - 240s 472ms/step - loss: 0.2486 - acc: 0.8964 - val_loss: 1.1257 - val_acc: 0.6420\n",
      "Epoch 6/10\n",
      "509/509 [==============================] - 255s 501ms/step - loss: 0.1078 - acc: 0.9593 - val_loss: 1.5975 - val_acc: 0.6412\n",
      "Epoch 7/10\n",
      "509/509 [==============================] - 255s 501ms/step - loss: 0.0503 - acc: 0.9823 - val_loss: 1.8896 - val_acc: 0.6337\n",
      "Epoch 8/10\n",
      "509/509 [==============================] - 254s 499ms/step - loss: 0.0415 - acc: 0.9869 - val_loss: 2.1249 - val_acc: 0.6403\n",
      "Epoch 9/10\n",
      "509/509 [==============================] - 260s 511ms/step - loss: 0.0334 - acc: 0.9873 - val_loss: 2.2438 - val_acc: 0.6174\n",
      "Epoch 10/10\n",
      "509/509 [==============================] - 268s 527ms/step - loss: 0.0289 - acc: 0.9904 - val_loss: 2.0114 - val_acc: 0.6435\n"
     ]
    }
   ],
   "source": [
    "history_log=model2.fit(x_train, reg_train_label, epochs=10,verbose=1,validation_data=(x_val, reg_val_label))\n"
   ]
  },
  {
   "cell_type": "code",
   "execution_count": 54,
   "id": "f91e3ce2",
   "metadata": {
    "scrolled": false
   },
   "outputs": [
    {
     "name": "stdout",
     "output_type": "stream",
     "text": [
      "110/110 [==============================] - 9s 82ms/step - loss: 2.0807 - acc: 0.6272\n",
      " Model loss on the test set: 2.080735921859741\n",
      " Model accuracy on the test set: 62.722063064575195\n"
     ]
    }
   ],
   "source": [
    "loss, accuracy = model2.evaluate(x_test, reg_test_label)\n",
    "print(f' Model loss on the test set: {loss}')\n",
    "print(f' Model accuracy on the test set: {100*accuracy}')"
   ]
  },
  {
   "cell_type": "code",
   "execution_count": 55,
   "id": "c5ceb4b6",
   "metadata": {},
   "outputs": [],
   "source": [
    "predictions = model2.predict(x_test)\n",
    "pred_arg = np.argmax(predictions, axis=1)"
   ]
  },
  {
   "cell_type": "code",
   "execution_count": 56,
   "id": "fe4b2358",
   "metadata": {},
   "outputs": [
    {
     "name": "stdout",
     "output_type": "stream",
     "text": [
      "cnf_matrix_2.0_70\n",
      "\n",
      "[[1039  679]\n",
      " [ 622 1150]]\n"
     ]
    }
   ],
   "source": [
    "from sklearn.metrics import confusion_matrix\n",
    "cnf_matrix=confusion_matrix(reg_test_label,pred_arg)\n",
    "print(\"cnf_matrix_2.0_70\")\n",
    "print(\"\")\n",
    "print(cnf_matrix)"
   ]
  },
  {
   "cell_type": "code",
   "execution_count": 57,
   "id": "da91a9dc",
   "metadata": {},
   "outputs": [],
   "source": [
    "from sklearn.metrics import accuracy_score, recall_score,precision_score,roc_auc_score,roc_curve,f1_score\n"
   ]
  },
  {
   "cell_type": "code",
   "execution_count": 58,
   "id": "faa0fdd1",
   "metadata": {},
   "outputs": [
    {
     "name": "stdout",
     "output_type": "stream",
     "text": [
      "0.6272206303724929\n",
      "0.6268431568324836\n",
      "0.6272206303724929\n",
      "0.6271678425982342\n"
     ]
    }
   ],
   "source": [
    "print(accuracy_score(reg_test_label, pred_arg))\n",
    "print(f1_score(reg_test_label,pred_arg,average='macro'))\n",
    "print(recall_score(reg_test_label, pred_arg, average=\"weighted\"))\n",
    "print(precision_score(reg_test_label, pred_arg, average=\"weighted\"))"
   ]
  },
  {
   "cell_type": "code",
   "execution_count": null,
   "id": "58ea91e1",
   "metadata": {},
   "outputs": [],
   "source": []
  },
  {
   "cell_type": "code",
   "execution_count": null,
   "id": "cdecf84f",
   "metadata": {},
   "outputs": [],
   "source": []
  },
  {
   "cell_type": "code",
   "execution_count": null,
   "id": "7e15935d",
   "metadata": {},
   "outputs": [],
   "source": []
  },
  {
   "cell_type": "code",
   "execution_count": null,
   "id": "d949d814",
   "metadata": {},
   "outputs": [],
   "source": []
  }
 ],
 "metadata": {
  "anaconda-cloud": {},
  "kernelspec": {
   "display_name": "Python [conda env:root] *",
   "language": "python",
   "name": "conda-root-py"
  },
  "language_info": {
   "codemirror_mode": {
    "name": "ipython",
    "version": 3
   },
   "file_extension": ".py",
   "mimetype": "text/x-python",
   "name": "python",
   "nbconvert_exporter": "python",
   "pygments_lexer": "ipython3",
   "version": "3.9.12"
  }
 },
 "nbformat": 4,
 "nbformat_minor": 5
}
